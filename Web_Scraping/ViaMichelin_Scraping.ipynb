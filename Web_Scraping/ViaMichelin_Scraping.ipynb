{
 "cells": [
  {
   "cell_type": "code",
   "execution_count": 114,
   "id": "df9bf933-a4fd-4529-a778-ece3764c56e1",
   "metadata": {},
   "outputs": [
    {
     "name": "stdout",
     "output_type": "stream",
     "text": [
      "/Users/vadramandisang/Documents/Vadrama/data/Product/ViaMichelin_Scraping\n"
     ]
    }
   ],
   "source": [
    "!pwd"
   ]
  },
  {
   "cell_type": "code",
   "execution_count": 207,
   "id": "67e91daa-fe74-47d4-a130-1febff577c68",
   "metadata": {},
   "outputs": [
    {
     "name": "stdout",
     "output_type": "stream",
     "text": [
      "Requirement already satisfied: sqlalchemy in /Users/vadramandisang/opt/anaconda3/lib/python3.8/site-packages (1.4.7)\n",
      "Requirement already satisfied: greenlet!=0.4.17 in /Users/vadramandisang/opt/anaconda3/lib/python3.8/site-packages (from sqlalchemy) (1.0.0)\n"
     ]
    }
   ],
   "source": [
    "!pip install sqlalchemy"
   ]
  },
  {
   "cell_type": "code",
   "execution_count": null,
   "id": "15e2dbd7-9c88-4627-93d1-e009e3ba2047",
   "metadata": {},
   "outputs": [],
   "source": [
    "import requests\n",
    "from bs4 import BeautifulSoup\n",
    "import pandas as pd\n",
    "import uuid\n",
    "import hashlib\n",
    "from snowflake.sqlalchemy import URL\n",
    "from sqlalchemy import create_engine\n",
    "import json"
   ]
  },
  {
   "cell_type": "code",
   "execution_count": null,
   "id": "bf204c1e-ea43-4a66-adb0-99646f2b06a7",
   "metadata": {},
   "outputs": [
    {
     "data": {
      "text/plain": [
       "<sqlalchemy.engine.base.Connection at 0x10b923a90>"
      ]
     },
     "execution_count": 2,
     "metadata": {},
     "output_type": "execute_result"
    }
   ],
   "source": [
    "# Load the Snowflake configuration from the JSON file\n",
    "with open(\"snow_cred.json\") as f:\n",
    "    config = json.load(f)\n",
    "    \n",
    "    \n",
    "# Creating Snowflake Connection\n",
    "snow_engine = create_engine(URL(\n",
    "    account = config['account'],\n",
    "    user = config['user'],\n",
    "    password = config['password'],\n",
    "    database = config['database'],\n",
    "    schema = config['schema'],\n",
    "    warehouse = config['warehouse'],\n",
    "    role= config['role']\n",
    "))\n",
    "\n",
    "snow_connection = snow_engine.connect()\n",
    "snow_connection"
   ]
  },
  {
   "cell_type": "code",
   "execution_count": null,
   "id": "e1c3a0ab-6c2c-48b9-904a-dab64568785b",
   "metadata": {},
   "outputs": [],
   "source": [
    "country_url_list = ['https://www.viamichelin.fr/web/Stations-service?address=Czechia',]\n",
    "countries = ['France', 'United Kingdom', 'Switzerland', 'Germany', 'Belgium', 'Netherlands', 'Spain', 'Luxembourg', 'Czech Republic', 'Italy']\n",
    "# 'https://www.viamichelin.fr/web/Stations-service?address=France',"
   ]
  },
  {
   "cell_type": "code",
   "execution_count": null,
   "id": "e669b068-6897-44cd-9958-21797d4709da",
   "metadata": {},
   "outputs": [],
   "source": [
    "countries = ['France', 'United Kingdom', 'Switzerland', 'Germany', 'Belgium', 'Netherlands', 'Spain', 'Luxembourg', 'Czech Republic', 'Italy']\n",
    "\n",
    "country_url_list = ['https://www.viamichelin.fr/web/Stations-service?address=France', 'https://www.viamichelin.fr/web/Stations-service?address=united%20kingdom', 'https://www.viamichelin.fr/web/Stations-service?address=switzerland', 'https://www.viamichelin.fr/web/Stations-service?address=germany', 'https://www.viamichelin.fr/web/Stations-service?address=Belgium', 'https://www.viamichelin.fr/web/Stations-service?address=netherlands', 'https://www.viamichelin.fr/web/Stations-service?address=spain', 'https://www.viamichelin.fr/web/Stations-service?address=luxemburg', 'https://www.viamichelin.fr/web/Stations-service?address=Czechia', 'https://www.viamichelin.fr/web/Stations-service?address=Italy']\n",
    "\n"
   ]
  },
  {
   "cell_type": "markdown",
   "id": "fadf4723-4f43-4d2d-93bc-74fa2dcb1212",
   "metadata": {},
   "source": [
    "## Working Script"
   ]
  },
  {
   "cell_type": "code",
   "execution_count": 6,
   "id": "4b63d279-144c-4721-a5cf-05b893b2f60e",
   "metadata": {
    "tags": []
   },
   "outputs": [
    {
     "ename": "ModuleNotFoundError",
     "evalue": "No module named 'deepparse'",
     "output_type": "error",
     "traceback": [
      "\u001b[0;31m---------------------------------------------------------------------------\u001b[0m",
      "\u001b[0;31mModuleNotFoundError\u001b[0m                       Traceback (most recent call last)",
      "Input \u001b[0;32mIn [6]\u001b[0m, in \u001b[0;36m<cell line: 12>\u001b[0;34m()\u001b[0m\n\u001b[1;32m     10\u001b[0m \u001b[38;5;28;01mfrom\u001b[39;00m \u001b[38;5;21;01msqlalchemy\u001b[39;00m \u001b[38;5;28;01mimport\u001b[39;00m create_engine\n\u001b[1;32m     11\u001b[0m \u001b[38;5;28;01mimport\u001b[39;00m \u001b[38;5;21;01mjson\u001b[39;00m\n\u001b[0;32m---> 12\u001b[0m \u001b[38;5;28;01mfrom\u001b[39;00m \u001b[38;5;21;01mdeepparse\u001b[39;00m\u001b[38;5;21;01m.\u001b[39;00m\u001b[38;5;21;01mparser\u001b[39;00m \u001b[38;5;28;01mimport\u001b[39;00m AddressParser\n\u001b[1;32m     13\u001b[0m \u001b[38;5;28;01mfrom\u001b[39;00m \u001b[38;5;21;01mdeepparse\u001b[39;00m\u001b[38;5;21;01m.\u001b[39;00m\u001b[38;5;21;01mdataset_container\u001b[39;00m \u001b[38;5;28;01mimport\u001b[39;00m CSVDatasetContainer\n\u001b[1;32m     15\u001b[0m address_parser \u001b[38;5;241m=\u001b[39m AddressParser(model_type\u001b[38;5;241m=\u001b[39m\u001b[38;5;124m\"\u001b[39m\u001b[38;5;124mbpemb\u001b[39m\u001b[38;5;124m\"\u001b[39m, device\u001b[38;5;241m=\u001b[39m\u001b[38;5;241m0\u001b[39m)\n",
      "\u001b[0;31mModuleNotFoundError\u001b[0m: No module named 'deepparse'"
     ]
    }
   ],
   "source": [
    "#!/usr/bin/env python3\n",
    "\n",
    "\n",
    "import requests\n",
    "from bs4 import BeautifulSoup\n",
    "import pandas as pd\n",
    "import uuid\n",
    "import hashlib\n",
    "from snowflake.sqlalchemy import URL\n",
    "from sqlalchemy import create_engine\n",
    "import json\n",
    "from deepparse.parser import AddressParser\n",
    "from deepparse.dataset_container import CSVDatasetContainer\n",
    "\n",
    "address_parser = AddressParser(model_type=\"bpemb\", device=0)\n",
    "\n",
    "\n",
    "# Load the Snowflake configuration from the JSON file\n",
    "with open(\"snow_cred.json\") as f:\n",
    "    config = json.load(f)\n",
    "    \n",
    "    \n",
    "# Creating Snowflake Connection\n",
    "snow_engine = create_engine(URL(\n",
    "    account = config['account'],\n",
    "    user = config['user'],\n",
    "    password = config['password'],\n",
    "    database = config['database'],\n",
    "    schema = config['schema'],\n",
    "    warehouse = config['warehouse'],\n",
    "    role= config['role']\n",
    "))\n",
    "\n",
    "snow_connection = snow_engine.connect()\n",
    "snow_connection\n",
    "\n",
    "\n",
    "countries = ['France', 'United Kingdom', 'Switzerland', 'Germany', 'Belgium', 'Netherlands', 'Spain', 'Luxembourg', 'Czech Republic', 'Italy']\n",
    "country_url_list = ['https://www.viamichelin.fr/web/Stations-service?address=France', 'https://www.viamichelin.fr/web/Stations-service?address=united%20kingdom', 'https://www.viamichelin.fr/web/Stations-service?address=switzerland', 'https://www.viamichelin.fr/web/Stations-service?address=germany', 'https://www.viamichelin.fr/web/Stations-service?address=Belgium', 'https://www.viamichelin.fr/web/Stations-service?address=netherlands', 'https://www.viamichelin.fr/web/Stations-service?address=spain', 'https://www.viamichelin.fr/web/Stations-service?address=luxemburg', 'https://www.viamichelin.fr/web/Stations-service?address=Czechia', 'https://www.viamichelin.fr/web/Stations-service?address=Italy']\n",
    "\n",
    "\n",
    "def get_rqt(url):\n",
    "    r = requests.get(url)\n",
    "    sp = BeautifulSoup(r.content, 'html.parser')\n",
    "    return sp\n",
    "\n",
    "\n",
    "def get_pagi_url_max_num(page_n):\n",
    "    pg = BeautifulSoup(str(page_n[0]), 'html.parser')\n",
    "    pg_a = pg.findAll('a')\n",
    "\n",
    "    if len(pg_a) > 0:\n",
    "        pg_a = pg_a[-1]\n",
    "        pgination_url = pg_a['href']\n",
    "        pgination_url = pgination_url[0:pgination_url.index('=')+1]\n",
    "        max_pg = int(pg_a.get_text())\n",
    "        return pgination_url, max_pg\n",
    "    \n",
    "    \n",
    "def get_pagination(url):\n",
    "    r = requests.get(url)\n",
    "    #print(r)\n",
    "    soup = BeautifulSoup(r.content, 'html.parser')\n",
    "    page_n = soup.findAll(\"p\", class_=\"pagination-second-line\")\n",
    "    return page_n\n",
    "\n",
    "\n",
    "def save_data(data_df):\n",
    "    target_table = 'viamichelin_stations'\n",
    "    del_id_lst = str(list(data_df['id'])).replace('[','(').replace(']',')') \n",
    "    try:\n",
    "        # Delete existing rows to be updated with new version\n",
    "        del_existing_rows_query = \"DELETE FROM \" +target_table+ \" WHERE id IN \" + del_id_lst\n",
    "        #print('Del Query is ', del_existing_rows_query)\n",
    "        with snow_engine.connect() as conn:\n",
    "            conn.execute(del_existing_rows_query)\n",
    "\n",
    "        # Save data in the DataFrame    \n",
    "        data_df.to_sql(target_table, con=snow_engine, schema='EXTERNAL_TABLES', index=False, if_exists='append')\n",
    "        print(data_df.loc[0])\n",
    "        data_df = pd.DataFrame()\n",
    "    except Exception as err:\n",
    "        print(err)    \n",
    "        \n",
    "\n",
    "# Parse Addresses and get 'Street_Number', 'Street_Name', 'City', and 'Postal_Code'\n",
    "def parse_addresses(address):\n",
    "    try:\n",
    "        parse_res = address_parser(address)\n",
    "        result =  [str(parse_res.StreetNumber), str(parse_res.StreetName).title(), str(parse_res.Municipality).title(), str(parse_res.PostalCode)]\n",
    "        return result\n",
    "    except:\n",
    "        return ['', '', '', '']\n",
    "\n",
    "\n",
    "    \n",
    "def get_and_save_data(url, ctry):\n",
    "    r = requests.get(url)\n",
    "    print(ctry, url, r)\n",
    "    soup = BeautifulSoup(r.content, 'html.parser')\n",
    "\n",
    "    # Get station Names\n",
    "    station_names = soup.findAll('div', class_='poi-item-name truncate')\n",
    "    station_names = [val.get_text() for val in station_names]\n",
    "\n",
    "    # Get station Addresses\n",
    "    station_address = soup.findAll('div', class_=\"poi-item-details-address truncate\")\n",
    "    station_address = [val.get_text() for val in station_address]\n",
    "    print(len(station_names), len(station_address))\n",
    "    #print(station_names,'\\n\\n', station_address)\n",
    "\n",
    "    # Combine the Scrapped data into a list ready to be converted into a DataFrame\n",
    "    dat_zip = zip(station_names, station_address)\n",
    "\n",
    "    zipped_dat = list(dat_zip)\n",
    "    dat_zip = ''\n",
    "    data = [list(i) for i in zipped_dat]\n",
    "    zipped_dat.clear()\n",
    "    \n",
    "    # Clear the list to save memory        \n",
    "    station_names.clear()\n",
    "    station_address.clear()\n",
    "    \n",
    "\n",
    "    # Create DataFrame from the data list\n",
    "    data_df = pd.DataFrame(data, columns=['Station_Name', 'Station_Address'])\n",
    "    data.clear()\n",
    "\n",
    "    # Generate a UUID for each row based on the values in 'Station_Name' and 'Station_Address'\n",
    "    generate_uuid = lambda row: uuid.uuid5(uuid.NAMESPACE_DNS, str(row['Station_Name']) + str(row['Station_Address'])).hex\n",
    "    \n",
    "    # Enrich Station Address here\n",
    "    enriched_df = pd.DataFrame(data_df.apply(lambda x: parse_addresses(x['Station_Address']), axis=1 ).tolist(), columns = ['Street_Number', 'Street_Name', 'City', 'Postal_Code'])\n",
    "\n",
    "\n",
    "    # Add new columns to the created DataFrame\n",
    "    data_df['id'] = data_df.apply(generate_uuid, axis=1)\n",
    "\n",
    "    # Add the new DataFrame to the old one by concatenating the dataframes vertically\n",
    "    # Concatenate the two DataFrames and Rearrange the new DataFrame\n",
    "    data_df = pd.concat([data_df, enriched_df], axis=1)[['id','Station_Name', 'Station_Address', 'Street_Number', 'Street_Name', 'City', 'Postal_Code']]\n",
    "\n",
    "    #print('Len data_fr -> ', len(data_df), 'Len enriched_df -> ', len(enriched_df))\n",
    "    \n",
    " \n",
    "    # Add the column country to the DataFrame\n",
    "    data_df[\"country\"] = ctry\n",
    "    \n",
    "    #print('Len data_df -> ', len(data_df))\n",
    "    # Save the Data to DB\n",
    "    save_data(data_df)\n",
    "    enriched_df = pd.DataFrame()\n",
    "    print('SAVED')\n",
    "\n",
    "        \n",
    "\n",
    "for url, ctry in zip(country_url_list, countries):\n",
    "    try:\n",
    "        # Scrape the page and save data\n",
    "        get_and_save_data(url, ctry)        \n",
    "        \n",
    "        # Get and prepare Pagination        \n",
    "        page_n = get_pagination(url)\n",
    "        if get_pagi_url_max_num(page_n):\n",
    "            #print('More')\n",
    "            pgination_url, max_pg = get_pagi_url_max_num(page_n)\n",
    "            for i in range(2, max_pg + 1):  # range(2, max_pg+1)\n",
    "                get_and_save_data(pgination_url+str(i), ctry)\n",
    "        else:\n",
    "            #print('less')\n",
    "            continue\n",
    "        \n",
    "    except Exception as err:\n",
    "        print(err)\n",
    "        "
   ]
  },
  {
   "cell_type": "code",
   "execution_count": null,
   "id": "083e47b8-f8ff-4d40-a64a-0ad5b628a8ca",
   "metadata": {},
   "outputs": [],
   "source": []
  },
  {
   "cell_type": "code",
   "execution_count": null,
   "id": "895a4652-c766-4f1f-a363-023cf523f234",
   "metadata": {},
   "outputs": [],
   "source": []
  },
  {
   "cell_type": "code",
   "execution_count": 12,
   "id": "6d4b15d4-b588-400b-84c2-e1e2300a154a",
   "metadata": {
    "collapsed": true,
    "jupyter": {
     "outputs_hidden": true
    },
    "tags": []
   },
   "outputs": [
    {
     "name": "stdout",
     "output_type": "stream",
     "text": [
      "France https://www.viamichelin.fr/web/Stations-service?address=France <Response [200]>\n",
      "48 48\n",
      "<class 'NoneType'>\n",
      "Location not found\n",
      "<class 'NoneType'>\n",
      "Location not found\n",
      "<class 'NoneType'>\n",
      "Location not found\n",
      "<class 'geopy.location.Location'>\n",
      "{'place_id': 100363813, 'licence': 'Data © OpenStreetMap contributors, ODbL 1.0. https://osm.org/copyright', 'osm_type': 'way', 'osm_id': 4710350, 'boundingbox': ['48.8349979', '48.8353329', '-1.2192066', '-1.2187055'], 'lat': '48.8350853', 'lon': '-1.2187997', 'display_name': 'Route de Vire, La Croix au Grand, Villedieu-les-Poêles, Villedieu-les-Poêles-Rouffigny, Saint-Lô, Manche, Normandie, France métropolitaine, 50800, France', 'class': 'highway', 'type': 'primary', 'importance': 0.6000099999999999}\n",
      "<class 'geopy.location.Location'>\n",
      "{'place_id': 278455470, 'licence': 'Data © OpenStreetMap contributors, ODbL 1.0. https://osm.org/copyright', 'osm_type': 'way', 'osm_id': 925966642, 'boundingbox': ['43.6879612', '43.6880001', '4.2731883', '4.2732285'], 'lat': '43.6879925', 'lon': '4.2732199', 'display_name': 'Avenue de la Condamine, Lotissement La Vallée Verte, Vauvert, Nîmes, Gard, Occitanie, France métropolitaine, 30600, France', 'class': 'highway', 'type': 'tertiary', 'importance': 0.71}\n",
      "<class 'NoneType'>\n",
      "Location not found\n",
      "<class 'NoneType'>\n",
      "Location not found\n",
      "<class 'geopy.location.Location'>\n",
      "{'place_id': 227882806, 'licence': 'Data © OpenStreetMap contributors, ODbL 1.0. https://osm.org/copyright', 'osm_type': 'way', 'osm_id': 591318180, 'boundingbox': ['49.1113684', '49.1723649', '4.1705646', '4.2520204'], 'lat': '49.1435785', 'lon': '4.2131443', 'display_name': 'Autoroute de l’Est, Val-de-Vesle, Reims, Marne, Grand Est, France métropolitaine, 51360, France', 'class': 'highway', 'type': 'motorway', 'importance': 0.50001}\n",
      "<class 'NoneType'>\n",
      "Location not found\n",
      "<class 'geopy.location.Location'>\n",
      "{'place_id': 3442602, 'licence': 'Data © OpenStreetMap contributors, ODbL 1.0. https://osm.org/copyright', 'osm_type': 'node', 'osm_id': 442366814, 'boundingbox': ['48.9932865', '48.9933865', '1.6289813', '1.6290813'], 'lat': '48.9933365', 'lon': '1.6290313', 'display_name': 'Aire Sud de Rosny-sur-Seine, Autoroute de Normandie, Rosny-sur-Seine, Mantes-la-Jolie, Yvelines, Île-de-France, France métropolitaine, 78710, France', 'class': 'highway', 'type': 'motorway_junction', 'importance': 0.8101}\n",
      "<class 'list'> \n",
      "Now Appending enriched_address...\n",
      "DataFrame to SAVE\n",
      "\n",
      "                                  id                 Station_Name  \\\n",
      "0  c3bc917a0526548182794c231af48ceb  RELAIS ST GERMAIN L ARPAJON   \n",
      "1  591a9af89eb955549869407ed54cc85f             RELAIS BACONNETS   \n",
      "2  65213a967a835a6b8d8ae7d66cd2ef34                RELAIS VELIZY   \n",
      "3  2392873b80645709b79ebc7afaf057f0             CARREFOUR Market   \n",
      "4  fba837ca6eff525a8f39dfea4f4bf981             Carrefour Market   \n",
      "\n",
      "                                     Station_Address Street City Postcode  \\\n",
      "0  25 ROUTE D'ORLEANS RN 20, 91180 Saint-Germain-...    NaN  NaN      NaN   \n",
      "1          100 AV DU PRESIDENT KENNEDY, 92160 ANTONY    NaN  NaN      NaN   \n",
      "2  AUTOROUTE A86 - AIRE DE VELIZY OUEST, 78140 Vé...    NaN  NaN      NaN   \n",
      "3                      route de vire, 50000 Saint-Lô    NaN  NaN      NaN   \n",
      "4              Avenue de la Condamine, 30600 VAUVERT    NaN  NaN      NaN   \n",
      "\n",
      "  Latitude Longitude Place_id country  \n",
      "0      NaN       NaN      NaN  France  \n",
      "1      NaN       NaN      NaN  France  \n",
      "2      NaN       NaN      NaN  France  \n",
      "3      NaN       NaN      NaN  France  \n",
      "4      NaN       NaN      NaN  France  \n",
      "(snowflake.connector.errors.ProgrammingError) 000904 (42000): SQL compilation error: error line 1 at position 406\n",
      "invalid identifier 'NAN'\n",
      "[SQL: DELETE FROM viamichelin_stations WHERE id IN ('c3bc917a0526548182794c231af48ceb', '591a9af89eb955549869407ed54cc85f', '65213a967a835a6b8d8ae7d66cd2ef34', '2392873b80645709b79ebc7afaf057f0', 'fba837ca6eff525a8f39dfea4f4bf981', 'b88cb4ee073457e88d3b7bfebb8c5cdf', '0e226255f7895ae78815914338a2682f', '5513080bfb935bedadd314f12843f941', '6c6c7454003b55178e8ce2a9eef741b6', 'ad613332db65565288cfad42ae9e0920', nan)]\n",
      "(Background on this error at: https://sqlalche.me/e/14/f405)\n",
      "More\n",
      "France https://www.viamichelin.fr/web/Stations-service/Stations-service-France?page=2 <Response [200]>\n",
      "48 48\n",
      "<class 'geopy.location.Location'>\n",
      "{'place_id': 183104967, 'licence': 'Data © OpenStreetMap contributors, ODbL 1.0. https://osm.org/copyright', 'osm_type': 'way', 'osm_id': 323599797, 'boundingbox': ['50.652339', '50.6552534', '2.837552', '2.8420995'], 'lat': '50.6540527', 'lon': '2.8399556', 'display_name': 'Rue des Glattignies, Fleurbaix, Béthune, Pas-de-Calais, Hauts-de-France, France métropolitaine, 62840, France', 'class': 'highway', 'type': 'secondary', 'importance': 0.6200099999999998}\n",
      "<class 'NoneType'>\n",
      "Location not found\n",
      "<class 'geopy.location.Location'>\n",
      "{'place_id': 116745119, 'licence': 'Data © OpenStreetMap contributors, ODbL 1.0. https://osm.org/copyright', 'osm_type': 'way', 'osm_id': 40108349, 'boundingbox': ['43.9892243', '43.9921154', '1.3307643', '1.3335824'], 'lat': '43.9905381', 'lon': '1.3317842', 'display_name': \"Avenue de l'Europe, Albasud, Montauban, Tarn-et-Garonne, Occitanie, France métropolitaine, 82000, France\", 'class': 'highway', 'type': 'tertiary', 'importance': 0.71}\n",
      "<class 'geopy.location.Location'>\n",
      "{'place_id': 41545555, 'licence': 'Data © OpenStreetMap contributors, ODbL 1.0. https://osm.org/copyright', 'osm_type': 'node', 'osm_id': 3286282647, 'boundingbox': ['48.8449142', '48.8450142', '2.2714665', '2.2715665'], 'lat': '48.8449642', 'lon': '2.2715165', 'display_name': \"BP, 99, Avenue de Versailles, Quartier d'Auteuil, Paris 16e Arrondissement, Paris, Île-de-France, France métropolitaine, 75016, France\", 'class': 'amenity', 'type': 'fuel', 'importance': 0.6300999999999999, 'icon': 'https://nominatim.openstreetmap.org/ui/mapicons/transport_fuel.p.20.png'}\n",
      "<class 'geopy.location.Location'>\n",
      "{'place_id': 124450711, 'licence': 'Data © OpenStreetMap contributors, ODbL 1.0. https://osm.org/copyright', 'osm_type': 'way', 'osm_id': 86627878, 'boundingbox': ['50.0593323', '50.0598491', '1.8971493', '1.8978654'], 'lat': '50.0598196', 'lon': '1.8971902', 'display_name': 'Rue Jean Moulin, Pont-Remy, Abbeville, Somme, Hauts-de-France, France métropolitaine, 80580, France', 'class': 'highway', 'type': 'primary', 'importance': 0.71}\n",
      "<class 'NoneType'>\n",
      "Location not found\n",
      "<class 'NoneType'>\n",
      "Location not found\n",
      "<class 'NoneType'>\n",
      "Location not found\n"
     ]
    },
    {
     "ename": "KeyboardInterrupt",
     "evalue": "",
     "output_type": "error",
     "traceback": [
      "\u001b[0;31m---------------------------------------------------------------------------\u001b[0m",
      "\u001b[0;31mKeyboardInterrupt\u001b[0m                         Traceback (most recent call last)",
      "Input \u001b[0;32mIn [12]\u001b[0m, in \u001b[0;36m<cell line: 196>\u001b[0;34m()\u001b[0m\n\u001b[1;32m    205\u001b[0m     pgination_url, max_pg \u001b[38;5;241m=\u001b[39m get_pagi_url_max_num(page_n)\n\u001b[1;32m    206\u001b[0m     \u001b[38;5;28;01mfor\u001b[39;00m i \u001b[38;5;129;01min\u001b[39;00m \u001b[38;5;28mrange\u001b[39m(\u001b[38;5;241m2\u001b[39m, max_pg \u001b[38;5;241m+\u001b[39m \u001b[38;5;241m1\u001b[39m):  \u001b[38;5;66;03m# range(2, max_pg+1)\u001b[39;00m\n\u001b[0;32m--> 207\u001b[0m         \u001b[43mget_and_save_data\u001b[49m\u001b[43m(\u001b[49m\u001b[43mpgination_url\u001b[49m\u001b[38;5;241;43m+\u001b[39;49m\u001b[38;5;28;43mstr\u001b[39;49m\u001b[43m(\u001b[49m\u001b[43mi\u001b[49m\u001b[43m)\u001b[49m\u001b[43m,\u001b[49m\u001b[43m \u001b[49m\u001b[43mctry\u001b[49m\u001b[43m)\u001b[49m\n\u001b[1;32m    208\u001b[0m \u001b[38;5;28;01melse\u001b[39;00m:\n\u001b[1;32m    209\u001b[0m     \u001b[38;5;28mprint\u001b[39m(\u001b[38;5;124m'\u001b[39m\u001b[38;5;124mless\u001b[39m\u001b[38;5;124m'\u001b[39m)\n",
      "Input \u001b[0;32mIn [12]\u001b[0m, in \u001b[0;36mget_and_save_data\u001b[0;34m(url, ctry)\u001b[0m\n\u001b[1;32m    174\u001b[0m generate_uuid \u001b[38;5;241m=\u001b[39m \u001b[38;5;28;01mlambda\u001b[39;00m row: uuid\u001b[38;5;241m.\u001b[39muuid5(uuid\u001b[38;5;241m.\u001b[39mNAMESPACE_DNS, \u001b[38;5;28mstr\u001b[39m(row[\u001b[38;5;124m'\u001b[39m\u001b[38;5;124mStation_Name\u001b[39m\u001b[38;5;124m'\u001b[39m]) \u001b[38;5;241m+\u001b[39m \u001b[38;5;28mstr\u001b[39m(row[\u001b[38;5;124m'\u001b[39m\u001b[38;5;124mStation_Address\u001b[39m\u001b[38;5;124m'\u001b[39m]))\u001b[38;5;241m.\u001b[39mhex\n\u001b[1;32m    176\u001b[0m \u001b[38;5;66;03m# Enrich Station Address here\u001b[39;00m\n\u001b[0;32m--> 177\u001b[0m enriched_address_df \u001b[38;5;241m=\u001b[39m \u001b[43msplit_address\u001b[49m\u001b[43m(\u001b[49m\u001b[38;5;28;43mlist\u001b[39;49m\u001b[43m(\u001b[49m\u001b[43mdata_df\u001b[49m\u001b[43m[\u001b[49m\u001b[38;5;124;43m'\u001b[39;49m\u001b[38;5;124;43mStation_Address\u001b[39;49m\u001b[38;5;124;43m'\u001b[39;49m\u001b[43m]\u001b[49m\u001b[43m)\u001b[49m\u001b[43m)\u001b[49m        \n\u001b[1;32m    179\u001b[0m \u001b[38;5;66;03m# Add new columns to the created DataFrame    \u001b[39;00m\n\u001b[1;32m    180\u001b[0m data_df[\u001b[38;5;124m'\u001b[39m\u001b[38;5;124mid\u001b[39m\u001b[38;5;124m'\u001b[39m] \u001b[38;5;241m=\u001b[39m data_df\u001b[38;5;241m.\u001b[39mapply(generate_uuid, axis\u001b[38;5;241m=\u001b[39m\u001b[38;5;241m1\u001b[39m)\n",
      "Input \u001b[0;32mIn [12]\u001b[0m, in \u001b[0;36msplit_address\u001b[0;34m(station_address)\u001b[0m\n\u001b[1;32m    114\u001b[0m \u001b[38;5;28;01mfor\u001b[39;00m i \u001b[38;5;129;01min\u001b[39;00m station_address:\n\u001b[1;32m    115\u001b[0m     new_station_address \u001b[38;5;241m=\u001b[39m []\n\u001b[0;32m--> 116\u001b[0m     location \u001b[38;5;241m=\u001b[39m \u001b[43mgeolocator\u001b[49m\u001b[38;5;241;43m.\u001b[39;49m\u001b[43mgeocode\u001b[49m\u001b[43m(\u001b[49m\u001b[43mi\u001b[49m\u001b[43m)\u001b[49m \u001b[38;5;66;03m# 18 Hauptstrasse, 3752 Wimmis\u001b[39;00m\n\u001b[1;32m    117\u001b[0m     \u001b[38;5;28mprint\u001b[39m(\u001b[38;5;28mtype\u001b[39m(location))\n\u001b[1;32m    118\u001b[0m     \u001b[38;5;28;01mif\u001b[39;00m location:\n",
      "File \u001b[0;32m~/opt/anaconda3/envs/route_env/lib/python3.10/site-packages/geopy/geocoders/nominatim.py:297\u001b[0m, in \u001b[0;36mNominatim.geocode\u001b[0;34m(self, query, exactly_one, timeout, limit, addressdetails, language, geometry, extratags, country_codes, viewbox, bounded, featuretype, namedetails)\u001b[0m\n\u001b[1;32m    295\u001b[0m logger\u001b[38;5;241m.\u001b[39mdebug(\u001b[38;5;124m\"\u001b[39m\u001b[38;5;132;01m%s\u001b[39;00m\u001b[38;5;124m.geocode: \u001b[39m\u001b[38;5;132;01m%s\u001b[39;00m\u001b[38;5;124m\"\u001b[39m, \u001b[38;5;28mself\u001b[39m\u001b[38;5;241m.\u001b[39m\u001b[38;5;18m__class__\u001b[39m\u001b[38;5;241m.\u001b[39m\u001b[38;5;18m__name__\u001b[39m, url)\n\u001b[1;32m    296\u001b[0m callback \u001b[38;5;241m=\u001b[39m partial(\u001b[38;5;28mself\u001b[39m\u001b[38;5;241m.\u001b[39m_parse_json, exactly_one\u001b[38;5;241m=\u001b[39mexactly_one)\n\u001b[0;32m--> 297\u001b[0m \u001b[38;5;28;01mreturn\u001b[39;00m \u001b[38;5;28;43mself\u001b[39;49m\u001b[38;5;241;43m.\u001b[39;49m\u001b[43m_call_geocoder\u001b[49m\u001b[43m(\u001b[49m\u001b[43murl\u001b[49m\u001b[43m,\u001b[49m\u001b[43m \u001b[49m\u001b[43mcallback\u001b[49m\u001b[43m,\u001b[49m\u001b[43m \u001b[49m\u001b[43mtimeout\u001b[49m\u001b[38;5;241;43m=\u001b[39;49m\u001b[43mtimeout\u001b[49m\u001b[43m)\u001b[49m\n",
      "File \u001b[0;32m~/opt/anaconda3/envs/route_env/lib/python3.10/site-packages/geopy/geocoders/base.py:368\u001b[0m, in \u001b[0;36mGeocoder._call_geocoder\u001b[0;34m(self, url, callback, timeout, is_json, headers)\u001b[0m\n\u001b[1;32m    366\u001b[0m \u001b[38;5;28;01mtry\u001b[39;00m:\n\u001b[1;32m    367\u001b[0m     \u001b[38;5;28;01mif\u001b[39;00m is_json:\n\u001b[0;32m--> 368\u001b[0m         result \u001b[38;5;241m=\u001b[39m \u001b[38;5;28;43mself\u001b[39;49m\u001b[38;5;241;43m.\u001b[39;49m\u001b[43madapter\u001b[49m\u001b[38;5;241;43m.\u001b[39;49m\u001b[43mget_json\u001b[49m\u001b[43m(\u001b[49m\u001b[43murl\u001b[49m\u001b[43m,\u001b[49m\u001b[43m \u001b[49m\u001b[43mtimeout\u001b[49m\u001b[38;5;241;43m=\u001b[39;49m\u001b[43mtimeout\u001b[49m\u001b[43m,\u001b[49m\u001b[43m \u001b[49m\u001b[43mheaders\u001b[49m\u001b[38;5;241;43m=\u001b[39;49m\u001b[43mreq_headers\u001b[49m\u001b[43m)\u001b[49m\n\u001b[1;32m    369\u001b[0m     \u001b[38;5;28;01melse\u001b[39;00m:\n\u001b[1;32m    370\u001b[0m         result \u001b[38;5;241m=\u001b[39m \u001b[38;5;28mself\u001b[39m\u001b[38;5;241m.\u001b[39madapter\u001b[38;5;241m.\u001b[39mget_text(url, timeout\u001b[38;5;241m=\u001b[39mtimeout, headers\u001b[38;5;241m=\u001b[39mreq_headers)\n",
      "File \u001b[0;32m~/opt/anaconda3/envs/route_env/lib/python3.10/site-packages/geopy/adapters.py:438\u001b[0m, in \u001b[0;36mRequestsAdapter.get_json\u001b[0;34m(self, url, timeout, headers)\u001b[0m\n\u001b[1;32m    437\u001b[0m \u001b[38;5;28;01mdef\u001b[39;00m \u001b[38;5;21mget_json\u001b[39m(\u001b[38;5;28mself\u001b[39m, url, \u001b[38;5;241m*\u001b[39m, timeout, headers):\n\u001b[0;32m--> 438\u001b[0m     resp \u001b[38;5;241m=\u001b[39m \u001b[38;5;28;43mself\u001b[39;49m\u001b[38;5;241;43m.\u001b[39;49m\u001b[43m_request\u001b[49m\u001b[43m(\u001b[49m\u001b[43murl\u001b[49m\u001b[43m,\u001b[49m\u001b[43m \u001b[49m\u001b[43mtimeout\u001b[49m\u001b[38;5;241;43m=\u001b[39;49m\u001b[43mtimeout\u001b[49m\u001b[43m,\u001b[49m\u001b[43m \u001b[49m\u001b[43mheaders\u001b[49m\u001b[38;5;241;43m=\u001b[39;49m\u001b[43mheaders\u001b[49m\u001b[43m)\u001b[49m\n\u001b[1;32m    439\u001b[0m     \u001b[38;5;28;01mtry\u001b[39;00m:\n\u001b[1;32m    440\u001b[0m         \u001b[38;5;28;01mreturn\u001b[39;00m resp\u001b[38;5;241m.\u001b[39mjson()\n",
      "File \u001b[0;32m~/opt/anaconda3/envs/route_env/lib/python3.10/site-packages/geopy/adapters.py:448\u001b[0m, in \u001b[0;36mRequestsAdapter._request\u001b[0;34m(self, url, timeout, headers)\u001b[0m\n\u001b[1;32m    446\u001b[0m \u001b[38;5;28;01mdef\u001b[39;00m \u001b[38;5;21m_request\u001b[39m(\u001b[38;5;28mself\u001b[39m, url, \u001b[38;5;241m*\u001b[39m, timeout, headers):\n\u001b[1;32m    447\u001b[0m     \u001b[38;5;28;01mtry\u001b[39;00m:\n\u001b[0;32m--> 448\u001b[0m         resp \u001b[38;5;241m=\u001b[39m \u001b[38;5;28;43mself\u001b[39;49m\u001b[38;5;241;43m.\u001b[39;49m\u001b[43msession\u001b[49m\u001b[38;5;241;43m.\u001b[39;49m\u001b[43mget\u001b[49m\u001b[43m(\u001b[49m\u001b[43murl\u001b[49m\u001b[43m,\u001b[49m\u001b[43m \u001b[49m\u001b[43mtimeout\u001b[49m\u001b[38;5;241;43m=\u001b[39;49m\u001b[43mtimeout\u001b[49m\u001b[43m,\u001b[49m\u001b[43m \u001b[49m\u001b[43mheaders\u001b[49m\u001b[38;5;241;43m=\u001b[39;49m\u001b[43mheaders\u001b[49m\u001b[43m)\u001b[49m\n\u001b[1;32m    449\u001b[0m     \u001b[38;5;28;01mexcept\u001b[39;00m \u001b[38;5;167;01mException\u001b[39;00m \u001b[38;5;28;01mas\u001b[39;00m error:\n\u001b[1;32m    450\u001b[0m         message \u001b[38;5;241m=\u001b[39m \u001b[38;5;28mstr\u001b[39m(error)\n",
      "File \u001b[0;32m~/opt/anaconda3/envs/route_env/lib/python3.10/site-packages/requests/sessions.py:600\u001b[0m, in \u001b[0;36mSession.get\u001b[0;34m(self, url, **kwargs)\u001b[0m\n\u001b[1;32m    592\u001b[0m \u001b[38;5;124mr\u001b[39m\u001b[38;5;124;03m\"\"\"Sends a GET request. Returns :class:`Response` object.\u001b[39;00m\n\u001b[1;32m    593\u001b[0m \n\u001b[1;32m    594\u001b[0m \u001b[38;5;124;03m:param url: URL for the new :class:`Request` object.\u001b[39;00m\n\u001b[1;32m    595\u001b[0m \u001b[38;5;124;03m:param \\*\\*kwargs: Optional arguments that ``request`` takes.\u001b[39;00m\n\u001b[1;32m    596\u001b[0m \u001b[38;5;124;03m:rtype: requests.Response\u001b[39;00m\n\u001b[1;32m    597\u001b[0m \u001b[38;5;124;03m\"\"\"\u001b[39;00m\n\u001b[1;32m    599\u001b[0m kwargs\u001b[38;5;241m.\u001b[39msetdefault(\u001b[38;5;124m\"\u001b[39m\u001b[38;5;124mallow_redirects\u001b[39m\u001b[38;5;124m\"\u001b[39m, \u001b[38;5;28;01mTrue\u001b[39;00m)\n\u001b[0;32m--> 600\u001b[0m \u001b[38;5;28;01mreturn\u001b[39;00m \u001b[38;5;28;43mself\u001b[39;49m\u001b[38;5;241;43m.\u001b[39;49m\u001b[43mrequest\u001b[49m\u001b[43m(\u001b[49m\u001b[38;5;124;43m\"\u001b[39;49m\u001b[38;5;124;43mGET\u001b[39;49m\u001b[38;5;124;43m\"\u001b[39;49m\u001b[43m,\u001b[49m\u001b[43m \u001b[49m\u001b[43murl\u001b[49m\u001b[43m,\u001b[49m\u001b[43m \u001b[49m\u001b[38;5;241;43m*\u001b[39;49m\u001b[38;5;241;43m*\u001b[39;49m\u001b[43mkwargs\u001b[49m\u001b[43m)\u001b[49m\n",
      "File \u001b[0;32m~/opt/anaconda3/envs/route_env/lib/python3.10/site-packages/requests/sessions.py:587\u001b[0m, in \u001b[0;36mSession.request\u001b[0;34m(self, method, url, params, data, headers, cookies, files, auth, timeout, allow_redirects, proxies, hooks, stream, verify, cert, json)\u001b[0m\n\u001b[1;32m    582\u001b[0m send_kwargs \u001b[38;5;241m=\u001b[39m {\n\u001b[1;32m    583\u001b[0m     \u001b[38;5;124m\"\u001b[39m\u001b[38;5;124mtimeout\u001b[39m\u001b[38;5;124m\"\u001b[39m: timeout,\n\u001b[1;32m    584\u001b[0m     \u001b[38;5;124m\"\u001b[39m\u001b[38;5;124mallow_redirects\u001b[39m\u001b[38;5;124m\"\u001b[39m: allow_redirects,\n\u001b[1;32m    585\u001b[0m }\n\u001b[1;32m    586\u001b[0m send_kwargs\u001b[38;5;241m.\u001b[39mupdate(settings)\n\u001b[0;32m--> 587\u001b[0m resp \u001b[38;5;241m=\u001b[39m \u001b[38;5;28;43mself\u001b[39;49m\u001b[38;5;241;43m.\u001b[39;49m\u001b[43msend\u001b[49m\u001b[43m(\u001b[49m\u001b[43mprep\u001b[49m\u001b[43m,\u001b[49m\u001b[43m \u001b[49m\u001b[38;5;241;43m*\u001b[39;49m\u001b[38;5;241;43m*\u001b[39;49m\u001b[43msend_kwargs\u001b[49m\u001b[43m)\u001b[49m\n\u001b[1;32m    589\u001b[0m \u001b[38;5;28;01mreturn\u001b[39;00m resp\n",
      "File \u001b[0;32m~/opt/anaconda3/envs/route_env/lib/python3.10/site-packages/requests/sessions.py:701\u001b[0m, in \u001b[0;36mSession.send\u001b[0;34m(self, request, **kwargs)\u001b[0m\n\u001b[1;32m    698\u001b[0m start \u001b[38;5;241m=\u001b[39m preferred_clock()\n\u001b[1;32m    700\u001b[0m \u001b[38;5;66;03m# Send the request\u001b[39;00m\n\u001b[0;32m--> 701\u001b[0m r \u001b[38;5;241m=\u001b[39m \u001b[43madapter\u001b[49m\u001b[38;5;241;43m.\u001b[39;49m\u001b[43msend\u001b[49m\u001b[43m(\u001b[49m\u001b[43mrequest\u001b[49m\u001b[43m,\u001b[49m\u001b[43m \u001b[49m\u001b[38;5;241;43m*\u001b[39;49m\u001b[38;5;241;43m*\u001b[39;49m\u001b[43mkwargs\u001b[49m\u001b[43m)\u001b[49m\n\u001b[1;32m    703\u001b[0m \u001b[38;5;66;03m# Total elapsed time of the request (approximately)\u001b[39;00m\n\u001b[1;32m    704\u001b[0m elapsed \u001b[38;5;241m=\u001b[39m preferred_clock() \u001b[38;5;241m-\u001b[39m start\n",
      "File \u001b[0;32m~/opt/anaconda3/envs/route_env/lib/python3.10/site-packages/requests/adapters.py:489\u001b[0m, in \u001b[0;36mHTTPAdapter.send\u001b[0;34m(self, request, stream, timeout, verify, cert, proxies)\u001b[0m\n\u001b[1;32m    487\u001b[0m \u001b[38;5;28;01mtry\u001b[39;00m:\n\u001b[1;32m    488\u001b[0m     \u001b[38;5;28;01mif\u001b[39;00m \u001b[38;5;129;01mnot\u001b[39;00m chunked:\n\u001b[0;32m--> 489\u001b[0m         resp \u001b[38;5;241m=\u001b[39m \u001b[43mconn\u001b[49m\u001b[38;5;241;43m.\u001b[39;49m\u001b[43murlopen\u001b[49m\u001b[43m(\u001b[49m\n\u001b[1;32m    490\u001b[0m \u001b[43m            \u001b[49m\u001b[43mmethod\u001b[49m\u001b[38;5;241;43m=\u001b[39;49m\u001b[43mrequest\u001b[49m\u001b[38;5;241;43m.\u001b[39;49m\u001b[43mmethod\u001b[49m\u001b[43m,\u001b[49m\n\u001b[1;32m    491\u001b[0m \u001b[43m            \u001b[49m\u001b[43murl\u001b[49m\u001b[38;5;241;43m=\u001b[39;49m\u001b[43murl\u001b[49m\u001b[43m,\u001b[49m\n\u001b[1;32m    492\u001b[0m \u001b[43m            \u001b[49m\u001b[43mbody\u001b[49m\u001b[38;5;241;43m=\u001b[39;49m\u001b[43mrequest\u001b[49m\u001b[38;5;241;43m.\u001b[39;49m\u001b[43mbody\u001b[49m\u001b[43m,\u001b[49m\n\u001b[1;32m    493\u001b[0m \u001b[43m            \u001b[49m\u001b[43mheaders\u001b[49m\u001b[38;5;241;43m=\u001b[39;49m\u001b[43mrequest\u001b[49m\u001b[38;5;241;43m.\u001b[39;49m\u001b[43mheaders\u001b[49m\u001b[43m,\u001b[49m\n\u001b[1;32m    494\u001b[0m \u001b[43m            \u001b[49m\u001b[43mredirect\u001b[49m\u001b[38;5;241;43m=\u001b[39;49m\u001b[38;5;28;43;01mFalse\u001b[39;49;00m\u001b[43m,\u001b[49m\n\u001b[1;32m    495\u001b[0m \u001b[43m            \u001b[49m\u001b[43massert_same_host\u001b[49m\u001b[38;5;241;43m=\u001b[39;49m\u001b[38;5;28;43;01mFalse\u001b[39;49;00m\u001b[43m,\u001b[49m\n\u001b[1;32m    496\u001b[0m \u001b[43m            \u001b[49m\u001b[43mpreload_content\u001b[49m\u001b[38;5;241;43m=\u001b[39;49m\u001b[38;5;28;43;01mFalse\u001b[39;49;00m\u001b[43m,\u001b[49m\n\u001b[1;32m    497\u001b[0m \u001b[43m            \u001b[49m\u001b[43mdecode_content\u001b[49m\u001b[38;5;241;43m=\u001b[39;49m\u001b[38;5;28;43;01mFalse\u001b[39;49;00m\u001b[43m,\u001b[49m\n\u001b[1;32m    498\u001b[0m \u001b[43m            \u001b[49m\u001b[43mretries\u001b[49m\u001b[38;5;241;43m=\u001b[39;49m\u001b[38;5;28;43mself\u001b[39;49m\u001b[38;5;241;43m.\u001b[39;49m\u001b[43mmax_retries\u001b[49m\u001b[43m,\u001b[49m\n\u001b[1;32m    499\u001b[0m \u001b[43m            \u001b[49m\u001b[43mtimeout\u001b[49m\u001b[38;5;241;43m=\u001b[39;49m\u001b[43mtimeout\u001b[49m\u001b[43m,\u001b[49m\n\u001b[1;32m    500\u001b[0m \u001b[43m        \u001b[49m\u001b[43m)\u001b[49m\n\u001b[1;32m    502\u001b[0m     \u001b[38;5;66;03m# Send the request.\u001b[39;00m\n\u001b[1;32m    503\u001b[0m     \u001b[38;5;28;01melse\u001b[39;00m:\n\u001b[1;32m    504\u001b[0m         \u001b[38;5;28;01mif\u001b[39;00m \u001b[38;5;28mhasattr\u001b[39m(conn, \u001b[38;5;124m\"\u001b[39m\u001b[38;5;124mproxy_pool\u001b[39m\u001b[38;5;124m\"\u001b[39m):\n",
      "File \u001b[0;32m~/opt/anaconda3/envs/route_env/lib/python3.10/site-packages/urllib3/connectionpool.py:703\u001b[0m, in \u001b[0;36mHTTPConnectionPool.urlopen\u001b[0;34m(self, method, url, body, headers, retries, redirect, assert_same_host, timeout, pool_timeout, release_conn, chunked, body_pos, **response_kw)\u001b[0m\n\u001b[1;32m    700\u001b[0m     \u001b[38;5;28mself\u001b[39m\u001b[38;5;241m.\u001b[39m_prepare_proxy(conn)\n\u001b[1;32m    702\u001b[0m \u001b[38;5;66;03m# Make the request on the httplib connection object.\u001b[39;00m\n\u001b[0;32m--> 703\u001b[0m httplib_response \u001b[38;5;241m=\u001b[39m \u001b[38;5;28;43mself\u001b[39;49m\u001b[38;5;241;43m.\u001b[39;49m\u001b[43m_make_request\u001b[49m\u001b[43m(\u001b[49m\n\u001b[1;32m    704\u001b[0m \u001b[43m    \u001b[49m\u001b[43mconn\u001b[49m\u001b[43m,\u001b[49m\n\u001b[1;32m    705\u001b[0m \u001b[43m    \u001b[49m\u001b[43mmethod\u001b[49m\u001b[43m,\u001b[49m\n\u001b[1;32m    706\u001b[0m \u001b[43m    \u001b[49m\u001b[43murl\u001b[49m\u001b[43m,\u001b[49m\n\u001b[1;32m    707\u001b[0m \u001b[43m    \u001b[49m\u001b[43mtimeout\u001b[49m\u001b[38;5;241;43m=\u001b[39;49m\u001b[43mtimeout_obj\u001b[49m\u001b[43m,\u001b[49m\n\u001b[1;32m    708\u001b[0m \u001b[43m    \u001b[49m\u001b[43mbody\u001b[49m\u001b[38;5;241;43m=\u001b[39;49m\u001b[43mbody\u001b[49m\u001b[43m,\u001b[49m\n\u001b[1;32m    709\u001b[0m \u001b[43m    \u001b[49m\u001b[43mheaders\u001b[49m\u001b[38;5;241;43m=\u001b[39;49m\u001b[43mheaders\u001b[49m\u001b[43m,\u001b[49m\n\u001b[1;32m    710\u001b[0m \u001b[43m    \u001b[49m\u001b[43mchunked\u001b[49m\u001b[38;5;241;43m=\u001b[39;49m\u001b[43mchunked\u001b[49m\u001b[43m,\u001b[49m\n\u001b[1;32m    711\u001b[0m \u001b[43m\u001b[49m\u001b[43m)\u001b[49m\n\u001b[1;32m    713\u001b[0m \u001b[38;5;66;03m# If we're going to release the connection in ``finally:``, then\u001b[39;00m\n\u001b[1;32m    714\u001b[0m \u001b[38;5;66;03m# the response doesn't need to know about the connection. Otherwise\u001b[39;00m\n\u001b[1;32m    715\u001b[0m \u001b[38;5;66;03m# it will also try to release it and we'll have a double-release\u001b[39;00m\n\u001b[1;32m    716\u001b[0m \u001b[38;5;66;03m# mess.\u001b[39;00m\n\u001b[1;32m    717\u001b[0m response_conn \u001b[38;5;241m=\u001b[39m conn \u001b[38;5;28;01mif\u001b[39;00m \u001b[38;5;129;01mnot\u001b[39;00m release_conn \u001b[38;5;28;01melse\u001b[39;00m \u001b[38;5;28;01mNone\u001b[39;00m\n",
      "File \u001b[0;32m~/opt/anaconda3/envs/route_env/lib/python3.10/site-packages/urllib3/connectionpool.py:449\u001b[0m, in \u001b[0;36mHTTPConnectionPool._make_request\u001b[0;34m(self, conn, method, url, timeout, chunked, **httplib_request_kw)\u001b[0m\n\u001b[1;32m    444\u001b[0m             httplib_response \u001b[38;5;241m=\u001b[39m conn\u001b[38;5;241m.\u001b[39mgetresponse()\n\u001b[1;32m    445\u001b[0m         \u001b[38;5;28;01mexcept\u001b[39;00m \u001b[38;5;167;01mBaseException\u001b[39;00m \u001b[38;5;28;01mas\u001b[39;00m e:\n\u001b[1;32m    446\u001b[0m             \u001b[38;5;66;03m# Remove the TypeError from the exception chain in\u001b[39;00m\n\u001b[1;32m    447\u001b[0m             \u001b[38;5;66;03m# Python 3 (including for exceptions like SystemExit).\u001b[39;00m\n\u001b[1;32m    448\u001b[0m             \u001b[38;5;66;03m# Otherwise it looks like a bug in the code.\u001b[39;00m\n\u001b[0;32m--> 449\u001b[0m             \u001b[43msix\u001b[49m\u001b[38;5;241;43m.\u001b[39;49m\u001b[43mraise_from\u001b[49m\u001b[43m(\u001b[49m\u001b[43me\u001b[49m\u001b[43m,\u001b[49m\u001b[43m \u001b[49m\u001b[38;5;28;43;01mNone\u001b[39;49;00m\u001b[43m)\u001b[49m\n\u001b[1;32m    450\u001b[0m \u001b[38;5;28;01mexcept\u001b[39;00m (SocketTimeout, BaseSSLError, SocketError) \u001b[38;5;28;01mas\u001b[39;00m e:\n\u001b[1;32m    451\u001b[0m     \u001b[38;5;28mself\u001b[39m\u001b[38;5;241m.\u001b[39m_raise_timeout(err\u001b[38;5;241m=\u001b[39me, url\u001b[38;5;241m=\u001b[39murl, timeout_value\u001b[38;5;241m=\u001b[39mread_timeout)\n",
      "File \u001b[0;32m<string>:3\u001b[0m, in \u001b[0;36mraise_from\u001b[0;34m(value, from_value)\u001b[0m\n",
      "File \u001b[0;32m~/opt/anaconda3/envs/route_env/lib/python3.10/site-packages/urllib3/connectionpool.py:444\u001b[0m, in \u001b[0;36mHTTPConnectionPool._make_request\u001b[0;34m(self, conn, method, url, timeout, chunked, **httplib_request_kw)\u001b[0m\n\u001b[1;32m    441\u001b[0m \u001b[38;5;28;01mexcept\u001b[39;00m \u001b[38;5;167;01mTypeError\u001b[39;00m:\n\u001b[1;32m    442\u001b[0m     \u001b[38;5;66;03m# Python 3\u001b[39;00m\n\u001b[1;32m    443\u001b[0m     \u001b[38;5;28;01mtry\u001b[39;00m:\n\u001b[0;32m--> 444\u001b[0m         httplib_response \u001b[38;5;241m=\u001b[39m \u001b[43mconn\u001b[49m\u001b[38;5;241;43m.\u001b[39;49m\u001b[43mgetresponse\u001b[49m\u001b[43m(\u001b[49m\u001b[43m)\u001b[49m\n\u001b[1;32m    445\u001b[0m     \u001b[38;5;28;01mexcept\u001b[39;00m \u001b[38;5;167;01mBaseException\u001b[39;00m \u001b[38;5;28;01mas\u001b[39;00m e:\n\u001b[1;32m    446\u001b[0m         \u001b[38;5;66;03m# Remove the TypeError from the exception chain in\u001b[39;00m\n\u001b[1;32m    447\u001b[0m         \u001b[38;5;66;03m# Python 3 (including for exceptions like SystemExit).\u001b[39;00m\n\u001b[1;32m    448\u001b[0m         \u001b[38;5;66;03m# Otherwise it looks like a bug in the code.\u001b[39;00m\n\u001b[1;32m    449\u001b[0m         six\u001b[38;5;241m.\u001b[39mraise_from(e, \u001b[38;5;28;01mNone\u001b[39;00m)\n",
      "File \u001b[0;32m~/opt/anaconda3/envs/route_env/lib/python3.10/http/client.py:1374\u001b[0m, in \u001b[0;36mHTTPConnection.getresponse\u001b[0;34m(self)\u001b[0m\n\u001b[1;32m   1372\u001b[0m \u001b[38;5;28;01mtry\u001b[39;00m:\n\u001b[1;32m   1373\u001b[0m     \u001b[38;5;28;01mtry\u001b[39;00m:\n\u001b[0;32m-> 1374\u001b[0m         \u001b[43mresponse\u001b[49m\u001b[38;5;241;43m.\u001b[39;49m\u001b[43mbegin\u001b[49m\u001b[43m(\u001b[49m\u001b[43m)\u001b[49m\n\u001b[1;32m   1375\u001b[0m     \u001b[38;5;28;01mexcept\u001b[39;00m \u001b[38;5;167;01mConnectionError\u001b[39;00m:\n\u001b[1;32m   1376\u001b[0m         \u001b[38;5;28mself\u001b[39m\u001b[38;5;241m.\u001b[39mclose()\n",
      "File \u001b[0;32m~/opt/anaconda3/envs/route_env/lib/python3.10/http/client.py:318\u001b[0m, in \u001b[0;36mHTTPResponse.begin\u001b[0;34m(self)\u001b[0m\n\u001b[1;32m    316\u001b[0m \u001b[38;5;66;03m# read until we get a non-100 response\u001b[39;00m\n\u001b[1;32m    317\u001b[0m \u001b[38;5;28;01mwhile\u001b[39;00m \u001b[38;5;28;01mTrue\u001b[39;00m:\n\u001b[0;32m--> 318\u001b[0m     version, status, reason \u001b[38;5;241m=\u001b[39m \u001b[38;5;28;43mself\u001b[39;49m\u001b[38;5;241;43m.\u001b[39;49m\u001b[43m_read_status\u001b[49m\u001b[43m(\u001b[49m\u001b[43m)\u001b[49m\n\u001b[1;32m    319\u001b[0m     \u001b[38;5;28;01mif\u001b[39;00m status \u001b[38;5;241m!=\u001b[39m CONTINUE:\n\u001b[1;32m    320\u001b[0m         \u001b[38;5;28;01mbreak\u001b[39;00m\n",
      "File \u001b[0;32m~/opt/anaconda3/envs/route_env/lib/python3.10/http/client.py:279\u001b[0m, in \u001b[0;36mHTTPResponse._read_status\u001b[0;34m(self)\u001b[0m\n\u001b[1;32m    278\u001b[0m \u001b[38;5;28;01mdef\u001b[39;00m \u001b[38;5;21m_read_status\u001b[39m(\u001b[38;5;28mself\u001b[39m):\n\u001b[0;32m--> 279\u001b[0m     line \u001b[38;5;241m=\u001b[39m \u001b[38;5;28mstr\u001b[39m(\u001b[38;5;28;43mself\u001b[39;49m\u001b[38;5;241;43m.\u001b[39;49m\u001b[43mfp\u001b[49m\u001b[38;5;241;43m.\u001b[39;49m\u001b[43mreadline\u001b[49m\u001b[43m(\u001b[49m\u001b[43m_MAXLINE\u001b[49m\u001b[43m \u001b[49m\u001b[38;5;241;43m+\u001b[39;49m\u001b[43m \u001b[49m\u001b[38;5;241;43m1\u001b[39;49m\u001b[43m)\u001b[49m, \u001b[38;5;124m\"\u001b[39m\u001b[38;5;124miso-8859-1\u001b[39m\u001b[38;5;124m\"\u001b[39m)\n\u001b[1;32m    280\u001b[0m     \u001b[38;5;28;01mif\u001b[39;00m \u001b[38;5;28mlen\u001b[39m(line) \u001b[38;5;241m>\u001b[39m _MAXLINE:\n\u001b[1;32m    281\u001b[0m         \u001b[38;5;28;01mraise\u001b[39;00m LineTooLong(\u001b[38;5;124m\"\u001b[39m\u001b[38;5;124mstatus line\u001b[39m\u001b[38;5;124m\"\u001b[39m)\n",
      "File \u001b[0;32m~/opt/anaconda3/envs/route_env/lib/python3.10/socket.py:705\u001b[0m, in \u001b[0;36mSocketIO.readinto\u001b[0;34m(self, b)\u001b[0m\n\u001b[1;32m    703\u001b[0m \u001b[38;5;28;01mwhile\u001b[39;00m \u001b[38;5;28;01mTrue\u001b[39;00m:\n\u001b[1;32m    704\u001b[0m     \u001b[38;5;28;01mtry\u001b[39;00m:\n\u001b[0;32m--> 705\u001b[0m         \u001b[38;5;28;01mreturn\u001b[39;00m \u001b[38;5;28;43mself\u001b[39;49m\u001b[38;5;241;43m.\u001b[39;49m\u001b[43m_sock\u001b[49m\u001b[38;5;241;43m.\u001b[39;49m\u001b[43mrecv_into\u001b[49m\u001b[43m(\u001b[49m\u001b[43mb\u001b[49m\u001b[43m)\u001b[49m\n\u001b[1;32m    706\u001b[0m     \u001b[38;5;28;01mexcept\u001b[39;00m timeout:\n\u001b[1;32m    707\u001b[0m         \u001b[38;5;28mself\u001b[39m\u001b[38;5;241m.\u001b[39m_timeout_occurred \u001b[38;5;241m=\u001b[39m \u001b[38;5;28;01mTrue\u001b[39;00m\n",
      "File \u001b[0;32m~/opt/anaconda3/envs/route_env/lib/python3.10/ssl.py:1274\u001b[0m, in \u001b[0;36mSSLSocket.recv_into\u001b[0;34m(self, buffer, nbytes, flags)\u001b[0m\n\u001b[1;32m   1270\u001b[0m     \u001b[38;5;28;01mif\u001b[39;00m flags \u001b[38;5;241m!=\u001b[39m \u001b[38;5;241m0\u001b[39m:\n\u001b[1;32m   1271\u001b[0m         \u001b[38;5;28;01mraise\u001b[39;00m \u001b[38;5;167;01mValueError\u001b[39;00m(\n\u001b[1;32m   1272\u001b[0m           \u001b[38;5;124m\"\u001b[39m\u001b[38;5;124mnon-zero flags not allowed in calls to recv_into() on \u001b[39m\u001b[38;5;132;01m%s\u001b[39;00m\u001b[38;5;124m\"\u001b[39m \u001b[38;5;241m%\u001b[39m\n\u001b[1;32m   1273\u001b[0m           \u001b[38;5;28mself\u001b[39m\u001b[38;5;241m.\u001b[39m\u001b[38;5;18m__class__\u001b[39m)\n\u001b[0;32m-> 1274\u001b[0m     \u001b[38;5;28;01mreturn\u001b[39;00m \u001b[38;5;28;43mself\u001b[39;49m\u001b[38;5;241;43m.\u001b[39;49m\u001b[43mread\u001b[49m\u001b[43m(\u001b[49m\u001b[43mnbytes\u001b[49m\u001b[43m,\u001b[49m\u001b[43m \u001b[49m\u001b[43mbuffer\u001b[49m\u001b[43m)\u001b[49m\n\u001b[1;32m   1275\u001b[0m \u001b[38;5;28;01melse\u001b[39;00m:\n\u001b[1;32m   1276\u001b[0m     \u001b[38;5;28;01mreturn\u001b[39;00m \u001b[38;5;28msuper\u001b[39m()\u001b[38;5;241m.\u001b[39mrecv_into(buffer, nbytes, flags)\n",
      "File \u001b[0;32m~/opt/anaconda3/envs/route_env/lib/python3.10/ssl.py:1130\u001b[0m, in \u001b[0;36mSSLSocket.read\u001b[0;34m(self, len, buffer)\u001b[0m\n\u001b[1;32m   1128\u001b[0m \u001b[38;5;28;01mtry\u001b[39;00m:\n\u001b[1;32m   1129\u001b[0m     \u001b[38;5;28;01mif\u001b[39;00m buffer \u001b[38;5;129;01mis\u001b[39;00m \u001b[38;5;129;01mnot\u001b[39;00m \u001b[38;5;28;01mNone\u001b[39;00m:\n\u001b[0;32m-> 1130\u001b[0m         \u001b[38;5;28;01mreturn\u001b[39;00m \u001b[38;5;28;43mself\u001b[39;49m\u001b[38;5;241;43m.\u001b[39;49m\u001b[43m_sslobj\u001b[49m\u001b[38;5;241;43m.\u001b[39;49m\u001b[43mread\u001b[49m\u001b[43m(\u001b[49m\u001b[38;5;28;43mlen\u001b[39;49m\u001b[43m,\u001b[49m\u001b[43m \u001b[49m\u001b[43mbuffer\u001b[49m\u001b[43m)\u001b[49m\n\u001b[1;32m   1131\u001b[0m     \u001b[38;5;28;01melse\u001b[39;00m:\n\u001b[1;32m   1132\u001b[0m         \u001b[38;5;28;01mreturn\u001b[39;00m \u001b[38;5;28mself\u001b[39m\u001b[38;5;241m.\u001b[39m_sslobj\u001b[38;5;241m.\u001b[39mread(\u001b[38;5;28mlen\u001b[39m)\n",
      "\u001b[0;31mKeyboardInterrupt\u001b[0m: "
     ]
    }
   ],
   "source": [
    "#!/usr/bin/env python3\n",
    "\n",
    "\n",
    "import requests\n",
    "from bs4 import BeautifulSoup\n",
    "import pandas as pd\n",
    "import uuid\n",
    "import hashlib\n",
    "from snowflake.sqlalchemy import URL\n",
    "from sqlalchemy import create_engine\n",
    "import json\n",
    "from geopy.geocoders import Nominatim\n",
    "geolocator = Nominatim(user_agent=\"viamichelin\")\n",
    "\n",
    "\n",
    "# Load the Snowflake configuration from the JSON file\n",
    "with open(\"snow_cred.json\") as f:\n",
    "    config = json.load(f)\n",
    "    \n",
    "    \n",
    "# Creating Snowflake Connection\n",
    "snow_engine = create_engine(URL(\n",
    "    account = config['account'],\n",
    "    user = config['user'],\n",
    "    password = config['password'],\n",
    "    database = config['database'],\n",
    "    schema = config['schema'],\n",
    "    warehouse = config['warehouse'],\n",
    "    role= config['role']\n",
    "))\n",
    "\n",
    "snow_connection = snow_engine.connect()\n",
    "snow_connection\n",
    "\n",
    "\n",
    "countries = ['France', 'United Kingdom', 'Switzerland', 'Germany', 'Belgium', 'Netherlands', 'Spain', 'Luxembourg', 'Czech Republic', 'Italy']\n",
    "country_url_list = ['https://www.viamichelin.fr/web/Stations-service?address=France', 'https://www.viamichelin.fr/web/Stations-service?address=united%20kingdom', 'https://www.viamichelin.fr/web/Stations-service?address=switzerland', 'https://www.viamichelin.fr/web/Stations-service?address=germany', 'https://www.viamichelin.fr/web/Stations-service?address=Belgium', 'https://www.viamichelin.fr/web/Stations-service?address=netherlands', 'https://www.viamichelin.fr/web/Stations-service?address=spain', 'https://www.viamichelin.fr/web/Stations-service?address=luxemburg', 'https://www.viamichelin.fr/web/Stations-service?address=Czechia', 'https://www.viamichelin.fr/web/Stations-service?address=Italy']\n",
    "\n",
    "\n",
    "def get_rqt(url):\n",
    "    r = requests.get(url)\n",
    "    sp = BeautifulSoup(r.content, 'html.parser')\n",
    "    return sp\n",
    "\n",
    "\n",
    "def get_pagi_url_max_num(page_n):\n",
    "    pg = BeautifulSoup(str(page_n[0]), 'html.parser')\n",
    "    pg_a = pg.findAll('a')\n",
    "\n",
    "    if len(pg_a) > 0:\n",
    "        pg_a = pg_a[-1]\n",
    "        pgination_url = pg_a['href']\n",
    "        pgination_url = pgination_url[0:pgination_url.index('=')+1]\n",
    "        max_pg = int(pg_a.get_text())\n",
    "        return pgination_url, max_pg\n",
    "    \n",
    "    \n",
    "def get_pagination(url):\n",
    "    r = requests.get(url)\n",
    "    #print(r)\n",
    "    soup = BeautifulSoup(r.content, 'html.parser')\n",
    "    page_n = soup.findAll(\"p\", class_=\"pagination-second-line\")\n",
    "    return page_n\n",
    "\n",
    "\n",
    "def save_data(data_df):\n",
    "    target_table = 'viamichelin_stations'\n",
    "    del_id_lst = str(list(data_df['id'])).replace('[','(').replace(']',')') \n",
    "    try:\n",
    "        # Delete existing rows to be updated with new version\n",
    "        del_existing_rows_query = \"DELETE FROM \" +target_table+ \" WHERE id IN \" + del_id_lst\n",
    "        #print('Del Query is ', del_existing_rows_query)\n",
    "        with snow_engine.connect() as conn:\n",
    "            conn.execute(del_existing_rows_query)\n",
    "\n",
    "        # Save data in the DataFrame    \n",
    "        data_df.to_sql(target_table, con=snow_engine, schema='public', index=False, if_exists='append')\n",
    "        print(data_df.loc[0])\n",
    "        data_df = pd.DataFrame()\n",
    "    except Exception as err:\n",
    "        print(err)    \n",
    "\n",
    "\n",
    "def get_street(address, station_address):\n",
    "    if 'house_number' in address:\n",
    "        print('Yes')\n",
    "        if address['house_number'] in station_address.split():\n",
    "            street = str(address['house_number']) + ' ' + str(address['road']) if 'road' in address else ''\n",
    "        else:\n",
    "            street = str(address['road']) if 'road' in address else ''\n",
    "        print('Yes ', street)\n",
    "    else:\n",
    "        street = str(address['road']) if 'road' in address else ''\n",
    "        \n",
    "    return street\n",
    "\n",
    "\n",
    "def get_city(address):\n",
    "    if 'city' in address:\n",
    "        city = address['city']\n",
    "    elif 'town' in address: \n",
    "        city = address['town']\n",
    "    elif 'village' in address: \n",
    "        city = address['village']    \n",
    "    else:\n",
    "        city = ''\n",
    "    return city\n",
    "\n",
    "\n",
    "\n",
    "# Enrich Station Address\n",
    "def split_address(station_address):\n",
    "    enriched_address = []\n",
    "    for i in station_address:\n",
    "        new_station_address = []\n",
    "        location = geolocator.geocode(i) # 18 Hauptstrasse, 3752 Wimmis\n",
    "        print(type(location))\n",
    "        if location:\n",
    "            print(location.raw)\n",
    "            lat = location.raw['lat']\n",
    "            lon = location.raw['lon']\n",
    "            location_geop = geolocator.reverse(f\"{lat}, {lon}\")\n",
    "            address = location_geop.raw['address']\n",
    "            postcode = str(address['postcode']) if 'postcode' in address else ''\n",
    "            place_id = str(location_geop.raw['place_id']) if 'place_id' in location_geop.raw else ''\n",
    "            station_street = get_street(address, i)\n",
    "            station_city = get_city(address)\n",
    "            #print(location_geop.raw)    \n",
    "            new_station_address.extend([station_street, station_city, postcode, lat, lon, place_id])\n",
    "        else:\n",
    "            print(\"Location not found\")\n",
    "            new_station_address.extend(['', '', '', '', '', ''])\n",
    "    print(type(enriched_address), '\\nNow Appending enriched_address...')                \n",
    "    enriched_address.append(new_station_address)\n",
    "    enriched_address_df = pd.DataFrame(enriched_address, columns = ['Street', 'City', 'Postcode', 'Latitude', 'Longitude', 'Place_id'])\n",
    "    return enriched_address_df\n",
    "\n",
    "\n",
    "\n",
    "    \n",
    "def get_and_save_data(url, ctry):\n",
    "    r = requests.get(url)\n",
    "    print(ctry, url, r)\n",
    "    soup = BeautifulSoup(r.content, 'html.parser')\n",
    "\n",
    "    # Get station Names\n",
    "    station_names = soup.findAll('div', class_='poi-item-name truncate')\n",
    "    station_names = [val.get_text() for val in station_names]\n",
    "\n",
    "    # Get station Addresses\n",
    "    station_address = soup.findAll('div', class_=\"poi-item-details-address truncate\")\n",
    "    station_address = [val.get_text() for val in station_address]\n",
    "    print(len(station_names), len(station_address))\n",
    "    #print(station_names,'\\n\\n', station_address)\n",
    "\n",
    "    # Combine the Scrapped data into a list ready to be converted into a DataFrame\n",
    "    dat_zip = zip(station_names[:10], station_address[:10])\n",
    "\n",
    "    zipped_dat = list(dat_zip)\n",
    "    dat_zip = ''\n",
    "    data = [list(i) for i in zipped_dat]\n",
    "    zipped_dat.clear()\n",
    "    \n",
    "    # Clear the list to save memory        \n",
    "    station_names.clear()\n",
    "    station_address.clear()\n",
    "    \n",
    "\n",
    "    # Create DataFrame from the data list\n",
    "    data_df = pd.DataFrame(data, columns=['Station_Name', 'Station_Address'])\n",
    "    data.clear()\n",
    "\n",
    "    # Generate a UUID for each row based on the values in 'Station_Name' and 'Station_Address'\n",
    "    generate_uuid = lambda row: uuid.uuid5(uuid.NAMESPACE_DNS, str(row['Station_Name']) + str(row['Station_Address'])).hex\n",
    "    \n",
    "    # Enrich Station Address here\n",
    "    enriched_address_df = split_address(list(data_df['Station_Address']))        \n",
    "\n",
    "    # Add new columns to the created DataFrame    \n",
    "    data_df['id'] = data_df.apply(generate_uuid, axis=1)\n",
    "\n",
    "    #Rearrange DataFrame\n",
    "    data_df = data_df[['id', 'Station_Name', 'Station_Address']]\n",
    "    \n",
    "    # Add the new DataFrame to the old one by concatenating the dataframes vertically\n",
    "    data_df = pd.concat([data_df, enriched_address_df])\n",
    "    data_df[\"country\"] = ctry\n",
    "    \n",
    "    print('DataFrame to SAVE\\n\\n',data_df.head(5))\n",
    "    \n",
    "    # Save the Data to DB\n",
    "    save_data(data_df)\n",
    "\n",
    "        \n",
    "\n",
    "for url, ctry in zip(country_url_list, countries):\n",
    "    try:\n",
    "        # Scrape the page and save data\n",
    "        get_and_save_data(url, ctry)        \n",
    "        \n",
    "        # Get and prepare Pagination        \n",
    "        page_n = get_pagination(url)\n",
    "        if get_pagi_url_max_num(page_n):\n",
    "            print('More')\n",
    "            pgination_url, max_pg = get_pagi_url_max_num(page_n)\n",
    "            for i in range(2, max_pg + 1):  # range(2, max_pg+1)\n",
    "                get_and_save_data(pgination_url+str(i), ctry)\n",
    "        else:\n",
    "            print('less')\n",
    "            continue\n",
    "        \n",
    "    except Exception as err:\n",
    "        print(err)\n",
    "        "
   ]
  },
  {
   "cell_type": "code",
   "execution_count": 152,
   "id": "9c308e6a-a133-4943-9cb5-22c31d23bfe2",
   "metadata": {
    "tags": []
   },
   "outputs": [
    {
     "name": "stdout",
     "output_type": "stream",
     "text": [
      "France https://www.viamichelin.fr/web/Stations-service?address=France <Response [200]>\n",
      "48 48\n",
      "id                 2392873b80645709b79ebc7afaf057f0\n",
      "Station_Name                       CARREFOUR Market\n",
      "Station_Address       route de vire, 50000 Saint-Lô\n",
      "country                                      France\n",
      "Name: 0, dtype: object\n",
      "More\n",
      "France https://www.viamichelin.fr/web/Stations-service/Stations-service-France?page=2 <Response [200]>\n",
      "48 48\n",
      "id                             6b055a4ea7005feb9b34de6f00d6668d\n",
      "Station_Name                                            HYPER U\n",
      "Station_Address    Voie des Alliés, 14440 DOUVRES-LA-DéLIVRANDE\n",
      "country                                                  France\n",
      "Name: 0, dtype: object\n",
      "France https://www.viamichelin.fr/web/Stations-service/Stations-service-France?page=3 <Response [200]>\n",
      "48 48\n",
      "id                 c04539d04e295e25aaceb15cfb5f9e79\n",
      "Station_Name                            AVIA XPRESS\n",
      "Station_Address            RD N 3 -, 21260 SELONGEY\n",
      "country                                      France\n",
      "Name: 0, dtype: object\n",
      "France https://www.viamichelin.fr/web/Stations-service/Stations-service-France?page=4 <Response [200]>\n",
      "48 48\n"
     ]
    },
    {
     "ename": "KeyboardInterrupt",
     "evalue": "",
     "output_type": "error",
     "traceback": [
      "\u001b[0;31m---------------------------------------------------------------------------\u001b[0m",
      "\u001b[0;31mKeyboardInterrupt\u001b[0m                         Traceback (most recent call last)",
      "Input \u001b[0;32mIn [152]\u001b[0m, in \u001b[0;36m<cell line: 130>\u001b[0;34m()\u001b[0m\n\u001b[1;32m    139\u001b[0m     pgination_url, max_pg \u001b[38;5;241m=\u001b[39m get_pagi_url_max_num(page_n)\n\u001b[1;32m    140\u001b[0m     \u001b[38;5;28;01mfor\u001b[39;00m i \u001b[38;5;129;01min\u001b[39;00m \u001b[38;5;28mrange\u001b[39m(\u001b[38;5;241m2\u001b[39m, max_pg \u001b[38;5;241m+\u001b[39m \u001b[38;5;241m1\u001b[39m):  \u001b[38;5;66;03m# range(2, max_pg+1)\u001b[39;00m\n\u001b[0;32m--> 141\u001b[0m         \u001b[43mget_and_save_data\u001b[49m\u001b[43m(\u001b[49m\u001b[43mpgination_url\u001b[49m\u001b[38;5;241;43m+\u001b[39;49m\u001b[38;5;28;43mstr\u001b[39;49m\u001b[43m(\u001b[49m\u001b[43mi\u001b[49m\u001b[43m)\u001b[49m\u001b[43m,\u001b[49m\u001b[43m \u001b[49m\u001b[43mctry\u001b[49m\u001b[43m)\u001b[49m\n\u001b[1;32m    142\u001b[0m \u001b[38;5;28;01melse\u001b[39;00m:\n\u001b[1;32m    143\u001b[0m     \u001b[38;5;28mprint\u001b[39m(\u001b[38;5;124m'\u001b[39m\u001b[38;5;124mless\u001b[39m\u001b[38;5;124m'\u001b[39m)\n",
      "Input \u001b[0;32mIn [152]\u001b[0m, in \u001b[0;36mget_and_save_data\u001b[0;34m(url, ctry)\u001b[0m\n\u001b[1;32m    123\u001b[0m data_df \u001b[38;5;241m=\u001b[39m data_df[[\u001b[38;5;124m'\u001b[39m\u001b[38;5;124mid\u001b[39m\u001b[38;5;124m'\u001b[39m, \u001b[38;5;124m'\u001b[39m\u001b[38;5;124mStation_Name\u001b[39m\u001b[38;5;124m'\u001b[39m, \u001b[38;5;124m'\u001b[39m\u001b[38;5;124mStation_Address\u001b[39m\u001b[38;5;124m'\u001b[39m, \u001b[38;5;124m'\u001b[39m\u001b[38;5;124mcountry\u001b[39m\u001b[38;5;124m'\u001b[39m]]\n\u001b[1;32m    125\u001b[0m \u001b[38;5;66;03m# Save the Data to DB\u001b[39;00m\n\u001b[0;32m--> 126\u001b[0m \u001b[43msave_data\u001b[49m\u001b[43m(\u001b[49m\u001b[43mdata_df\u001b[49m\u001b[43m)\u001b[49m\n",
      "Input \u001b[0;32mIn [152]\u001b[0m, in \u001b[0;36msave_data\u001b[0;34m(data_df)\u001b[0m\n\u001b[1;32m     71\u001b[0m \u001b[38;5;66;03m#print('Del Query is ', del_existing_rows_query)\u001b[39;00m\n\u001b[1;32m     72\u001b[0m \u001b[38;5;28;01mwith\u001b[39;00m snow_engine\u001b[38;5;241m.\u001b[39mconnect() \u001b[38;5;28;01mas\u001b[39;00m conn:\n\u001b[0;32m---> 73\u001b[0m     \u001b[43mconn\u001b[49m\u001b[38;5;241;43m.\u001b[39;49m\u001b[43mexecute\u001b[49m\u001b[43m(\u001b[49m\u001b[43mdel_existing_rows_query\u001b[49m\u001b[43m)\u001b[49m\n\u001b[1;32m     75\u001b[0m \u001b[38;5;66;03m# Save data in the DataFrame    \u001b[39;00m\n\u001b[1;32m     76\u001b[0m data_df\u001b[38;5;241m.\u001b[39mto_sql(target_table, con\u001b[38;5;241m=\u001b[39msnow_engine, schema\u001b[38;5;241m=\u001b[39m\u001b[38;5;124m'\u001b[39m\u001b[38;5;124mpublic\u001b[39m\u001b[38;5;124m'\u001b[39m, index\u001b[38;5;241m=\u001b[39m\u001b[38;5;28;01mFalse\u001b[39;00m, if_exists\u001b[38;5;241m=\u001b[39m\u001b[38;5;124m'\u001b[39m\u001b[38;5;124mappend\u001b[39m\u001b[38;5;124m'\u001b[39m)\n",
      "File \u001b[0;32m~/opt/anaconda3/envs/route_env/lib/python3.10/site-packages/sqlalchemy/engine/base.py:1365\u001b[0m, in \u001b[0;36mConnection.execute\u001b[0;34m(self, statement, *multiparams, **params)\u001b[0m\n\u001b[1;32m   1356\u001b[0m \u001b[38;5;28;01mif\u001b[39;00m \u001b[38;5;28misinstance\u001b[39m(statement, util\u001b[38;5;241m.\u001b[39mstring_types):\n\u001b[1;32m   1357\u001b[0m     util\u001b[38;5;241m.\u001b[39mwarn_deprecated_20(\n\u001b[1;32m   1358\u001b[0m         \u001b[38;5;124m\"\u001b[39m\u001b[38;5;124mPassing a string to Connection.execute() is \u001b[39m\u001b[38;5;124m\"\u001b[39m\n\u001b[1;32m   1359\u001b[0m         \u001b[38;5;124m\"\u001b[39m\u001b[38;5;124mdeprecated and will be removed in version 2.0.  Use the \u001b[39m\u001b[38;5;124m\"\u001b[39m\n\u001b[0;32m   (...)\u001b[0m\n\u001b[1;32m   1362\u001b[0m         \u001b[38;5;124m\"\u001b[39m\u001b[38;5;124mdriver-level SQL string.\u001b[39m\u001b[38;5;124m\"\u001b[39m\n\u001b[1;32m   1363\u001b[0m     )\n\u001b[0;32m-> 1365\u001b[0m     \u001b[38;5;28;01mreturn\u001b[39;00m \u001b[38;5;28;43mself\u001b[39;49m\u001b[38;5;241;43m.\u001b[39;49m\u001b[43m_exec_driver_sql\u001b[49m\u001b[43m(\u001b[49m\n\u001b[1;32m   1366\u001b[0m \u001b[43m        \u001b[49m\u001b[43mstatement\u001b[49m\u001b[43m,\u001b[49m\n\u001b[1;32m   1367\u001b[0m \u001b[43m        \u001b[49m\u001b[43mmultiparams\u001b[49m\u001b[43m,\u001b[49m\n\u001b[1;32m   1368\u001b[0m \u001b[43m        \u001b[49m\u001b[43mparams\u001b[49m\u001b[43m,\u001b[49m\n\u001b[1;32m   1369\u001b[0m \u001b[43m        \u001b[49m\u001b[43m_EMPTY_EXECUTION_OPTS\u001b[49m\u001b[43m,\u001b[49m\n\u001b[1;32m   1370\u001b[0m \u001b[43m        \u001b[49m\u001b[43mfuture\u001b[49m\u001b[38;5;241;43m=\u001b[39;49m\u001b[38;5;28;43;01mFalse\u001b[39;49;00m\u001b[43m,\u001b[49m\n\u001b[1;32m   1371\u001b[0m \u001b[43m    \u001b[49m\u001b[43m)\u001b[49m\n\u001b[1;32m   1373\u001b[0m \u001b[38;5;28;01mtry\u001b[39;00m:\n\u001b[1;32m   1374\u001b[0m     meth \u001b[38;5;241m=\u001b[39m statement\u001b[38;5;241m.\u001b[39m_execute_on_connection\n",
      "File \u001b[0;32m~/opt/anaconda3/envs/route_env/lib/python3.10/site-packages/sqlalchemy/engine/base.py:1669\u001b[0m, in \u001b[0;36mConnection._exec_driver_sql\u001b[0;34m(self, statement, multiparams, params, execution_options, future)\u001b[0m\n\u001b[1;32m   1659\u001b[0m         (\n\u001b[1;32m   1660\u001b[0m             statement,\n\u001b[1;32m   1661\u001b[0m             distilled_params,\n\u001b[0;32m   (...)\u001b[0m\n\u001b[1;32m   1665\u001b[0m             statement, distilled_parameters, execution_options\n\u001b[1;32m   1666\u001b[0m         )\n\u001b[1;32m   1668\u001b[0m dialect \u001b[38;5;241m=\u001b[39m \u001b[38;5;28mself\u001b[39m\u001b[38;5;241m.\u001b[39mdialect\n\u001b[0;32m-> 1669\u001b[0m ret \u001b[38;5;241m=\u001b[39m \u001b[38;5;28;43mself\u001b[39;49m\u001b[38;5;241;43m.\u001b[39;49m\u001b[43m_execute_context\u001b[49m\u001b[43m(\u001b[49m\n\u001b[1;32m   1670\u001b[0m \u001b[43m    \u001b[49m\u001b[43mdialect\u001b[49m\u001b[43m,\u001b[49m\n\u001b[1;32m   1671\u001b[0m \u001b[43m    \u001b[49m\u001b[43mdialect\u001b[49m\u001b[38;5;241;43m.\u001b[39;49m\u001b[43mexecution_ctx_cls\u001b[49m\u001b[38;5;241;43m.\u001b[39;49m\u001b[43m_init_statement\u001b[49m\u001b[43m,\u001b[49m\n\u001b[1;32m   1672\u001b[0m \u001b[43m    \u001b[49m\u001b[43mstatement\u001b[49m\u001b[43m,\u001b[49m\n\u001b[1;32m   1673\u001b[0m \u001b[43m    \u001b[49m\u001b[43mdistilled_parameters\u001b[49m\u001b[43m,\u001b[49m\n\u001b[1;32m   1674\u001b[0m \u001b[43m    \u001b[49m\u001b[43mexecution_options\u001b[49m\u001b[43m,\u001b[49m\n\u001b[1;32m   1675\u001b[0m \u001b[43m    \u001b[49m\u001b[43mstatement\u001b[49m\u001b[43m,\u001b[49m\n\u001b[1;32m   1676\u001b[0m \u001b[43m    \u001b[49m\u001b[43mdistilled_parameters\u001b[49m\u001b[43m,\u001b[49m\n\u001b[1;32m   1677\u001b[0m \u001b[43m\u001b[49m\u001b[43m)\u001b[49m\n\u001b[1;32m   1679\u001b[0m \u001b[38;5;28;01mif\u001b[39;00m \u001b[38;5;129;01mnot\u001b[39;00m future:\n\u001b[1;32m   1680\u001b[0m     \u001b[38;5;28;01mif\u001b[39;00m \u001b[38;5;28mself\u001b[39m\u001b[38;5;241m.\u001b[39m_has_events \u001b[38;5;129;01mor\u001b[39;00m \u001b[38;5;28mself\u001b[39m\u001b[38;5;241m.\u001b[39mengine\u001b[38;5;241m.\u001b[39m_has_events:\n",
      "File \u001b[0;32m~/opt/anaconda3/envs/route_env/lib/python3.10/site-packages/sqlalchemy/engine/base.py:1943\u001b[0m, in \u001b[0;36mConnection._execute_context\u001b[0;34m(self, dialect, constructor, statement, parameters, execution_options, *args, **kw)\u001b[0m\n\u001b[1;32m   1940\u001b[0m             branched\u001b[38;5;241m.\u001b[39mclose()\n\u001b[1;32m   1942\u001b[0m \u001b[38;5;28;01mexcept\u001b[39;00m \u001b[38;5;167;01mBaseException\u001b[39;00m \u001b[38;5;28;01mas\u001b[39;00m e:\n\u001b[0;32m-> 1943\u001b[0m     \u001b[38;5;28;43mself\u001b[39;49m\u001b[38;5;241;43m.\u001b[39;49m\u001b[43m_handle_dbapi_exception\u001b[49m\u001b[43m(\u001b[49m\n\u001b[1;32m   1944\u001b[0m \u001b[43m        \u001b[49m\u001b[43me\u001b[49m\u001b[43m,\u001b[49m\u001b[43m \u001b[49m\u001b[43mstatement\u001b[49m\u001b[43m,\u001b[49m\u001b[43m \u001b[49m\u001b[43mparameters\u001b[49m\u001b[43m,\u001b[49m\u001b[43m \u001b[49m\u001b[43mcursor\u001b[49m\u001b[43m,\u001b[49m\u001b[43m \u001b[49m\u001b[43mcontext\u001b[49m\n\u001b[1;32m   1945\u001b[0m \u001b[43m    \u001b[49m\u001b[43m)\u001b[49m\n\u001b[1;32m   1947\u001b[0m \u001b[38;5;28;01mreturn\u001b[39;00m result\n",
      "File \u001b[0;32m~/opt/anaconda3/envs/route_env/lib/python3.10/site-packages/sqlalchemy/engine/base.py:2128\u001b[0m, in \u001b[0;36mConnection._handle_dbapi_exception\u001b[0;34m(self, e, statement, parameters, cursor, context)\u001b[0m\n\u001b[1;32m   2124\u001b[0m         util\u001b[38;5;241m.\u001b[39mraise_(\n\u001b[1;32m   2125\u001b[0m             sqlalchemy_exception, with_traceback\u001b[38;5;241m=\u001b[39mexc_info[\u001b[38;5;241m2\u001b[39m], from_\u001b[38;5;241m=\u001b[39me\n\u001b[1;32m   2126\u001b[0m         )\n\u001b[1;32m   2127\u001b[0m     \u001b[38;5;28;01melse\u001b[39;00m:\n\u001b[0;32m-> 2128\u001b[0m         \u001b[43mutil\u001b[49m\u001b[38;5;241;43m.\u001b[39;49m\u001b[43mraise_\u001b[49m\u001b[43m(\u001b[49m\u001b[43mexc_info\u001b[49m\u001b[43m[\u001b[49m\u001b[38;5;241;43m1\u001b[39;49m\u001b[43m]\u001b[49m\u001b[43m,\u001b[49m\u001b[43m \u001b[49m\u001b[43mwith_traceback\u001b[49m\u001b[38;5;241;43m=\u001b[39;49m\u001b[43mexc_info\u001b[49m\u001b[43m[\u001b[49m\u001b[38;5;241;43m2\u001b[39;49m\u001b[43m]\u001b[49m\u001b[43m)\u001b[49m\n\u001b[1;32m   2130\u001b[0m \u001b[38;5;28;01mfinally\u001b[39;00m:\n\u001b[1;32m   2131\u001b[0m     \u001b[38;5;28;01mdel\u001b[39;00m \u001b[38;5;28mself\u001b[39m\u001b[38;5;241m.\u001b[39m_reentrant_error\n",
      "File \u001b[0;32m~/opt/anaconda3/envs/route_env/lib/python3.10/site-packages/sqlalchemy/util/compat.py:211\u001b[0m, in \u001b[0;36mraise_\u001b[0;34m(***failed resolving arguments***)\u001b[0m\n\u001b[1;32m    208\u001b[0m     exception\u001b[38;5;241m.\u001b[39m__cause__ \u001b[38;5;241m=\u001b[39m replace_context\n\u001b[1;32m    210\u001b[0m \u001b[38;5;28;01mtry\u001b[39;00m:\n\u001b[0;32m--> 211\u001b[0m     \u001b[38;5;28;01mraise\u001b[39;00m exception\n\u001b[1;32m    212\u001b[0m \u001b[38;5;28;01mfinally\u001b[39;00m:\n\u001b[1;32m    213\u001b[0m     \u001b[38;5;66;03m# credit to\u001b[39;00m\n\u001b[1;32m    214\u001b[0m     \u001b[38;5;66;03m# https://cosmicpercolator.com/2016/01/13/exception-leaks-in-python-2-and-3/\u001b[39;00m\n\u001b[1;32m    215\u001b[0m     \u001b[38;5;66;03m# as the __traceback__ object creates a cycle\u001b[39;00m\n\u001b[1;32m    216\u001b[0m     \u001b[38;5;28;01mdel\u001b[39;00m exception, replace_context, from_, with_traceback\n",
      "File \u001b[0;32m~/opt/anaconda3/envs/route_env/lib/python3.10/site-packages/sqlalchemy/engine/base.py:1900\u001b[0m, in \u001b[0;36mConnection._execute_context\u001b[0;34m(self, dialect, constructor, statement, parameters, execution_options, *args, **kw)\u001b[0m\n\u001b[1;32m   1898\u001b[0m                 \u001b[38;5;28;01mbreak\u001b[39;00m\n\u001b[1;32m   1899\u001b[0m     \u001b[38;5;28;01mif\u001b[39;00m \u001b[38;5;129;01mnot\u001b[39;00m evt_handled:\n\u001b[0;32m-> 1900\u001b[0m         \u001b[38;5;28;43mself\u001b[39;49m\u001b[38;5;241;43m.\u001b[39;49m\u001b[43mdialect\u001b[49m\u001b[38;5;241;43m.\u001b[39;49m\u001b[43mdo_execute\u001b[49m\u001b[43m(\u001b[49m\n\u001b[1;32m   1901\u001b[0m \u001b[43m            \u001b[49m\u001b[43mcursor\u001b[49m\u001b[43m,\u001b[49m\u001b[43m \u001b[49m\u001b[43mstatement\u001b[49m\u001b[43m,\u001b[49m\u001b[43m \u001b[49m\u001b[43mparameters\u001b[49m\u001b[43m,\u001b[49m\u001b[43m \u001b[49m\u001b[43mcontext\u001b[49m\n\u001b[1;32m   1902\u001b[0m \u001b[43m        \u001b[49m\u001b[43m)\u001b[49m\n\u001b[1;32m   1904\u001b[0m \u001b[38;5;28;01mif\u001b[39;00m \u001b[38;5;28mself\u001b[39m\u001b[38;5;241m.\u001b[39m_has_events \u001b[38;5;129;01mor\u001b[39;00m \u001b[38;5;28mself\u001b[39m\u001b[38;5;241m.\u001b[39mengine\u001b[38;5;241m.\u001b[39m_has_events:\n\u001b[1;32m   1905\u001b[0m     \u001b[38;5;28mself\u001b[39m\u001b[38;5;241m.\u001b[39mdispatch\u001b[38;5;241m.\u001b[39mafter_cursor_execute(\n\u001b[1;32m   1906\u001b[0m         \u001b[38;5;28mself\u001b[39m,\n\u001b[1;32m   1907\u001b[0m         cursor,\n\u001b[0;32m   (...)\u001b[0m\n\u001b[1;32m   1911\u001b[0m         context\u001b[38;5;241m.\u001b[39mexecutemany,\n\u001b[1;32m   1912\u001b[0m     )\n",
      "File \u001b[0;32m~/opt/anaconda3/envs/route_env/lib/python3.10/site-packages/sqlalchemy/engine/default.py:736\u001b[0m, in \u001b[0;36mDefaultDialect.do_execute\u001b[0;34m(self, cursor, statement, parameters, context)\u001b[0m\n\u001b[1;32m    735\u001b[0m \u001b[38;5;28;01mdef\u001b[39;00m \u001b[38;5;21mdo_execute\u001b[39m(\u001b[38;5;28mself\u001b[39m, cursor, statement, parameters, context\u001b[38;5;241m=\u001b[39m\u001b[38;5;28;01mNone\u001b[39;00m):\n\u001b[0;32m--> 736\u001b[0m     \u001b[43mcursor\u001b[49m\u001b[38;5;241;43m.\u001b[39;49m\u001b[43mexecute\u001b[49m\u001b[43m(\u001b[49m\u001b[43mstatement\u001b[49m\u001b[43m,\u001b[49m\u001b[43m \u001b[49m\u001b[43mparameters\u001b[49m\u001b[43m)\u001b[49m\n",
      "File \u001b[0;32m~/opt/anaconda3/envs/route_env/lib/python3.10/site-packages/snowflake/connector/cursor.py:705\u001b[0m, in \u001b[0;36mSnowflakeCursor.execute\u001b[0;34m(self, command, params, _bind_stage, timeout, _exec_async, _do_reset, _put_callback, _put_azure_callback, _put_callback_output_stream, _get_callback, _get_azure_callback, _get_callback_output_stream, _show_progress_bar, _statement_params, _is_internal, _describe_only, _no_results, _use_ijson, _is_put_get, _raise_put_get_error, _force_put_overwrite, file_stream)\u001b[0m\n\u001b[1;32m    703\u001b[0m \u001b[38;5;28;01mif\u001b[39;00m logger\u001b[38;5;241m.\u001b[39mgetEffectiveLevel() \u001b[38;5;241m<\u001b[39m\u001b[38;5;241m=\u001b[39m logging\u001b[38;5;241m.\u001b[39mINFO:\n\u001b[1;32m    704\u001b[0m     logger\u001b[38;5;241m.\u001b[39minfo(\u001b[38;5;124m\"\u001b[39m\u001b[38;5;124mquery: [\u001b[39m\u001b[38;5;132;01m%s\u001b[39;00m\u001b[38;5;124m]\u001b[39m\u001b[38;5;124m\"\u001b[39m, \u001b[38;5;28mself\u001b[39m\u001b[38;5;241m.\u001b[39m_format_query_for_log(query))\n\u001b[0;32m--> 705\u001b[0m ret \u001b[38;5;241m=\u001b[39m \u001b[38;5;28;43mself\u001b[39;49m\u001b[38;5;241;43m.\u001b[39;49m\u001b[43m_execute_helper\u001b[49m\u001b[43m(\u001b[49m\u001b[43mquery\u001b[49m\u001b[43m,\u001b[49m\u001b[43m \u001b[49m\u001b[38;5;241;43m*\u001b[39;49m\u001b[38;5;241;43m*\u001b[39;49m\u001b[43mkwargs\u001b[49m\u001b[43m)\u001b[49m\n\u001b[1;32m    706\u001b[0m \u001b[38;5;28mself\u001b[39m\u001b[38;5;241m.\u001b[39m_sfqid \u001b[38;5;241m=\u001b[39m (\n\u001b[1;32m    707\u001b[0m     ret[\u001b[38;5;124m\"\u001b[39m\u001b[38;5;124mdata\u001b[39m\u001b[38;5;124m\"\u001b[39m][\u001b[38;5;124m\"\u001b[39m\u001b[38;5;124mqueryId\u001b[39m\u001b[38;5;124m\"\u001b[39m]\n\u001b[1;32m    708\u001b[0m     \u001b[38;5;28;01mif\u001b[39;00m \u001b[38;5;124m\"\u001b[39m\u001b[38;5;124mdata\u001b[39m\u001b[38;5;124m\"\u001b[39m \u001b[38;5;129;01min\u001b[39;00m ret \u001b[38;5;129;01mand\u001b[39;00m \u001b[38;5;124m\"\u001b[39m\u001b[38;5;124mqueryId\u001b[39m\u001b[38;5;124m\"\u001b[39m \u001b[38;5;129;01min\u001b[39;00m ret[\u001b[38;5;124m\"\u001b[39m\u001b[38;5;124mdata\u001b[39m\u001b[38;5;124m\"\u001b[39m]\n\u001b[1;32m    709\u001b[0m     \u001b[38;5;28;01melse\u001b[39;00m \u001b[38;5;28;01mNone\u001b[39;00m\n\u001b[1;32m    710\u001b[0m )\n\u001b[1;32m    711\u001b[0m \u001b[38;5;28mself\u001b[39m\u001b[38;5;241m.\u001b[39m_sqlstate \u001b[38;5;241m=\u001b[39m (\n\u001b[1;32m    712\u001b[0m     ret[\u001b[38;5;124m\"\u001b[39m\u001b[38;5;124mdata\u001b[39m\u001b[38;5;124m\"\u001b[39m][\u001b[38;5;124m\"\u001b[39m\u001b[38;5;124msqlState\u001b[39m\u001b[38;5;124m\"\u001b[39m]\n\u001b[1;32m    713\u001b[0m     \u001b[38;5;28;01mif\u001b[39;00m \u001b[38;5;124m\"\u001b[39m\u001b[38;5;124mdata\u001b[39m\u001b[38;5;124m\"\u001b[39m \u001b[38;5;129;01min\u001b[39;00m ret \u001b[38;5;129;01mand\u001b[39;00m \u001b[38;5;124m\"\u001b[39m\u001b[38;5;124msqlState\u001b[39m\u001b[38;5;124m\"\u001b[39m \u001b[38;5;129;01min\u001b[39;00m ret[\u001b[38;5;124m\"\u001b[39m\u001b[38;5;124mdata\u001b[39m\u001b[38;5;124m\"\u001b[39m]\n\u001b[1;32m    714\u001b[0m     \u001b[38;5;28;01melse\u001b[39;00m \u001b[38;5;28;01mNone\u001b[39;00m\n\u001b[1;32m    715\u001b[0m )\n",
      "File \u001b[0;32m~/opt/anaconda3/envs/route_env/lib/python3.10/site-packages/snowflake/connector/cursor.py:508\u001b[0m, in \u001b[0;36mSnowflakeCursor._execute_helper\u001b[0;34m(self, query, timeout, statement_params, binding_params, binding_stage, is_internal, describe_only, _no_results, _is_put_get)\u001b[0m\n\u001b[1;32m    506\u001b[0m ret \u001b[38;5;241m=\u001b[39m {\u001b[38;5;124m\"\u001b[39m\u001b[38;5;124mdata\u001b[39m\u001b[38;5;124m\"\u001b[39m: {}}\n\u001b[1;32m    507\u001b[0m \u001b[38;5;28;01mtry\u001b[39;00m:\n\u001b[0;32m--> 508\u001b[0m     ret \u001b[38;5;241m=\u001b[39m \u001b[38;5;28;43mself\u001b[39;49m\u001b[38;5;241;43m.\u001b[39;49m\u001b[43m_connection\u001b[49m\u001b[38;5;241;43m.\u001b[39;49m\u001b[43mcmd_query\u001b[49m\u001b[43m(\u001b[49m\n\u001b[1;32m    509\u001b[0m \u001b[43m        \u001b[49m\u001b[43mquery\u001b[49m\u001b[43m,\u001b[49m\n\u001b[1;32m    510\u001b[0m \u001b[43m        \u001b[49m\u001b[38;5;28;43mself\u001b[39;49m\u001b[38;5;241;43m.\u001b[39;49m\u001b[43m_sequence_counter\u001b[49m\u001b[43m,\u001b[49m\n\u001b[1;32m    511\u001b[0m \u001b[43m        \u001b[49m\u001b[38;5;28;43mself\u001b[39;49m\u001b[38;5;241;43m.\u001b[39;49m\u001b[43m_request_id\u001b[49m\u001b[43m,\u001b[49m\n\u001b[1;32m    512\u001b[0m \u001b[43m        \u001b[49m\u001b[43mbinding_params\u001b[49m\u001b[38;5;241;43m=\u001b[39;49m\u001b[43mbinding_params\u001b[49m\u001b[43m,\u001b[49m\n\u001b[1;32m    513\u001b[0m \u001b[43m        \u001b[49m\u001b[43mbinding_stage\u001b[49m\u001b[38;5;241;43m=\u001b[39;49m\u001b[43mbinding_stage\u001b[49m\u001b[43m,\u001b[49m\n\u001b[1;32m    514\u001b[0m \u001b[43m        \u001b[49m\u001b[43mis_file_transfer\u001b[49m\u001b[38;5;241;43m=\u001b[39;49m\u001b[38;5;28;43mbool\u001b[39;49m\u001b[43m(\u001b[49m\u001b[38;5;28;43mself\u001b[39;49m\u001b[38;5;241;43m.\u001b[39;49m\u001b[43m_is_file_transfer\u001b[49m\u001b[43m)\u001b[49m\u001b[43m,\u001b[49m\n\u001b[1;32m    515\u001b[0m \u001b[43m        \u001b[49m\u001b[43mstatement_params\u001b[49m\u001b[38;5;241;43m=\u001b[39;49m\u001b[43mstatement_params\u001b[49m\u001b[43m,\u001b[49m\n\u001b[1;32m    516\u001b[0m \u001b[43m        \u001b[49m\u001b[43mis_internal\u001b[49m\u001b[38;5;241;43m=\u001b[39;49m\u001b[43mis_internal\u001b[49m\u001b[43m,\u001b[49m\n\u001b[1;32m    517\u001b[0m \u001b[43m        \u001b[49m\u001b[43mdescribe_only\u001b[49m\u001b[38;5;241;43m=\u001b[39;49m\u001b[43mdescribe_only\u001b[49m\u001b[43m,\u001b[49m\n\u001b[1;32m    518\u001b[0m \u001b[43m        \u001b[49m\u001b[43m_no_results\u001b[49m\u001b[38;5;241;43m=\u001b[39;49m\u001b[43m_no_results\u001b[49m\u001b[43m,\u001b[49m\n\u001b[1;32m    519\u001b[0m \u001b[43m    \u001b[49m\u001b[43m)\u001b[49m\n\u001b[1;32m    520\u001b[0m \u001b[38;5;28;01mfinally\u001b[39;00m:\n\u001b[1;32m    521\u001b[0m     \u001b[38;5;28;01mtry\u001b[39;00m:\n",
      "File \u001b[0;32m~/opt/anaconda3/envs/route_env/lib/python3.10/site-packages/snowflake/connector/connection.py:955\u001b[0m, in \u001b[0;36mSnowflakeConnection.cmd_query\u001b[0;34m(self, sql, sequence_counter, request_id, binding_params, binding_stage, is_file_transfer, statement_params, is_internal, describe_only, _no_results, _update_current_object)\u001b[0m\n\u001b[1;32m    946\u001b[0m     logger\u001b[38;5;241m.\u001b[39mdebug(\n\u001b[1;32m    947\u001b[0m         \u001b[38;5;124m\"\u001b[39m\u001b[38;5;124msql=[\u001b[39m\u001b[38;5;132;01m%s\u001b[39;00m\u001b[38;5;124m], sequence_id=[\u001b[39m\u001b[38;5;132;01m%s\u001b[39;00m\u001b[38;5;124m], is_file_transfer=[\u001b[39m\u001b[38;5;132;01m%s\u001b[39;00m\u001b[38;5;124m]\u001b[39m\u001b[38;5;124m\"\u001b[39m,\n\u001b[1;32m    948\u001b[0m         \u001b[38;5;28mself\u001b[39m\u001b[38;5;241m.\u001b[39m_format_query_for_log(data[\u001b[38;5;124m\"\u001b[39m\u001b[38;5;124msqlText\u001b[39m\u001b[38;5;124m\"\u001b[39m]),\n\u001b[1;32m    949\u001b[0m         data[\u001b[38;5;124m\"\u001b[39m\u001b[38;5;124msequenceId\u001b[39m\u001b[38;5;124m\"\u001b[39m],\n\u001b[1;32m    950\u001b[0m         is_file_transfer,\n\u001b[1;32m    951\u001b[0m     )\n\u001b[1;32m    953\u001b[0m url_parameters \u001b[38;5;241m=\u001b[39m {REQUEST_ID: request_id}\n\u001b[0;32m--> 955\u001b[0m ret \u001b[38;5;241m=\u001b[39m \u001b[38;5;28;43mself\u001b[39;49m\u001b[38;5;241;43m.\u001b[39;49m\u001b[43mrest\u001b[49m\u001b[38;5;241;43m.\u001b[39;49m\u001b[43mrequest\u001b[49m\u001b[43m(\u001b[49m\n\u001b[1;32m    956\u001b[0m \u001b[43m    \u001b[49m\u001b[38;5;124;43m\"\u001b[39;49m\u001b[38;5;124;43m/queries/v1/query-request?\u001b[39;49m\u001b[38;5;124;43m\"\u001b[39;49m\u001b[43m \u001b[49m\u001b[38;5;241;43m+\u001b[39;49m\u001b[43m \u001b[49m\u001b[43murlencode\u001b[49m\u001b[43m(\u001b[49m\u001b[43murl_parameters\u001b[49m\u001b[43m)\u001b[49m\u001b[43m,\u001b[49m\n\u001b[1;32m    957\u001b[0m \u001b[43m    \u001b[49m\u001b[43mdata\u001b[49m\u001b[43m,\u001b[49m\n\u001b[1;32m    958\u001b[0m \u001b[43m    \u001b[49m\u001b[43mclient\u001b[49m\u001b[38;5;241;43m=\u001b[39;49m\u001b[43mclient\u001b[49m\u001b[43m,\u001b[49m\n\u001b[1;32m    959\u001b[0m \u001b[43m    \u001b[49m\u001b[43m_no_results\u001b[49m\u001b[38;5;241;43m=\u001b[39;49m\u001b[43m_no_results\u001b[49m\u001b[43m,\u001b[49m\n\u001b[1;32m    960\u001b[0m \u001b[43m    \u001b[49m\u001b[43m_include_retry_params\u001b[49m\u001b[38;5;241;43m=\u001b[39;49m\u001b[38;5;28;43;01mTrue\u001b[39;49;00m\u001b[43m,\u001b[49m\n\u001b[1;32m    961\u001b[0m \u001b[43m\u001b[49m\u001b[43m)\u001b[49m\n\u001b[1;32m    963\u001b[0m \u001b[38;5;28;01mif\u001b[39;00m ret \u001b[38;5;129;01mis\u001b[39;00m \u001b[38;5;28;01mNone\u001b[39;00m:\n\u001b[1;32m    964\u001b[0m     ret \u001b[38;5;241m=\u001b[39m {\u001b[38;5;124m\"\u001b[39m\u001b[38;5;124mdata\u001b[39m\u001b[38;5;124m\"\u001b[39m: {}}\n",
      "File \u001b[0;32m~/opt/anaconda3/envs/route_env/lib/python3.10/site-packages/snowflake/connector/network.py:462\u001b[0m, in \u001b[0;36mSnowflakeRestful.request\u001b[0;34m(self, url, body, method, client, _no_results, timeout, _include_retry_params)\u001b[0m\n\u001b[1;32m    460\u001b[0m     headers[HTTP_HEADER_SERVICE_NAME] \u001b[38;5;241m=\u001b[39m \u001b[38;5;28mself\u001b[39m\u001b[38;5;241m.\u001b[39m_connection\u001b[38;5;241m.\u001b[39mservice_name\n\u001b[1;32m    461\u001b[0m \u001b[38;5;28;01mif\u001b[39;00m method \u001b[38;5;241m==\u001b[39m \u001b[38;5;124m\"\u001b[39m\u001b[38;5;124mpost\u001b[39m\u001b[38;5;124m\"\u001b[39m:\n\u001b[0;32m--> 462\u001b[0m     \u001b[38;5;28;01mreturn\u001b[39;00m \u001b[38;5;28;43mself\u001b[39;49m\u001b[38;5;241;43m.\u001b[39;49m\u001b[43m_post_request\u001b[49m\u001b[43m(\u001b[49m\n\u001b[1;32m    463\u001b[0m \u001b[43m        \u001b[49m\u001b[43murl\u001b[49m\u001b[43m,\u001b[49m\n\u001b[1;32m    464\u001b[0m \u001b[43m        \u001b[49m\u001b[43mheaders\u001b[49m\u001b[43m,\u001b[49m\n\u001b[1;32m    465\u001b[0m \u001b[43m        \u001b[49m\u001b[43mjson\u001b[49m\u001b[38;5;241;43m.\u001b[39;49m\u001b[43mdumps\u001b[49m\u001b[43m(\u001b[49m\u001b[43mbody\u001b[49m\u001b[43m)\u001b[49m\u001b[43m,\u001b[49m\n\u001b[1;32m    466\u001b[0m \u001b[43m        \u001b[49m\u001b[43mtoken\u001b[49m\u001b[38;5;241;43m=\u001b[39;49m\u001b[38;5;28;43mself\u001b[39;49m\u001b[38;5;241;43m.\u001b[39;49m\u001b[43mtoken\u001b[49m\u001b[43m,\u001b[49m\n\u001b[1;32m    467\u001b[0m \u001b[43m        \u001b[49m\u001b[43m_no_results\u001b[49m\u001b[38;5;241;43m=\u001b[39;49m\u001b[43m_no_results\u001b[49m\u001b[43m,\u001b[49m\n\u001b[1;32m    468\u001b[0m \u001b[43m        \u001b[49m\u001b[43mtimeout\u001b[49m\u001b[38;5;241;43m=\u001b[39;49m\u001b[43mtimeout\u001b[49m\u001b[43m,\u001b[49m\n\u001b[1;32m    469\u001b[0m \u001b[43m        \u001b[49m\u001b[43m_include_retry_params\u001b[49m\u001b[38;5;241;43m=\u001b[39;49m\u001b[43m_include_retry_params\u001b[49m\u001b[43m,\u001b[49m\n\u001b[1;32m    470\u001b[0m \u001b[43m    \u001b[49m\u001b[43m)\u001b[49m\n\u001b[1;32m    471\u001b[0m \u001b[38;5;28;01melse\u001b[39;00m:\n\u001b[1;32m    472\u001b[0m     \u001b[38;5;28;01mreturn\u001b[39;00m \u001b[38;5;28mself\u001b[39m\u001b[38;5;241m.\u001b[39m_get_request(url, headers, token\u001b[38;5;241m=\u001b[39m\u001b[38;5;28mself\u001b[39m\u001b[38;5;241m.\u001b[39mtoken, timeout\u001b[38;5;241m=\u001b[39mtimeout)\n",
      "File \u001b[0;32m~/opt/anaconda3/envs/route_env/lib/python3.10/site-packages/snowflake/connector/network.py:700\u001b[0m, in \u001b[0;36mSnowflakeRestful._post_request\u001b[0;34m(self, url, headers, body, token, timeout, _no_results, no_retry, socket_timeout, _include_retry_params)\u001b[0m\n\u001b[1;32m    697\u001b[0m     ret \u001b[38;5;241m=\u001b[39m probe_connection(full_url)\n\u001b[1;32m    698\u001b[0m     pprint(ret)\n\u001b[0;32m--> 700\u001b[0m ret \u001b[38;5;241m=\u001b[39m \u001b[38;5;28;43mself\u001b[39;49m\u001b[38;5;241;43m.\u001b[39;49m\u001b[43mfetch\u001b[49m\u001b[43m(\u001b[49m\n\u001b[1;32m    701\u001b[0m \u001b[43m    \u001b[49m\u001b[38;5;124;43m\"\u001b[39;49m\u001b[38;5;124;43mpost\u001b[39;49m\u001b[38;5;124;43m\"\u001b[39;49m\u001b[43m,\u001b[49m\n\u001b[1;32m    702\u001b[0m \u001b[43m    \u001b[49m\u001b[43mfull_url\u001b[49m\u001b[43m,\u001b[49m\n\u001b[1;32m    703\u001b[0m \u001b[43m    \u001b[49m\u001b[43mheaders\u001b[49m\u001b[43m,\u001b[49m\n\u001b[1;32m    704\u001b[0m \u001b[43m    \u001b[49m\u001b[43mdata\u001b[49m\u001b[38;5;241;43m=\u001b[39;49m\u001b[43mbody\u001b[49m\u001b[43m,\u001b[49m\n\u001b[1;32m    705\u001b[0m \u001b[43m    \u001b[49m\u001b[43mtimeout\u001b[49m\u001b[38;5;241;43m=\u001b[39;49m\u001b[43mtimeout\u001b[49m\u001b[43m,\u001b[49m\n\u001b[1;32m    706\u001b[0m \u001b[43m    \u001b[49m\u001b[43mtoken\u001b[49m\u001b[38;5;241;43m=\u001b[39;49m\u001b[43mtoken\u001b[49m\u001b[43m,\u001b[49m\n\u001b[1;32m    707\u001b[0m \u001b[43m    \u001b[49m\u001b[43mno_retry\u001b[49m\u001b[38;5;241;43m=\u001b[39;49m\u001b[43mno_retry\u001b[49m\u001b[43m,\u001b[49m\n\u001b[1;32m    708\u001b[0m \u001b[43m    \u001b[49m\u001b[43msocket_timeout\u001b[49m\u001b[38;5;241;43m=\u001b[39;49m\u001b[43msocket_timeout\u001b[49m\u001b[43m,\u001b[49m\n\u001b[1;32m    709\u001b[0m \u001b[43m    \u001b[49m\u001b[43m_include_retry_params\u001b[49m\u001b[38;5;241;43m=\u001b[39;49m\u001b[43m_include_retry_params\u001b[49m\u001b[43m,\u001b[49m\n\u001b[1;32m    710\u001b[0m \u001b[43m\u001b[49m\u001b[43m)\u001b[49m\n\u001b[1;32m    711\u001b[0m logger\u001b[38;5;241m.\u001b[39mdebug(\n\u001b[1;32m    712\u001b[0m     \u001b[38;5;124m\"\u001b[39m\u001b[38;5;124mret[code] = \u001b[39m\u001b[38;5;132;01m{code}\u001b[39;00m\u001b[38;5;124m, after post request\u001b[39m\u001b[38;5;124m\"\u001b[39m\u001b[38;5;241m.\u001b[39mformat(\n\u001b[1;32m    713\u001b[0m         code\u001b[38;5;241m=\u001b[39m(ret\u001b[38;5;241m.\u001b[39mget(\u001b[38;5;124m\"\u001b[39m\u001b[38;5;124mcode\u001b[39m\u001b[38;5;124m\"\u001b[39m, \u001b[38;5;124m\"\u001b[39m\u001b[38;5;124mN/A\u001b[39m\u001b[38;5;124m\"\u001b[39m))\n\u001b[1;32m    714\u001b[0m     )\n\u001b[1;32m    715\u001b[0m )\n\u001b[1;32m    717\u001b[0m \u001b[38;5;28;01mif\u001b[39;00m ret\u001b[38;5;241m.\u001b[39mget(\u001b[38;5;124m\"\u001b[39m\u001b[38;5;124mcode\u001b[39m\u001b[38;5;124m\"\u001b[39m) \u001b[38;5;241m==\u001b[39m SESSION_EXPIRED_GS_CODE:\n",
      "File \u001b[0;32m~/opt/anaconda3/envs/route_env/lib/python3.10/site-packages/snowflake/connector/network.py:790\u001b[0m, in \u001b[0;36mSnowflakeRestful.fetch\u001b[0;34m(self, method, full_url, headers, data, timeout, **kwargs)\u001b[0m\n\u001b[1;32m    788\u001b[0m retry_ctx \u001b[38;5;241m=\u001b[39m RetryCtx(timeout, include_retry_params)\n\u001b[1;32m    789\u001b[0m \u001b[38;5;28;01mwhile\u001b[39;00m \u001b[38;5;28;01mTrue\u001b[39;00m:\n\u001b[0;32m--> 790\u001b[0m     ret \u001b[38;5;241m=\u001b[39m \u001b[38;5;28;43mself\u001b[39;49m\u001b[38;5;241;43m.\u001b[39;49m\u001b[43m_request_exec_wrapper\u001b[49m\u001b[43m(\u001b[49m\n\u001b[1;32m    791\u001b[0m \u001b[43m        \u001b[49m\u001b[43msession\u001b[49m\u001b[43m,\u001b[49m\u001b[43m \u001b[49m\u001b[43mmethod\u001b[49m\u001b[43m,\u001b[49m\u001b[43m \u001b[49m\u001b[43mfull_url\u001b[49m\u001b[43m,\u001b[49m\u001b[43m \u001b[49m\u001b[43mheaders\u001b[49m\u001b[43m,\u001b[49m\u001b[43m \u001b[49m\u001b[43mdata\u001b[49m\u001b[43m,\u001b[49m\u001b[43m \u001b[49m\u001b[43mretry_ctx\u001b[49m\u001b[43m,\u001b[49m\u001b[43m \u001b[49m\u001b[38;5;241;43m*\u001b[39;49m\u001b[38;5;241;43m*\u001b[39;49m\u001b[43mkwargs\u001b[49m\n\u001b[1;32m    792\u001b[0m \u001b[43m    \u001b[49m\u001b[43m)\u001b[49m\n\u001b[1;32m    793\u001b[0m     \u001b[38;5;28;01mif\u001b[39;00m ret \u001b[38;5;129;01mis\u001b[39;00m \u001b[38;5;129;01mnot\u001b[39;00m \u001b[38;5;28;01mNone\u001b[39;00m:\n\u001b[1;32m    794\u001b[0m         \u001b[38;5;28;01mreturn\u001b[39;00m ret\n",
      "File \u001b[0;32m~/opt/anaconda3/envs/route_env/lib/python3.10/site-packages/snowflake/connector/network.py:833\u001b[0m, in \u001b[0;36mSnowflakeRestful._request_exec_wrapper\u001b[0;34m(self, session, method, full_url, headers, data, retry_ctx, no_retry, token, **kwargs)\u001b[0m\n\u001b[1;32m    831\u001b[0m full_url \u001b[38;5;241m=\u001b[39m SnowflakeRestful\u001b[38;5;241m.\u001b[39madd_request_guid(full_url)\n\u001b[1;32m    832\u001b[0m \u001b[38;5;28;01mtry\u001b[39;00m:\n\u001b[0;32m--> 833\u001b[0m     return_object \u001b[38;5;241m=\u001b[39m \u001b[38;5;28;43mself\u001b[39;49m\u001b[38;5;241;43m.\u001b[39;49m\u001b[43m_request_exec\u001b[49m\u001b[43m(\u001b[49m\n\u001b[1;32m    834\u001b[0m \u001b[43m        \u001b[49m\u001b[43msession\u001b[49m\u001b[38;5;241;43m=\u001b[39;49m\u001b[43msession\u001b[49m\u001b[43m,\u001b[49m\n\u001b[1;32m    835\u001b[0m \u001b[43m        \u001b[49m\u001b[43mmethod\u001b[49m\u001b[38;5;241;43m=\u001b[39;49m\u001b[43mmethod\u001b[49m\u001b[43m,\u001b[49m\n\u001b[1;32m    836\u001b[0m \u001b[43m        \u001b[49m\u001b[43mfull_url\u001b[49m\u001b[38;5;241;43m=\u001b[39;49m\u001b[43mfull_url\u001b[49m\u001b[43m,\u001b[49m\n\u001b[1;32m    837\u001b[0m \u001b[43m        \u001b[49m\u001b[43mheaders\u001b[49m\u001b[38;5;241;43m=\u001b[39;49m\u001b[43mheaders\u001b[49m\u001b[43m,\u001b[49m\n\u001b[1;32m    838\u001b[0m \u001b[43m        \u001b[49m\u001b[43mdata\u001b[49m\u001b[38;5;241;43m=\u001b[39;49m\u001b[43mdata\u001b[49m\u001b[43m,\u001b[49m\n\u001b[1;32m    839\u001b[0m \u001b[43m        \u001b[49m\u001b[43mtoken\u001b[49m\u001b[38;5;241;43m=\u001b[39;49m\u001b[43mtoken\u001b[49m\u001b[43m,\u001b[49m\n\u001b[1;32m    840\u001b[0m \u001b[43m        \u001b[49m\u001b[38;5;241;43m*\u001b[39;49m\u001b[38;5;241;43m*\u001b[39;49m\u001b[43mkwargs\u001b[49m\u001b[43m,\u001b[49m\n\u001b[1;32m    841\u001b[0m \u001b[43m    \u001b[49m\u001b[43m)\u001b[49m\n\u001b[1;32m    842\u001b[0m     \u001b[38;5;28;01mif\u001b[39;00m return_object \u001b[38;5;129;01mis\u001b[39;00m \u001b[38;5;129;01mnot\u001b[39;00m \u001b[38;5;28;01mNone\u001b[39;00m:\n\u001b[1;32m    843\u001b[0m         \u001b[38;5;28;01mreturn\u001b[39;00m return_object\n",
      "File \u001b[0;32m~/opt/anaconda3/envs/route_env/lib/python3.10/site-packages/snowflake/connector/network.py:988\u001b[0m, in \u001b[0;36mSnowflakeRestful._request_exec\u001b[0;34m(self, session, method, full_url, headers, data, token, catch_okta_unauthorized_error, is_raw_text, is_raw_binary, binary_data_handler, socket_timeout)\u001b[0m\n\u001b[1;32m    984\u001b[0m download_start_time \u001b[38;5;241m=\u001b[39m get_time_millis()\n\u001b[1;32m    985\u001b[0m \u001b[38;5;66;03m# socket timeout is constant. You should be able to receive\u001b[39;00m\n\u001b[1;32m    986\u001b[0m \u001b[38;5;66;03m# the response within the time. If not, ConnectReadTimeout or\u001b[39;00m\n\u001b[1;32m    987\u001b[0m \u001b[38;5;66;03m# ReadTimeout is raised.\u001b[39;00m\n\u001b[0;32m--> 988\u001b[0m raw_ret \u001b[38;5;241m=\u001b[39m \u001b[43msession\u001b[49m\u001b[38;5;241;43m.\u001b[39;49m\u001b[43mrequest\u001b[49m\u001b[43m(\u001b[49m\n\u001b[1;32m    989\u001b[0m \u001b[43m    \u001b[49m\u001b[43mmethod\u001b[49m\u001b[38;5;241;43m=\u001b[39;49m\u001b[43mmethod\u001b[49m\u001b[43m,\u001b[49m\n\u001b[1;32m    990\u001b[0m \u001b[43m    \u001b[49m\u001b[43murl\u001b[49m\u001b[38;5;241;43m=\u001b[39;49m\u001b[43mfull_url\u001b[49m\u001b[43m,\u001b[49m\n\u001b[1;32m    991\u001b[0m \u001b[43m    \u001b[49m\u001b[43mheaders\u001b[49m\u001b[38;5;241;43m=\u001b[39;49m\u001b[43mheaders\u001b[49m\u001b[43m,\u001b[49m\n\u001b[1;32m    992\u001b[0m \u001b[43m    \u001b[49m\u001b[43mdata\u001b[49m\u001b[38;5;241;43m=\u001b[39;49m\u001b[43minput_data\u001b[49m\u001b[43m,\u001b[49m\n\u001b[1;32m    993\u001b[0m \u001b[43m    \u001b[49m\u001b[43mtimeout\u001b[49m\u001b[38;5;241;43m=\u001b[39;49m\u001b[43msocket_timeout\u001b[49m\u001b[43m,\u001b[49m\n\u001b[1;32m    994\u001b[0m \u001b[43m    \u001b[49m\u001b[43mverify\u001b[49m\u001b[38;5;241;43m=\u001b[39;49m\u001b[38;5;28;43;01mTrue\u001b[39;49;00m\u001b[43m,\u001b[49m\n\u001b[1;32m    995\u001b[0m \u001b[43m    \u001b[49m\u001b[43mstream\u001b[49m\u001b[38;5;241;43m=\u001b[39;49m\u001b[43mis_raw_binary\u001b[49m\u001b[43m,\u001b[49m\n\u001b[1;32m    996\u001b[0m \u001b[43m    \u001b[49m\u001b[43mauth\u001b[49m\u001b[38;5;241;43m=\u001b[39;49m\u001b[43mSnowflakeAuth\u001b[49m\u001b[43m(\u001b[49m\u001b[43mtoken\u001b[49m\u001b[43m)\u001b[49m\u001b[43m,\u001b[49m\n\u001b[1;32m    997\u001b[0m \u001b[43m\u001b[49m\u001b[43m)\u001b[49m\n\u001b[1;32m    998\u001b[0m download_end_time \u001b[38;5;241m=\u001b[39m get_time_millis()\n\u001b[1;32m   1000\u001b[0m \u001b[38;5;28;01mtry\u001b[39;00m:\n",
      "File \u001b[0;32m~/opt/anaconda3/envs/route_env/lib/python3.10/site-packages/snowflake/connector/vendored/requests/sessions.py:542\u001b[0m, in \u001b[0;36mSession.request\u001b[0;34m(self, method, url, params, data, headers, cookies, files, auth, timeout, allow_redirects, proxies, hooks, stream, verify, cert, json)\u001b[0m\n\u001b[1;32m    537\u001b[0m send_kwargs \u001b[38;5;241m=\u001b[39m {\n\u001b[1;32m    538\u001b[0m     \u001b[38;5;124m'\u001b[39m\u001b[38;5;124mtimeout\u001b[39m\u001b[38;5;124m'\u001b[39m: timeout,\n\u001b[1;32m    539\u001b[0m     \u001b[38;5;124m'\u001b[39m\u001b[38;5;124mallow_redirects\u001b[39m\u001b[38;5;124m'\u001b[39m: allow_redirects,\n\u001b[1;32m    540\u001b[0m }\n\u001b[1;32m    541\u001b[0m send_kwargs\u001b[38;5;241m.\u001b[39mupdate(settings)\n\u001b[0;32m--> 542\u001b[0m resp \u001b[38;5;241m=\u001b[39m \u001b[38;5;28;43mself\u001b[39;49m\u001b[38;5;241;43m.\u001b[39;49m\u001b[43msend\u001b[49m\u001b[43m(\u001b[49m\u001b[43mprep\u001b[49m\u001b[43m,\u001b[49m\u001b[43m \u001b[49m\u001b[38;5;241;43m*\u001b[39;49m\u001b[38;5;241;43m*\u001b[39;49m\u001b[43msend_kwargs\u001b[49m\u001b[43m)\u001b[49m\n\u001b[1;32m    544\u001b[0m \u001b[38;5;28;01mreturn\u001b[39;00m resp\n",
      "File \u001b[0;32m~/opt/anaconda3/envs/route_env/lib/python3.10/site-packages/snowflake/connector/vendored/requests/sessions.py:655\u001b[0m, in \u001b[0;36mSession.send\u001b[0;34m(self, request, **kwargs)\u001b[0m\n\u001b[1;32m    652\u001b[0m start \u001b[38;5;241m=\u001b[39m preferred_clock()\n\u001b[1;32m    654\u001b[0m \u001b[38;5;66;03m# Send the request\u001b[39;00m\n\u001b[0;32m--> 655\u001b[0m r \u001b[38;5;241m=\u001b[39m \u001b[43madapter\u001b[49m\u001b[38;5;241;43m.\u001b[39;49m\u001b[43msend\u001b[49m\u001b[43m(\u001b[49m\u001b[43mrequest\u001b[49m\u001b[43m,\u001b[49m\u001b[43m \u001b[49m\u001b[38;5;241;43m*\u001b[39;49m\u001b[38;5;241;43m*\u001b[39;49m\u001b[43mkwargs\u001b[49m\u001b[43m)\u001b[49m\n\u001b[1;32m    657\u001b[0m \u001b[38;5;66;03m# Total elapsed time of the request (approximately)\u001b[39;00m\n\u001b[1;32m    658\u001b[0m elapsed \u001b[38;5;241m=\u001b[39m preferred_clock() \u001b[38;5;241m-\u001b[39m start\n",
      "File \u001b[0;32m~/opt/anaconda3/envs/route_env/lib/python3.10/site-packages/snowflake/connector/vendored/requests/adapters.py:439\u001b[0m, in \u001b[0;36mHTTPAdapter.send\u001b[0;34m(self, request, stream, timeout, verify, cert, proxies)\u001b[0m\n\u001b[1;32m    437\u001b[0m \u001b[38;5;28;01mtry\u001b[39;00m:\n\u001b[1;32m    438\u001b[0m     \u001b[38;5;28;01mif\u001b[39;00m \u001b[38;5;129;01mnot\u001b[39;00m chunked:\n\u001b[0;32m--> 439\u001b[0m         resp \u001b[38;5;241m=\u001b[39m \u001b[43mconn\u001b[49m\u001b[38;5;241;43m.\u001b[39;49m\u001b[43murlopen\u001b[49m\u001b[43m(\u001b[49m\n\u001b[1;32m    440\u001b[0m \u001b[43m            \u001b[49m\u001b[43mmethod\u001b[49m\u001b[38;5;241;43m=\u001b[39;49m\u001b[43mrequest\u001b[49m\u001b[38;5;241;43m.\u001b[39;49m\u001b[43mmethod\u001b[49m\u001b[43m,\u001b[49m\n\u001b[1;32m    441\u001b[0m \u001b[43m            \u001b[49m\u001b[43murl\u001b[49m\u001b[38;5;241;43m=\u001b[39;49m\u001b[43murl\u001b[49m\u001b[43m,\u001b[49m\n\u001b[1;32m    442\u001b[0m \u001b[43m            \u001b[49m\u001b[43mbody\u001b[49m\u001b[38;5;241;43m=\u001b[39;49m\u001b[43mrequest\u001b[49m\u001b[38;5;241;43m.\u001b[39;49m\u001b[43mbody\u001b[49m\u001b[43m,\u001b[49m\n\u001b[1;32m    443\u001b[0m \u001b[43m            \u001b[49m\u001b[43mheaders\u001b[49m\u001b[38;5;241;43m=\u001b[39;49m\u001b[43mrequest\u001b[49m\u001b[38;5;241;43m.\u001b[39;49m\u001b[43mheaders\u001b[49m\u001b[43m,\u001b[49m\n\u001b[1;32m    444\u001b[0m \u001b[43m            \u001b[49m\u001b[43mredirect\u001b[49m\u001b[38;5;241;43m=\u001b[39;49m\u001b[38;5;28;43;01mFalse\u001b[39;49;00m\u001b[43m,\u001b[49m\n\u001b[1;32m    445\u001b[0m \u001b[43m            \u001b[49m\u001b[43massert_same_host\u001b[49m\u001b[38;5;241;43m=\u001b[39;49m\u001b[38;5;28;43;01mFalse\u001b[39;49;00m\u001b[43m,\u001b[49m\n\u001b[1;32m    446\u001b[0m \u001b[43m            \u001b[49m\u001b[43mpreload_content\u001b[49m\u001b[38;5;241;43m=\u001b[39;49m\u001b[38;5;28;43;01mFalse\u001b[39;49;00m\u001b[43m,\u001b[49m\n\u001b[1;32m    447\u001b[0m \u001b[43m            \u001b[49m\u001b[43mdecode_content\u001b[49m\u001b[38;5;241;43m=\u001b[39;49m\u001b[38;5;28;43;01mFalse\u001b[39;49;00m\u001b[43m,\u001b[49m\n\u001b[1;32m    448\u001b[0m \u001b[43m            \u001b[49m\u001b[43mretries\u001b[49m\u001b[38;5;241;43m=\u001b[39;49m\u001b[38;5;28;43mself\u001b[39;49m\u001b[38;5;241;43m.\u001b[39;49m\u001b[43mmax_retries\u001b[49m\u001b[43m,\u001b[49m\n\u001b[1;32m    449\u001b[0m \u001b[43m            \u001b[49m\u001b[43mtimeout\u001b[49m\u001b[38;5;241;43m=\u001b[39;49m\u001b[43mtimeout\u001b[49m\n\u001b[1;32m    450\u001b[0m \u001b[43m        \u001b[49m\u001b[43m)\u001b[49m\n\u001b[1;32m    452\u001b[0m     \u001b[38;5;66;03m# Send the request.\u001b[39;00m\n\u001b[1;32m    453\u001b[0m     \u001b[38;5;28;01melse\u001b[39;00m:\n\u001b[1;32m    454\u001b[0m         \u001b[38;5;28;01mif\u001b[39;00m \u001b[38;5;28mhasattr\u001b[39m(conn, \u001b[38;5;124m'\u001b[39m\u001b[38;5;124mproxy_pool\u001b[39m\u001b[38;5;124m'\u001b[39m):\n",
      "File \u001b[0;32m~/opt/anaconda3/envs/route_env/lib/python3.10/site-packages/snowflake/connector/vendored/urllib3/connectionpool.py:699\u001b[0m, in \u001b[0;36mHTTPConnectionPool.urlopen\u001b[0;34m(self, method, url, body, headers, retries, redirect, assert_same_host, timeout, pool_timeout, release_conn, chunked, body_pos, **response_kw)\u001b[0m\n\u001b[1;32m    696\u001b[0m     \u001b[38;5;28mself\u001b[39m\u001b[38;5;241m.\u001b[39m_prepare_proxy(conn)\n\u001b[1;32m    698\u001b[0m \u001b[38;5;66;03m# Make the request on the httplib connection object.\u001b[39;00m\n\u001b[0;32m--> 699\u001b[0m httplib_response \u001b[38;5;241m=\u001b[39m \u001b[38;5;28;43mself\u001b[39;49m\u001b[38;5;241;43m.\u001b[39;49m\u001b[43m_make_request\u001b[49m\u001b[43m(\u001b[49m\n\u001b[1;32m    700\u001b[0m \u001b[43m    \u001b[49m\u001b[43mconn\u001b[49m\u001b[43m,\u001b[49m\n\u001b[1;32m    701\u001b[0m \u001b[43m    \u001b[49m\u001b[43mmethod\u001b[49m\u001b[43m,\u001b[49m\n\u001b[1;32m    702\u001b[0m \u001b[43m    \u001b[49m\u001b[43murl\u001b[49m\u001b[43m,\u001b[49m\n\u001b[1;32m    703\u001b[0m \u001b[43m    \u001b[49m\u001b[43mtimeout\u001b[49m\u001b[38;5;241;43m=\u001b[39;49m\u001b[43mtimeout_obj\u001b[49m\u001b[43m,\u001b[49m\n\u001b[1;32m    704\u001b[0m \u001b[43m    \u001b[49m\u001b[43mbody\u001b[49m\u001b[38;5;241;43m=\u001b[39;49m\u001b[43mbody\u001b[49m\u001b[43m,\u001b[49m\n\u001b[1;32m    705\u001b[0m \u001b[43m    \u001b[49m\u001b[43mheaders\u001b[49m\u001b[38;5;241;43m=\u001b[39;49m\u001b[43mheaders\u001b[49m\u001b[43m,\u001b[49m\n\u001b[1;32m    706\u001b[0m \u001b[43m    \u001b[49m\u001b[43mchunked\u001b[49m\u001b[38;5;241;43m=\u001b[39;49m\u001b[43mchunked\u001b[49m\u001b[43m,\u001b[49m\n\u001b[1;32m    707\u001b[0m \u001b[43m\u001b[49m\u001b[43m)\u001b[49m\n\u001b[1;32m    709\u001b[0m \u001b[38;5;66;03m# If we're going to release the connection in ``finally:``, then\u001b[39;00m\n\u001b[1;32m    710\u001b[0m \u001b[38;5;66;03m# the response doesn't need to know about the connection. Otherwise\u001b[39;00m\n\u001b[1;32m    711\u001b[0m \u001b[38;5;66;03m# it will also try to release it and we'll have a double-release\u001b[39;00m\n\u001b[1;32m    712\u001b[0m \u001b[38;5;66;03m# mess.\u001b[39;00m\n\u001b[1;32m    713\u001b[0m response_conn \u001b[38;5;241m=\u001b[39m conn \u001b[38;5;28;01mif\u001b[39;00m \u001b[38;5;129;01mnot\u001b[39;00m release_conn \u001b[38;5;28;01melse\u001b[39;00m \u001b[38;5;28;01mNone\u001b[39;00m\n",
      "File \u001b[0;32m~/opt/anaconda3/envs/route_env/lib/python3.10/site-packages/snowflake/connector/vendored/urllib3/connectionpool.py:445\u001b[0m, in \u001b[0;36mHTTPConnectionPool._make_request\u001b[0;34m(self, conn, method, url, timeout, chunked, **httplib_request_kw)\u001b[0m\n\u001b[1;32m    440\u001b[0m             httplib_response \u001b[38;5;241m=\u001b[39m conn\u001b[38;5;241m.\u001b[39mgetresponse()\n\u001b[1;32m    441\u001b[0m         \u001b[38;5;28;01mexcept\u001b[39;00m \u001b[38;5;167;01mBaseException\u001b[39;00m \u001b[38;5;28;01mas\u001b[39;00m e:\n\u001b[1;32m    442\u001b[0m             \u001b[38;5;66;03m# Remove the TypeError from the exception chain in\u001b[39;00m\n\u001b[1;32m    443\u001b[0m             \u001b[38;5;66;03m# Python 3 (including for exceptions like SystemExit).\u001b[39;00m\n\u001b[1;32m    444\u001b[0m             \u001b[38;5;66;03m# Otherwise it looks like a bug in the code.\u001b[39;00m\n\u001b[0;32m--> 445\u001b[0m             \u001b[43msix\u001b[49m\u001b[38;5;241;43m.\u001b[39;49m\u001b[43mraise_from\u001b[49m\u001b[43m(\u001b[49m\u001b[43me\u001b[49m\u001b[43m,\u001b[49m\u001b[43m \u001b[49m\u001b[38;5;28;43;01mNone\u001b[39;49;00m\u001b[43m)\u001b[49m\n\u001b[1;32m    446\u001b[0m \u001b[38;5;28;01mexcept\u001b[39;00m (SocketTimeout, BaseSSLError, SocketError) \u001b[38;5;28;01mas\u001b[39;00m e:\n\u001b[1;32m    447\u001b[0m     \u001b[38;5;28mself\u001b[39m\u001b[38;5;241m.\u001b[39m_raise_timeout(err\u001b[38;5;241m=\u001b[39me, url\u001b[38;5;241m=\u001b[39murl, timeout_value\u001b[38;5;241m=\u001b[39mread_timeout)\n",
      "File \u001b[0;32m<string>:3\u001b[0m, in \u001b[0;36mraise_from\u001b[0;34m(value, from_value)\u001b[0m\n",
      "File \u001b[0;32m~/opt/anaconda3/envs/route_env/lib/python3.10/site-packages/snowflake/connector/vendored/urllib3/connectionpool.py:440\u001b[0m, in \u001b[0;36mHTTPConnectionPool._make_request\u001b[0;34m(self, conn, method, url, timeout, chunked, **httplib_request_kw)\u001b[0m\n\u001b[1;32m    437\u001b[0m \u001b[38;5;28;01mexcept\u001b[39;00m \u001b[38;5;167;01mTypeError\u001b[39;00m:\n\u001b[1;32m    438\u001b[0m     \u001b[38;5;66;03m# Python 3\u001b[39;00m\n\u001b[1;32m    439\u001b[0m     \u001b[38;5;28;01mtry\u001b[39;00m:\n\u001b[0;32m--> 440\u001b[0m         httplib_response \u001b[38;5;241m=\u001b[39m \u001b[43mconn\u001b[49m\u001b[38;5;241;43m.\u001b[39;49m\u001b[43mgetresponse\u001b[49m\u001b[43m(\u001b[49m\u001b[43m)\u001b[49m\n\u001b[1;32m    441\u001b[0m     \u001b[38;5;28;01mexcept\u001b[39;00m \u001b[38;5;167;01mBaseException\u001b[39;00m \u001b[38;5;28;01mas\u001b[39;00m e:\n\u001b[1;32m    442\u001b[0m         \u001b[38;5;66;03m# Remove the TypeError from the exception chain in\u001b[39;00m\n\u001b[1;32m    443\u001b[0m         \u001b[38;5;66;03m# Python 3 (including for exceptions like SystemExit).\u001b[39;00m\n\u001b[1;32m    444\u001b[0m         \u001b[38;5;66;03m# Otherwise it looks like a bug in the code.\u001b[39;00m\n\u001b[1;32m    445\u001b[0m         six\u001b[38;5;241m.\u001b[39mraise_from(e, \u001b[38;5;28;01mNone\u001b[39;00m)\n",
      "File \u001b[0;32m~/opt/anaconda3/envs/route_env/lib/python3.10/http/client.py:1374\u001b[0m, in \u001b[0;36mHTTPConnection.getresponse\u001b[0;34m(self)\u001b[0m\n\u001b[1;32m   1372\u001b[0m \u001b[38;5;28;01mtry\u001b[39;00m:\n\u001b[1;32m   1373\u001b[0m     \u001b[38;5;28;01mtry\u001b[39;00m:\n\u001b[0;32m-> 1374\u001b[0m         \u001b[43mresponse\u001b[49m\u001b[38;5;241;43m.\u001b[39;49m\u001b[43mbegin\u001b[49m\u001b[43m(\u001b[49m\u001b[43m)\u001b[49m\n\u001b[1;32m   1375\u001b[0m     \u001b[38;5;28;01mexcept\u001b[39;00m \u001b[38;5;167;01mConnectionError\u001b[39;00m:\n\u001b[1;32m   1376\u001b[0m         \u001b[38;5;28mself\u001b[39m\u001b[38;5;241m.\u001b[39mclose()\n",
      "File \u001b[0;32m~/opt/anaconda3/envs/route_env/lib/python3.10/http/client.py:318\u001b[0m, in \u001b[0;36mHTTPResponse.begin\u001b[0;34m(self)\u001b[0m\n\u001b[1;32m    316\u001b[0m \u001b[38;5;66;03m# read until we get a non-100 response\u001b[39;00m\n\u001b[1;32m    317\u001b[0m \u001b[38;5;28;01mwhile\u001b[39;00m \u001b[38;5;28;01mTrue\u001b[39;00m:\n\u001b[0;32m--> 318\u001b[0m     version, status, reason \u001b[38;5;241m=\u001b[39m \u001b[38;5;28;43mself\u001b[39;49m\u001b[38;5;241;43m.\u001b[39;49m\u001b[43m_read_status\u001b[49m\u001b[43m(\u001b[49m\u001b[43m)\u001b[49m\n\u001b[1;32m    319\u001b[0m     \u001b[38;5;28;01mif\u001b[39;00m status \u001b[38;5;241m!=\u001b[39m CONTINUE:\n\u001b[1;32m    320\u001b[0m         \u001b[38;5;28;01mbreak\u001b[39;00m\n",
      "File \u001b[0;32m~/opt/anaconda3/envs/route_env/lib/python3.10/http/client.py:279\u001b[0m, in \u001b[0;36mHTTPResponse._read_status\u001b[0;34m(self)\u001b[0m\n\u001b[1;32m    278\u001b[0m \u001b[38;5;28;01mdef\u001b[39;00m \u001b[38;5;21m_read_status\u001b[39m(\u001b[38;5;28mself\u001b[39m):\n\u001b[0;32m--> 279\u001b[0m     line \u001b[38;5;241m=\u001b[39m \u001b[38;5;28mstr\u001b[39m(\u001b[38;5;28;43mself\u001b[39;49m\u001b[38;5;241;43m.\u001b[39;49m\u001b[43mfp\u001b[49m\u001b[38;5;241;43m.\u001b[39;49m\u001b[43mreadline\u001b[49m\u001b[43m(\u001b[49m\u001b[43m_MAXLINE\u001b[49m\u001b[43m \u001b[49m\u001b[38;5;241;43m+\u001b[39;49m\u001b[43m \u001b[49m\u001b[38;5;241;43m1\u001b[39;49m\u001b[43m)\u001b[49m, \u001b[38;5;124m\"\u001b[39m\u001b[38;5;124miso-8859-1\u001b[39m\u001b[38;5;124m\"\u001b[39m)\n\u001b[1;32m    280\u001b[0m     \u001b[38;5;28;01mif\u001b[39;00m \u001b[38;5;28mlen\u001b[39m(line) \u001b[38;5;241m>\u001b[39m _MAXLINE:\n\u001b[1;32m    281\u001b[0m         \u001b[38;5;28;01mraise\u001b[39;00m LineTooLong(\u001b[38;5;124m\"\u001b[39m\u001b[38;5;124mstatus line\u001b[39m\u001b[38;5;124m\"\u001b[39m)\n",
      "File \u001b[0;32m~/opt/anaconda3/envs/route_env/lib/python3.10/socket.py:705\u001b[0m, in \u001b[0;36mSocketIO.readinto\u001b[0;34m(self, b)\u001b[0m\n\u001b[1;32m    703\u001b[0m \u001b[38;5;28;01mwhile\u001b[39;00m \u001b[38;5;28;01mTrue\u001b[39;00m:\n\u001b[1;32m    704\u001b[0m     \u001b[38;5;28;01mtry\u001b[39;00m:\n\u001b[0;32m--> 705\u001b[0m         \u001b[38;5;28;01mreturn\u001b[39;00m \u001b[38;5;28;43mself\u001b[39;49m\u001b[38;5;241;43m.\u001b[39;49m\u001b[43m_sock\u001b[49m\u001b[38;5;241;43m.\u001b[39;49m\u001b[43mrecv_into\u001b[49m\u001b[43m(\u001b[49m\u001b[43mb\u001b[49m\u001b[43m)\u001b[49m\n\u001b[1;32m    706\u001b[0m     \u001b[38;5;28;01mexcept\u001b[39;00m timeout:\n\u001b[1;32m    707\u001b[0m         \u001b[38;5;28mself\u001b[39m\u001b[38;5;241m.\u001b[39m_timeout_occurred \u001b[38;5;241m=\u001b[39m \u001b[38;5;28;01mTrue\u001b[39;00m\n",
      "File \u001b[0;32m~/opt/anaconda3/envs/route_env/lib/python3.10/site-packages/snowflake/connector/vendored/urllib3/contrib/pyopenssl.py:331\u001b[0m, in \u001b[0;36mWrappedSocket.recv_into\u001b[0;34m(self, *args, **kwargs)\u001b[0m\n\u001b[1;32m    329\u001b[0m         \u001b[38;5;28;01mraise\u001b[39;00m\n\u001b[1;32m    330\u001b[0m \u001b[38;5;28;01mexcept\u001b[39;00m OpenSSL\u001b[38;5;241m.\u001b[39mSSL\u001b[38;5;241m.\u001b[39mWantReadError:\n\u001b[0;32m--> 331\u001b[0m     \u001b[38;5;28;01mif\u001b[39;00m \u001b[38;5;129;01mnot\u001b[39;00m \u001b[43mutil\u001b[49m\u001b[38;5;241;43m.\u001b[39;49m\u001b[43mwait_for_read\u001b[49m\u001b[43m(\u001b[49m\u001b[38;5;28;43mself\u001b[39;49m\u001b[38;5;241;43m.\u001b[39;49m\u001b[43msocket\u001b[49m\u001b[43m,\u001b[49m\u001b[43m \u001b[49m\u001b[38;5;28;43mself\u001b[39;49m\u001b[38;5;241;43m.\u001b[39;49m\u001b[43msocket\u001b[49m\u001b[38;5;241;43m.\u001b[39;49m\u001b[43mgettimeout\u001b[49m\u001b[43m(\u001b[49m\u001b[43m)\u001b[49m\u001b[43m)\u001b[49m:\n\u001b[1;32m    332\u001b[0m         \u001b[38;5;28;01mraise\u001b[39;00m timeout(\u001b[38;5;124m\"\u001b[39m\u001b[38;5;124mThe read operation timed out\u001b[39m\u001b[38;5;124m\"\u001b[39m)\n\u001b[1;32m    333\u001b[0m     \u001b[38;5;28;01melse\u001b[39;00m:\n",
      "File \u001b[0;32m~/opt/anaconda3/envs/route_env/lib/python3.10/site-packages/snowflake/connector/vendored/urllib3/util/wait.py:146\u001b[0m, in \u001b[0;36mwait_for_read\u001b[0;34m(sock, timeout)\u001b[0m\n\u001b[1;32m    142\u001b[0m \u001b[38;5;28;01mdef\u001b[39;00m \u001b[38;5;21mwait_for_read\u001b[39m(sock, timeout\u001b[38;5;241m=\u001b[39m\u001b[38;5;28;01mNone\u001b[39;00m):\n\u001b[1;32m    143\u001b[0m     \u001b[38;5;124;03m\"\"\"Waits for reading to be available on a given socket.\u001b[39;00m\n\u001b[1;32m    144\u001b[0m \u001b[38;5;124;03m    Returns True if the socket is readable, or False if the timeout expired.\u001b[39;00m\n\u001b[1;32m    145\u001b[0m \u001b[38;5;124;03m    \"\"\"\u001b[39;00m\n\u001b[0;32m--> 146\u001b[0m     \u001b[38;5;28;01mreturn\u001b[39;00m \u001b[43mwait_for_socket\u001b[49m\u001b[43m(\u001b[49m\u001b[43msock\u001b[49m\u001b[43m,\u001b[49m\u001b[43m \u001b[49m\u001b[43mread\u001b[49m\u001b[38;5;241;43m=\u001b[39;49m\u001b[38;5;28;43;01mTrue\u001b[39;49;00m\u001b[43m,\u001b[49m\u001b[43m \u001b[49m\u001b[43mtimeout\u001b[49m\u001b[38;5;241;43m=\u001b[39;49m\u001b[43mtimeout\u001b[49m\u001b[43m)\u001b[49m\n",
      "File \u001b[0;32m~/opt/anaconda3/envs/route_env/lib/python3.10/site-packages/snowflake/connector/vendored/urllib3/util/wait.py:107\u001b[0m, in \u001b[0;36mpoll_wait_for_socket\u001b[0;34m(sock, read, write, timeout)\u001b[0m\n\u001b[1;32m    104\u001b[0m         t \u001b[38;5;241m*\u001b[39m\u001b[38;5;241m=\u001b[39m \u001b[38;5;241m1000\u001b[39m\n\u001b[1;32m    105\u001b[0m     \u001b[38;5;28;01mreturn\u001b[39;00m poll_obj\u001b[38;5;241m.\u001b[39mpoll(t)\n\u001b[0;32m--> 107\u001b[0m \u001b[38;5;28;01mreturn\u001b[39;00m \u001b[38;5;28mbool\u001b[39m(\u001b[43m_retry_on_intr\u001b[49m\u001b[43m(\u001b[49m\u001b[43mdo_poll\u001b[49m\u001b[43m,\u001b[49m\u001b[43m \u001b[49m\u001b[43mtimeout\u001b[49m\u001b[43m)\u001b[49m)\n",
      "File \u001b[0;32m~/opt/anaconda3/envs/route_env/lib/python3.10/site-packages/snowflake/connector/vendored/urllib3/util/wait.py:43\u001b[0m, in \u001b[0;36m_retry_on_intr\u001b[0;34m(fn, timeout)\u001b[0m\n\u001b[1;32m     42\u001b[0m \u001b[38;5;28;01mdef\u001b[39;00m \u001b[38;5;21m_retry_on_intr\u001b[39m(fn, timeout):\n\u001b[0;32m---> 43\u001b[0m     \u001b[38;5;28;01mreturn\u001b[39;00m \u001b[43mfn\u001b[49m\u001b[43m(\u001b[49m\u001b[43mtimeout\u001b[49m\u001b[43m)\u001b[49m\n",
      "File \u001b[0;32m~/opt/anaconda3/envs/route_env/lib/python3.10/site-packages/snowflake/connector/vendored/urllib3/util/wait.py:105\u001b[0m, in \u001b[0;36mpoll_wait_for_socket.<locals>.do_poll\u001b[0;34m(t)\u001b[0m\n\u001b[1;32m    103\u001b[0m \u001b[38;5;28;01mif\u001b[39;00m t \u001b[38;5;129;01mis\u001b[39;00m \u001b[38;5;129;01mnot\u001b[39;00m \u001b[38;5;28;01mNone\u001b[39;00m:\n\u001b[1;32m    104\u001b[0m     t \u001b[38;5;241m*\u001b[39m\u001b[38;5;241m=\u001b[39m \u001b[38;5;241m1000\u001b[39m\n\u001b[0;32m--> 105\u001b[0m \u001b[38;5;28;01mreturn\u001b[39;00m \u001b[43mpoll_obj\u001b[49m\u001b[38;5;241;43m.\u001b[39;49m\u001b[43mpoll\u001b[49m\u001b[43m(\u001b[49m\u001b[43mt\u001b[49m\u001b[43m)\u001b[49m\n",
      "File \u001b[0;32m~/opt/anaconda3/envs/route_env/lib/python3.10/site-packages/snowflake/connector/cursor.py:497\u001b[0m, in \u001b[0;36mSnowflakeCursor._execute_helper.<locals>.interrupt_handler\u001b[0;34m(*_)\u001b[0m\n\u001b[1;32m    494\u001b[0m         \u001b[38;5;28;01mexcept\u001b[39;00m (\u001b[38;5;167;01mValueError\u001b[39;00m, \u001b[38;5;167;01mTypeError\u001b[39;00m):\n\u001b[1;32m    495\u001b[0m             \u001b[38;5;66;03m# ignore failures\u001b[39;00m\n\u001b[1;32m    496\u001b[0m             \u001b[38;5;28;01mpass\u001b[39;00m\n\u001b[0;32m--> 497\u001b[0m \u001b[38;5;28;01mraise\u001b[39;00m \u001b[38;5;167;01mKeyboardInterrupt\u001b[39;00m\n",
      "\u001b[0;31mKeyboardInterrupt\u001b[0m: "
     ]
    }
   ],
   "source": [
    "#!/usr/bin/env python3\n",
    "\n",
    "\n",
    "import requests\n",
    "from bs4 import BeautifulSoup\n",
    "import pandas as pd\n",
    "import uuid\n",
    "import hashlib\n",
    "from snowflake.sqlalchemy import URL\n",
    "from sqlalchemy import create_engine\n",
    "import json\n",
    "\n",
    "\n",
    "\n",
    "# Load the Snowflake configuration from the JSON file\n",
    "with open(\"snow_cred.json\") as f:\n",
    "    config = json.load(f)\n",
    "    \n",
    "    \n",
    "# Creating Snowflake Connection\n",
    "snow_engine = create_engine(URL(\n",
    "    account = config['account'],\n",
    "    user = config['user'],\n",
    "    password = config['password'],\n",
    "    database = config['database'],\n",
    "    schema = config['schema'],\n",
    "    warehouse = config['warehouse'],\n",
    "    role= config['role']\n",
    "))\n",
    "\n",
    "snow_connection = snow_engine.connect()\n",
    "snow_connection\n",
    "\n",
    "\n",
    "countries = ['France', 'United Kingdom', 'Switzerland', 'Germany', 'Belgium', 'Netherlands', 'Spain', 'Luxembourg', 'Czech Republic', 'Italy']\n",
    "country_url_list = ['https://www.viamichelin.fr/web/Stations-service?address=France', 'https://www.viamichelin.fr/web/Stations-service?address=united%20kingdom', 'https://www.viamichelin.fr/web/Stations-service?address=switzerland', 'https://www.viamichelin.fr/web/Stations-service?address=germany', 'https://www.viamichelin.fr/web/Stations-service?address=Belgium', 'https://www.viamichelin.fr/web/Stations-service?address=netherlands', 'https://www.viamichelin.fr/web/Stations-service?address=spain', 'https://www.viamichelin.fr/web/Stations-service?address=luxemburg', 'https://www.viamichelin.fr/web/Stations-service?address=Czechia', 'https://www.viamichelin.fr/web/Stations-service?address=Italy']\n",
    "\n",
    "\n",
    "def get_rqt(url):\n",
    "    r = requests.get(url)\n",
    "    sp = BeautifulSoup(r.content, 'html.parser')\n",
    "    return sp\n",
    "\n",
    "\n",
    "def get_pagi_url_max_num(page_n):\n",
    "    pg = BeautifulSoup(str(page_n[0]), 'html.parser')\n",
    "    pg_a = pg.findAll('a')\n",
    "\n",
    "    if len(pg_a) > 0:\n",
    "        pg_a = pg_a[-1]\n",
    "        pgination_url = pg_a['href']\n",
    "        pgination_url = pgination_url[0:pgination_url.index('=')+1]\n",
    "        max_pg = int(pg_a.get_text())\n",
    "        return pgination_url, max_pg\n",
    "    \n",
    "    \n",
    "def get_pagination(url):\n",
    "    r = requests.get(url)\n",
    "    #print(r)\n",
    "    soup = BeautifulSoup(r.content, 'html.parser')\n",
    "    page_n = soup.findAll(\"p\", class_=\"pagination-second-line\")\n",
    "    return page_n\n",
    "\n",
    "\n",
    "def save_data(data_df):\n",
    "    target_table = 'viamichelin_stations'\n",
    "    del_id_lst = str(list(data_df['id'])).replace('[','(').replace(']',')') \n",
    "    try:\n",
    "        # Delete existing rows to be updated with new version\n",
    "        del_existing_rows_query = \"DELETE FROM \" +target_table+ \" WHERE id IN \" + del_id_lst\n",
    "        #print('Del Query is ', del_existing_rows_query)\n",
    "        with snow_engine.connect() as conn:\n",
    "            conn.execute(del_existing_rows_query)\n",
    "\n",
    "        # Save data in the DataFrame    \n",
    "        data_df.to_sql(target_table, con=snow_engine, schema='public', index=False, if_exists='append')\n",
    "        print(data_df.loc[0])\n",
    "        data_df = pd.DataFrame()\n",
    "    except Exception as err:\n",
    "        print(err)    \n",
    "\n",
    "    \n",
    "def get_and_save_data(url, ctry):\n",
    "    r = requests.get(url)\n",
    "    print(ctry, url, r)\n",
    "    soup = BeautifulSoup(r.content, 'html.parser')\n",
    "\n",
    "    # Get station Names\n",
    "    station_names = soup.findAll('div', class_='poi-item-name truncate')\n",
    "    station_names = [val.get_text() for val in station_names]\n",
    "\n",
    "    # Get station Addresses\n",
    "    station_address = soup.findAll('div', class_=\"poi-item-details-address truncate\")\n",
    "    station_address = [val.get_text() for val in station_address]\n",
    "    print(len(station_names), len(station_address))\n",
    "    #print(station_names,'\\n\\n', station_address)\n",
    "\n",
    "    # Combine the Scrapped data into a list ready to be converted into a DataFrame\n",
    "    dat_zip = zip(station_names, station_address)\n",
    "\n",
    "    zipped_dat = list(dat_zip)\n",
    "    dat_zip = ''\n",
    "    data = [list(i) for i in zipped_dat]\n",
    "    zipped_dat.clear()\n",
    "    \n",
    "    # Clear the list to save memory        \n",
    "    station_names.clear()\n",
    "    station_address.clear()\n",
    "    \n",
    "\n",
    "    # Create DataFrame from the data list\n",
    "    data_df = pd.DataFrame(data, columns=['Station_Name', 'Station_Address'])\n",
    "    data.clear()\n",
    "\n",
    "    # Generate a UUID for each row based on the values in 'Station_Name' and 'Station_Address'\n",
    "    generate_uuid = lambda row: uuid.uuid5(uuid.NAMESPACE_DNS, str(row['Station_Name']) + str(row['Station_Address'])).hex\n",
    "\n",
    "    # Add new columns to the created DataFrame\n",
    "    data_df[\"country\"] = ctry\n",
    "    data_df['id'] = data_df.apply(generate_uuid, axis=1)\n",
    "\n",
    "    #Rearrange DataFrame\n",
    "    data_df = data_df[['id', 'Station_Name', 'Station_Address', 'country']]\n",
    "    \n",
    "    # Save the Data to DB\n",
    "    save_data(data_df)\n",
    "\n",
    "        \n",
    "\n",
    "for url, ctry in zip(country_url_list, countries):\n",
    "    try:\n",
    "        # Scrape the page and save data\n",
    "        get_and_save_data(url, ctry)        \n",
    "        \n",
    "        # Get and prepare Pagination        \n",
    "        page_n = get_pagination(url)\n",
    "        if get_pagi_url_max_num(page_n):\n",
    "            print('More')\n",
    "            pgination_url, max_pg = get_pagi_url_max_num(page_n)\n",
    "            for i in range(2, max_pg + 1):  # range(2, max_pg+1)\n",
    "                get_and_save_data(pgination_url+str(i), ctry)\n",
    "        else:\n",
    "            print('less')\n",
    "            continue\n",
    "        \n",
    "    except Exception as err:\n",
    "        print(err)\n",
    "        "
   ]
  },
  {
   "cell_type": "code",
   "execution_count": 6,
   "id": "893a70a1-cb73-48bf-967a-a1d6de6b0c64",
   "metadata": {},
   "outputs": [
    {
     "name": "stdout",
     "output_type": "stream",
     "text": [
      "France \n",
      " https://www.viamichelin.fr/web/Stations-service?address=France\n",
      "United Kingdom \n",
      " https://www.viamichelin.fr/web/Stations-service?address=united%20kingdom\n",
      "Switzerland \n",
      " https://www.viamichelin.fr/web/Stations-service?address=switzerland\n",
      "Germany \n",
      " https://www.viamichelin.fr/web/Stations-service?address=germany\n",
      "Belgium \n",
      " https://www.viamichelin.fr/web/Stations-service?address=Belgium\n",
      "Netherlands \n",
      " https://www.viamichelin.fr/web/Stations-service?address=netherlands\n",
      "Spain \n",
      " https://www.viamichelin.fr/web/Stations-service?address=spain\n",
      "Luxembourg \n",
      " https://www.viamichelin.fr/web/Stations-service?address=luxemburg\n",
      "Czech Republic \n",
      " https://www.viamichelin.fr/web/Stations-service?address=Czechia\n",
      "Italy \n",
      " https://www.viamichelin.fr/web/Stations-service?address=Italy\n"
     ]
    }
   ],
   "source": [
    "for url, ctry in zip(country_url_list, countries):\n",
    "    print(ctry,'\\n',url)"
   ]
  },
  {
   "cell_type": "code",
   "execution_count": 113,
   "id": "3e4c606b-b79c-4cfb-8528-ae8121d3cee2",
   "metadata": {},
   "outputs": [
    {
     "name": "stdout",
     "output_type": "stream",
     "text": [
      "https://www.viamichelin.fr/web/Stations-service?address=Czechia <Response [200]>\n",
      "48 48\n",
      "done\n",
      "                                 id        Station_Name  \\\n",
      "0  0db0c81b1cba5668b692cc09a66d2264           MOL Ruská   \n",
      "1  ef3a0ce755ce52a8b4e51f15b127281e  EuroOil Havlíčkova   \n",
      "\n",
      "                   Station_Address country  \n",
      "0            Ruská, 10000 Praha 10  France  \n",
      "1  1673 Havlíčkova, 58301 Chotěboř  France  \n",
      "More\n",
      "https://www.viamichelin.fr/web/Stations-service/Stations-service-Tchequie?page=2 <Response [200]>\n",
      "48 48\n",
      "done\n",
      "                                 id       Station_Name  \\\n",
      "0  93cdced41f9252f98757d1fce95f6477  EuroOil Břidličná   \n",
      "1  be43f06ea5835deba9e45c4376fcd489         MOL Karlov   \n",
      "\n",
      "                     Station_Address country  \n",
      "0    488 Rýmařovská, 79351 Břidličná  France  \n",
      "1  1247 Karlov, 59401 Velké Meziříčí  France  \n",
      "https://www.viamichelin.fr/web/Stations-service/Stations-service-Tchequie?page=3 <Response [200]>\n",
      "48 48\n",
      "done\n",
      "                                 id   Station_Name  \\\n",
      "0  fe957e7aac87593ab5f98a7d9c933302  Shell Šumperk   \n",
      "1  1e3a96d5c5455cb686ba132fa1a11ea3       Těšetice   \n",
      "\n",
      "                    Station_Address country  \n",
      "0  2846/1C Jesenická, 78701 Šumperk  France  \n",
      "1                                    France  \n"
     ]
    }
   ],
   "source": [
    "def get_rqt(url):\n",
    "    r = requests.get(url)\n",
    "    sp = BeautifulSoup(r.content, 'html.parser')\n",
    "    return sp\n",
    "\n",
    "\n",
    "def get_pagi_url_max_num(page_n):\n",
    "    pg = BeautifulSoup(str(page_n[0]), 'html.parser')\n",
    "    pg_a = pg.findAll('a')\n",
    "\n",
    "    if len(pg_a) > 0:\n",
    "        pg_a = pg_a[-1]\n",
    "        pgination_url = pg_a['href']\n",
    "        pgination_url = pgination_url[0:pgination_url.index('=')+1]\n",
    "        max_pg = int(pg_a.get_text())\n",
    "        return pgination_url, max_pg\n",
    "    \n",
    "    \n",
    "def get_pagination(url):\n",
    "    r = requests.get(url)\n",
    "    #print(r)\n",
    "    soup = BeautifulSoup(r.content, 'html.parser')\n",
    "    page_n = soup.findAll(\"p\", class_=\"pagination-second-line\")\n",
    "    return page_n\n",
    "\n",
    "\n",
    "def save_data(data_df):\n",
    "    target_table = 'viamichelin_stations'\n",
    "    del_id_lst = str(list(data_df['id'])).replace('[','(').replace(']',')')    \n",
    "    try:\n",
    "        # Delete existing rows to be updated with new version\n",
    "        del_existing_rows_query = \"DELETE FROM \" +target_table+ \" WHERE id IN \" + del_id_lst\n",
    "        with snow_engine.connect() as conn:\n",
    "            conn.execute(del_existing_rows_query)\n",
    "\n",
    "        # Save data in the DataFrame    \n",
    "        data_df.to_sql(target_table, con=snow_engine, schema='public', index=False, if_exists='append')\n",
    "        print('done')\n",
    "    except Exception as err:\n",
    "        print(err)    \n",
    "\n",
    "    \n",
    "def get_and_save_data(url, ctry):\n",
    "    r = requests.get(url)\n",
    "    print(url, r)\n",
    "    soup = BeautifulSoup(r.content, 'html.parser')\n",
    "\n",
    "    # Get station Names\n",
    "    station_names = soup.findAll('div', class_='poi-item-name truncate')\n",
    "    station_names = [val.get_text() for val in station_names]\n",
    "\n",
    "    # Get station Addresses\n",
    "    station_address = soup.findAll('div', class_=\"poi-item-details-address truncate\")\n",
    "    station_address = [val.get_text() for val in station_address]\n",
    "    print(len(station_names), len(station_address))\n",
    "\n",
    "    # Combine the Scrapped data into a list ready to be converted into a DataFrame\n",
    "    dat_zip = zip(station_names[:2], station_address[:2])\n",
    "\n",
    "    # Clear the list to save memory        \n",
    "    station_names.clear()\n",
    "    station_address.clear()\n",
    "\n",
    "    zipped_dat = list(dat_zip)\n",
    "    dat_zip = ''\n",
    "    data = [list(i) for i in zipped_dat]\n",
    "    zipped_dat.clear()\n",
    "\n",
    "    # Create DataFrame from the data list\n",
    "    data_df = pd.DataFrame(data, columns=['Station_Name', 'Station_Address'])\n",
    "    data.clear()\n",
    "\n",
    "    # Generate a UUID for each row based on the values in 'Station_Name' and 'Station_Address'\n",
    "    generate_uuid = lambda row: uuid.uuid5(uuid.NAMESPACE_DNS, str(row['Station_Name']) + str(row['Station_Address'])).hex\n",
    "\n",
    "    # Add new columns to the created DataFrame\n",
    "    data_df[\"country\"] = ctry\n",
    "    data_df['id'] = data_df.apply(generate_uuid, axis=1)\n",
    "\n",
    "    #Rearrange DataFrame\n",
    "    data_df = data_df[['id', 'Station_Name', 'Station_Address', 'country']]\n",
    "    \n",
    "    # Save the Data to DB\n",
    "    save_data(data_df)\n",
    "    data_df\n",
    "    print(data_df)\n",
    "        \n",
    "\n",
    "for url, ctry in zip(country_url_list, countries):\n",
    "    try:\n",
    "        # Scrape the page and save data\n",
    "        get_and_save_data(url, ctry)        \n",
    "        \n",
    "        # Get and prepare Pagination        \n",
    "        page_n = get_pagination(url)\n",
    "        if get_pagi_url_max_num(page_n):\n",
    "            print('More')\n",
    "            pgination_url, max_pg = get_pagi_url_max_num(page_n)\n",
    "            for i in range(2, (max_pg-max_pg) + 4):  # range(2, max_pg+1)\n",
    "                get_and_save_data(pgination_url+str(i), ctry)\n",
    "        else:\n",
    "            print('less')\n",
    "            continue\n",
    "        \n",
    "    except Exception as err:\n",
    "        print(err)\n",
    "        "
   ]
  },
  {
   "cell_type": "code",
   "execution_count": 11,
   "id": "6a3f5903-2abb-4141-8c3e-0a52d8f53e02",
   "metadata": {},
   "outputs": [
    {
     "name": "stdout",
     "output_type": "stream",
     "text": [
      "https://www.viamichelin.fr/web/Stations-service?address=Czechia France\n"
     ]
    }
   ],
   "source": [
    "for url, ctry in zip(country_url_list, countries):\n",
    "    print(url, ctry)"
   ]
  },
  {
   "cell_type": "code",
   "execution_count": 13,
   "id": "3af9ae22-196a-48a3-bd62-03d9af08e81b",
   "metadata": {},
   "outputs": [],
   "source": [
    "ulr = 'https://www.viamichelin.fr/web/Stations-service?address=Czechia'"
   ]
  },
  {
   "cell_type": "code",
   "execution_count": 14,
   "id": "6afd321c-741a-4700-ae4a-6079e8ce5c09",
   "metadata": {},
   "outputs": [
    {
     "data": {
      "text/plain": [
       "<Response [200]>"
      ]
     },
     "execution_count": 14,
     "metadata": {},
     "output_type": "execute_result"
    }
   ],
   "source": [
    "r = requests.get(ulr)\n",
    "r"
   ]
  },
  {
   "cell_type": "code",
   "execution_count": 15,
   "id": "5e0d6dd0-7461-4207-98e4-247556ce240b",
   "metadata": {
    "tags": []
   },
   "outputs": [],
   "source": [
    "soup = BeautifulSoup(r.content, 'html.parser')\n",
    "#print(soup.prettify())"
   ]
  },
  {
   "cell_type": "code",
   "execution_count": 16,
   "id": "3057a314-b92b-44de-a5a9-addda8ef2d03",
   "metadata": {},
   "outputs": [
    {
     "data": {
      "text/plain": [
       "bs4.BeautifulSoup"
      ]
     },
     "execution_count": 16,
     "metadata": {},
     "output_type": "execute_result"
    }
   ],
   "source": [
    "type(soup)"
   ]
  },
  {
   "cell_type": "code",
   "execution_count": 17,
   "id": "91a09107-8498-4fc3-a86d-43ce7b57f5f8",
   "metadata": {
    "tags": []
   },
   "outputs": [
    {
     "data": {
      "text/plain": [
       "['Ruská, 10000 Praha 10',\n",
       " '1673 Havlíčkova, 58301 Chotěboř',\n",
       " '',\n",
       " '1452/20 Dvorní, 57101 Moravská Třebová',\n",
       " '825/4 Roviny, 64300 Brno-Chrlice']"
      ]
     },
     "execution_count": 17,
     "metadata": {},
     "output_type": "execute_result"
    }
   ],
   "source": [
    "[i.get_text() for i in soup.findAll('div', class_='poi-item-details-address truncate')[:5]]"
   ]
  },
  {
   "cell_type": "code",
   "execution_count": 18,
   "id": "424f43be-87c4-48cc-ac3d-2e43d439595f",
   "metadata": {
    "tags": []
   },
   "outputs": [
    {
     "data": {
      "text/plain": [
       "['MOL Ruská',\n",
       " 'EuroOil Havlíčkova',\n",
       " 'Benzina Nová Houžná',\n",
       " 'OMV Moravská Třebová',\n",
       " 'AD']"
      ]
     },
     "execution_count": 18,
     "metadata": {},
     "output_type": "execute_result"
    }
   ],
   "source": [
    "station_names = soup.findAll('div', class_='poi-item-name truncate')\n",
    "station_names = [val.get_text() for val in station_names]\n",
    "station_names[:5]"
   ]
  },
  {
   "cell_type": "code",
   "execution_count": 19,
   "id": "04d07958-7bdb-4bf9-b69a-8a8568003924",
   "metadata": {},
   "outputs": [
    {
     "data": {
      "text/plain": [
       "48"
      ]
     },
     "execution_count": 19,
     "metadata": {},
     "output_type": "execute_result"
    }
   ],
   "source": [
    "len(station_names)"
   ]
  },
  {
   "cell_type": "code",
   "execution_count": 124,
   "id": "97971ccf-e850-4fe0-8c14-48b16d68c67b",
   "metadata": {},
   "outputs": [
    {
     "data": {
      "text/html": [
       "<div>\n",
       "<style scoped>\n",
       "    .dataframe tbody tr th:only-of-type {\n",
       "        vertical-align: middle;\n",
       "    }\n",
       "\n",
       "    .dataframe tbody tr th {\n",
       "        vertical-align: top;\n",
       "    }\n",
       "\n",
       "    .dataframe thead th {\n",
       "        text-align: right;\n",
       "    }\n",
       "</style>\n",
       "<table border=\"1\" class=\"dataframe\">\n",
       "  <thead>\n",
       "    <tr style=\"text-align: right;\">\n",
       "      <th></th>\n",
       "      <th>A</th>\n",
       "      <th>B</th>\n",
       "    </tr>\n",
       "  </thead>\n",
       "  <tbody>\n",
       "    <tr>\n",
       "      <th>0</th>\n",
       "      <td>1</td>\n",
       "      <td>4</td>\n",
       "    </tr>\n",
       "    <tr>\n",
       "      <th>1</th>\n",
       "      <td>2</td>\n",
       "      <td>5</td>\n",
       "    </tr>\n",
       "    <tr>\n",
       "      <th>2</th>\n",
       "      <td>3</td>\n",
       "      <td>6</td>\n",
       "    </tr>\n",
       "  </tbody>\n",
       "</table>\n",
       "</div>"
      ],
      "text/plain": [
       "   A  B\n",
       "0  1  4\n",
       "1  2  5\n",
       "2  3  6"
      ]
     },
     "execution_count": 124,
     "metadata": {},
     "output_type": "execute_result"
    }
   ],
   "source": [
    "df_data = pd.DataFrame({'A': [1, 2, 3], 'B': [4, 5, 6]})\n",
    "df_data"
   ]
  },
  {
   "cell_type": "code",
   "execution_count": 127,
   "id": "d8c2d655-af6f-4177-ba33-3ea69537b65a",
   "metadata": {},
   "outputs": [
    {
     "name": "stdout",
     "output_type": "stream",
     "text": [
      "A    1\n",
      "B    4\n",
      "Name: 0, dtype: int64\n"
     ]
    }
   ],
   "source": [
    "print(df_data.loc[0])"
   ]
  },
  {
   "cell_type": "code",
   "execution_count": 20,
   "id": "68431dec-ea8c-456b-9b21-7006571c9559",
   "metadata": {},
   "outputs": [
    {
     "data": {
      "text/plain": [
       "str"
      ]
     },
     "execution_count": 20,
     "metadata": {},
     "output_type": "execute_result"
    }
   ],
   "source": [
    "type(station_names[3])"
   ]
  },
  {
   "cell_type": "code",
   "execution_count": 21,
   "id": "f2a7f899-4553-4a9e-844d-d02d58a53d2b",
   "metadata": {},
   "outputs": [
    {
     "data": {
      "text/plain": [
       "['Ruská, 10000 Praha 10',\n",
       " '1673 Havlíčkova, 58301 Chotěboř',\n",
       " '',\n",
       " '1452/20 Dvorní, 57101 Moravská Třebová',\n",
       " '825/4 Roviny, 64300 Brno-Chrlice']"
      ]
     },
     "execution_count": 21,
     "metadata": {},
     "output_type": "execute_result"
    }
   ],
   "source": [
    "station_address = soup.findAll('div', class_=\"poi-item-details-address truncate\")\n",
    "station_address = [val.get_text() for val in station_address]\n",
    "station_address[:5]"
   ]
  },
  {
   "cell_type": "code",
   "execution_count": 22,
   "id": "62ce601f-5db5-4896-93d4-2deab1565c78",
   "metadata": {},
   "outputs": [],
   "source": [
    "needed_data = [station_names, station_address]\n",
    "#needed_data"
   ]
  },
  {
   "cell_type": "code",
   "execution_count": 23,
   "id": "734688ae-e211-4b24-b50c-a1853e5e8e8a",
   "metadata": {},
   "outputs": [
    {
     "name": "stdout",
     "output_type": "stream",
     "text": [
      "[['MOL Ruská', 'Ruská, 10000 Praha 10'], ['EuroOil Havlíčkova', '1673 Havlíčkova, 58301 Chotěboř']]\n"
     ]
    }
   ],
   "source": [
    "dat_zip = zip(station_names[:2], station_address[:2])\n",
    "zipped_dat = list(dat_zip)\n",
    "dat_zip = ''\n",
    "data = [list(i) for i in zipped_dat]\n",
    "zipped_dat.clear()\n",
    "print(data)"
   ]
  },
  {
   "cell_type": "code",
   "execution_count": 24,
   "id": "4f24ceb8-030c-4b5a-907b-027fe1697441",
   "metadata": {},
   "outputs": [
    {
     "data": {
      "text/plain": [
       "list"
      ]
     },
     "execution_count": 24,
     "metadata": {},
     "output_type": "execute_result"
    }
   ],
   "source": [
    "type(zipped_dat)"
   ]
  },
  {
   "cell_type": "code",
   "execution_count": null,
   "id": "52322a1d-6f1b-420c-aaf3-974e409b6774",
   "metadata": {},
   "outputs": [],
   "source": []
  },
  {
   "cell_type": "code",
   "execution_count": 27,
   "id": "6c86ec97-4657-449e-b4e2-7bfe93f0d263",
   "metadata": {},
   "outputs": [
    {
     "name": "stdout",
     "output_type": "stream",
     "text": [
      "d0e00062-2ca8-5e7f-9915-e837894327d2\n"
     ]
    }
   ],
   "source": [
    "import uuid\n",
    "import hashlib\n",
    "\n",
    "namespace = uuid.UUID('6ba7b810-9dad-11d1-80b4-00c04fd430c8')\n",
    "input_string = \"my_stringt\"\n",
    "\n",
    "uuid_val = uuid.uuid5(namespace, input_string)\n",
    "\n",
    "print(uuid_val)\n"
   ]
  },
  {
   "cell_type": "code",
   "execution_count": 28,
   "id": "bbd52ef1-de79-4e88-b525-22df291c838d",
   "metadata": {},
   "outputs": [],
   "source": [
    "def generate_id(input_string):\n",
    "    namespace = uuid.UUID('6ba7b810-9dad-11d1-80b4-00c04fd430c8')\n",
    "    uuid_val = uuid.uuid5(namespace, input_string)\n",
    "    return str(uuid_val)"
   ]
  },
  {
   "cell_type": "code",
   "execution_count": 29,
   "id": "bf1c6922-4648-4c8a-802f-f98f01c7eee0",
   "metadata": {},
   "outputs": [],
   "source": [
    "def generate_id(df):\n",
    "    namespace = uuid.UUID('6ba7b810-9dad-11d1-80b4-00c04fd430c8')\n",
    "    uuid_val = uuid.uuid5(namespace, str(df['Station_Name'])+str(df['Station_Address']) )\n",
    "    return str(uuid_val)"
   ]
  },
  {
   "cell_type": "code",
   "execution_count": 31,
   "id": "3b522819-5de0-4c38-b947-efaf95419dbd",
   "metadata": {
    "collapsed": true,
    "jupyter": {
     "outputs_hidden": true
    },
    "tags": []
   },
   "outputs": [
    {
     "ename": "NameError",
     "evalue": "name 'data_df' is not defined",
     "output_type": "error",
     "traceback": [
      "\u001b[0;31m---------------------------------------------------------------------------\u001b[0m",
      "\u001b[0;31mNameError\u001b[0m                                 Traceback (most recent call last)",
      "Input \u001b[0;32mIn [31]\u001b[0m, in \u001b[0;36m<cell line: 1>\u001b[0;34m()\u001b[0m\n\u001b[0;32m----> 1\u001b[0m uuid_value \u001b[38;5;241m=\u001b[39m generate_id(\u001b[38;5;28mstr\u001b[39m(\u001b[43mdata_df\u001b[49m[\u001b[38;5;124m'\u001b[39m\u001b[38;5;124mStation_Name\u001b[39m\u001b[38;5;124m'\u001b[39m])\u001b[38;5;241m+\u001b[39m\u001b[38;5;28mstr\u001b[39m(data_df[\u001b[38;5;124m'\u001b[39m\u001b[38;5;124mStation_Address\u001b[39m\u001b[38;5;124m'\u001b[39m]))\n\u001b[1;32m      2\u001b[0m uuid_value\n",
      "\u001b[0;31mNameError\u001b[0m: name 'data_df' is not defined"
     ]
    }
   ],
   "source": [
    "uuid_value = generate_id(str(data_df['Station_Name'])+str(data_df['Station_Address']))\n",
    "uuid_value"
   ]
  },
  {
   "cell_type": "code",
   "execution_count": 172,
   "id": "bc3a11f6-5c03-4900-b600-77a48f79840a",
   "metadata": {},
   "outputs": [
    {
     "data": {
      "text/plain": [
       "'d98ee33c-9e04-5e58-aae8-4173c4e6842a'"
      ]
     },
     "execution_count": 172,
     "metadata": {},
     "output_type": "execute_result"
    }
   ],
   "source": [
    "str(uuid_value)"
   ]
  },
  {
   "cell_type": "code",
   "execution_count": 32,
   "id": "11857c24-3094-4a3f-be95-684f5c5dbd64",
   "metadata": {
    "tags": []
   },
   "outputs": [
    {
     "data": {
      "text/html": [
       "<div>\n",
       "<style scoped>\n",
       "    .dataframe tbody tr th:only-of-type {\n",
       "        vertical-align: middle;\n",
       "    }\n",
       "\n",
       "    .dataframe tbody tr th {\n",
       "        vertical-align: top;\n",
       "    }\n",
       "\n",
       "    .dataframe thead th {\n",
       "        text-align: right;\n",
       "    }\n",
       "</style>\n",
       "<table border=\"1\" class=\"dataframe\">\n",
       "  <thead>\n",
       "    <tr style=\"text-align: right;\">\n",
       "      <th></th>\n",
       "      <th>id</th>\n",
       "      <th>Station_Name</th>\n",
       "      <th>Station_Address</th>\n",
       "      <th>country</th>\n",
       "    </tr>\n",
       "  </thead>\n",
       "  <tbody>\n",
       "    <tr>\n",
       "      <th>0</th>\n",
       "      <td>0db0c81b1cba5668b692cc09a66d2264</td>\n",
       "      <td>MOL Ruská</td>\n",
       "      <td>Ruská, 10000 Praha 10</td>\n",
       "      <td>France</td>\n",
       "    </tr>\n",
       "    <tr>\n",
       "      <th>1</th>\n",
       "      <td>ef3a0ce755ce52a8b4e51f15b127281e</td>\n",
       "      <td>EuroOil Havlíčkova</td>\n",
       "      <td>1673 Havlíčkova, 58301 Chotěboř</td>\n",
       "      <td>France</td>\n",
       "    </tr>\n",
       "  </tbody>\n",
       "</table>\n",
       "</div>"
      ],
      "text/plain": [
       "                                 id        Station_Name  \\\n",
       "0  0db0c81b1cba5668b692cc09a66d2264           MOL Ruská   \n",
       "1  ef3a0ce755ce52a8b4e51f15b127281e  EuroOil Havlíčkova   \n",
       "\n",
       "                   Station_Address country  \n",
       "0            Ruská, 10000 Praha 10  France  \n",
       "1  1673 Havlíčkova, 58301 Chotěboř  France  "
      ]
     },
     "execution_count": 32,
     "metadata": {},
     "output_type": "execute_result"
    }
   ],
   "source": [
    "# Generate a UUID for each row based on the values in 'Station_Name' and 'Station_Address'\n",
    "generate_uuid = lambda row: uuid.uuid5(uuid.NAMESPACE_DNS, str(row['Station_Name']) + str(row['Station_Address'])).hex\n",
    "\n",
    "data_df = pd.DataFrame(data, columns=['Station_Name', 'Station_Address'])\n",
    "data_df[\"country\"] = 'France'\n",
    "data_df['id'] = data_df.apply(generate_uuid, axis=1)\n",
    "\n",
    "#Rearrange DataFrame\n",
    "data_df = data_df[['id', 'Station_Name', 'Station_Address', 'country']]\n",
    "data_df"
   ]
  },
  {
   "cell_type": "code",
   "execution_count": 33,
   "id": "8f6d4569-b44e-4c6a-ae45-00947b2791f9",
   "metadata": {},
   "outputs": [
    {
     "data": {
      "text/html": [
       "<div>\n",
       "<style scoped>\n",
       "    .dataframe tbody tr th:only-of-type {\n",
       "        vertical-align: middle;\n",
       "    }\n",
       "\n",
       "    .dataframe tbody tr th {\n",
       "        vertical-align: top;\n",
       "    }\n",
       "\n",
       "    .dataframe thead th {\n",
       "        text-align: right;\n",
       "    }\n",
       "</style>\n",
       "<table border=\"1\" class=\"dataframe\">\n",
       "  <thead>\n",
       "    <tr style=\"text-align: right;\">\n",
       "      <th></th>\n",
       "      <th>id</th>\n",
       "      <th>Station_Name</th>\n",
       "      <th>Station_Address</th>\n",
       "      <th>country</th>\n",
       "    </tr>\n",
       "  </thead>\n",
       "  <tbody>\n",
       "    <tr>\n",
       "      <th>0</th>\n",
       "      <td>0db0c81b1cba5668b692cc09a66d2264</td>\n",
       "      <td>MOL Ruská</td>\n",
       "      <td>Ruská, 10000 Praha 10</td>\n",
       "      <td>France</td>\n",
       "    </tr>\n",
       "    <tr>\n",
       "      <th>1</th>\n",
       "      <td>ef3a0ce755ce52a8b4e51f15b127281e</td>\n",
       "      <td>EuroOil Havlíčkova</td>\n",
       "      <td>1673 Havlíčkova, 58301 Chotěboř</td>\n",
       "      <td>France</td>\n",
       "    </tr>\n",
       "  </tbody>\n",
       "</table>\n",
       "</div>"
      ],
      "text/plain": [
       "                                 id        Station_Name  \\\n",
       "0  0db0c81b1cba5668b692cc09a66d2264           MOL Ruská   \n",
       "1  ef3a0ce755ce52a8b4e51f15b127281e  EuroOil Havlíčkova   \n",
       "\n",
       "                   Station_Address country  \n",
       "0            Ruská, 10000 Praha 10  France  \n",
       "1  1673 Havlíčkova, 58301 Chotěboř  France  "
      ]
     },
     "execution_count": 33,
     "metadata": {},
     "output_type": "execute_result"
    }
   ],
   "source": [
    "data_df = data_df[['id', 'Station_Name', 'Station_Address', 'country']]\n",
    "data_df"
   ]
  },
  {
   "cell_type": "code",
   "execution_count": 34,
   "id": "0528769b-74fe-40ec-99e2-7d49d834c365",
   "metadata": {},
   "outputs": [
    {
     "data": {
      "text/html": [
       "<div>\n",
       "<style scoped>\n",
       "    .dataframe tbody tr th:only-of-type {\n",
       "        vertical-align: middle;\n",
       "    }\n",
       "\n",
       "    .dataframe tbody tr th {\n",
       "        vertical-align: top;\n",
       "    }\n",
       "\n",
       "    .dataframe thead th {\n",
       "        text-align: right;\n",
       "    }\n",
       "</style>\n",
       "<table border=\"1\" class=\"dataframe\">\n",
       "  <thead>\n",
       "    <tr style=\"text-align: right;\">\n",
       "      <th></th>\n",
       "      <th>id</th>\n",
       "      <th>Station_Name</th>\n",
       "      <th>Station_Address</th>\n",
       "      <th>country</th>\n",
       "    </tr>\n",
       "  </thead>\n",
       "  <tbody>\n",
       "    <tr>\n",
       "      <th>0</th>\n",
       "      <td>0db0c81b1cba5668b692cc09a66d2264</td>\n",
       "      <td>MOL Ruská</td>\n",
       "      <td>Ruská, 10000 Praha 10</td>\n",
       "      <td>France</td>\n",
       "    </tr>\n",
       "    <tr>\n",
       "      <th>1</th>\n",
       "      <td>ef3a0ce755ce52a8b4e51f15b127281e</td>\n",
       "      <td>EuroOil Havlíčkova</td>\n",
       "      <td>1673 Havlíčkova, 58301 Chotěboř</td>\n",
       "      <td>France</td>\n",
       "    </tr>\n",
       "  </tbody>\n",
       "</table>\n",
       "</div>"
      ],
      "text/plain": [
       "                                 id        Station_Name  \\\n",
       "0  0db0c81b1cba5668b692cc09a66d2264           MOL Ruská   \n",
       "1  ef3a0ce755ce52a8b4e51f15b127281e  EuroOil Havlíčkova   \n",
       "\n",
       "                   Station_Address country  \n",
       "0            Ruská, 10000 Praha 10  France  \n",
       "1  1673 Havlíčkova, 58301 Chotěboř  France  "
      ]
     },
     "execution_count": 34,
     "metadata": {},
     "output_type": "execute_result"
    }
   ],
   "source": [
    "data_df"
   ]
  },
  {
   "cell_type": "code",
   "execution_count": 35,
   "id": "e15c8662-bf14-41b4-9411-d5a9d6389bf5",
   "metadata": {},
   "outputs": [
    {
     "data": {
      "text/html": [
       "<div>\n",
       "<style scoped>\n",
       "    .dataframe tbody tr th:only-of-type {\n",
       "        vertical-align: middle;\n",
       "    }\n",
       "\n",
       "    .dataframe tbody tr th {\n",
       "        vertical-align: top;\n",
       "    }\n",
       "\n",
       "    .dataframe thead th {\n",
       "        text-align: right;\n",
       "    }\n",
       "</style>\n",
       "<table border=\"1\" class=\"dataframe\">\n",
       "  <thead>\n",
       "    <tr style=\"text-align: right;\">\n",
       "      <th></th>\n",
       "      <th>id</th>\n",
       "      <th>Station_Name</th>\n",
       "      <th>Station_Address</th>\n",
       "      <th>country</th>\n",
       "    </tr>\n",
       "  </thead>\n",
       "  <tbody>\n",
       "    <tr>\n",
       "      <th>0</th>\n",
       "      <td>0db0c81b1cba5668b692cc09a66d2264</td>\n",
       "      <td>MOL Ruská</td>\n",
       "      <td>Ruská, 10000 Praha 10</td>\n",
       "      <td>France</td>\n",
       "    </tr>\n",
       "    <tr>\n",
       "      <th>1</th>\n",
       "      <td>ef3a0ce755ce52a8b4e51f15b127281e</td>\n",
       "      <td>EuroOil Havlíčkova</td>\n",
       "      <td>1673 Havlíčkova, 58301 Chotěboř</td>\n",
       "      <td>France</td>\n",
       "    </tr>\n",
       "  </tbody>\n",
       "</table>\n",
       "</div>"
      ],
      "text/plain": [
       "                                 id        Station_Name  \\\n",
       "0  0db0c81b1cba5668b692cc09a66d2264           MOL Ruská   \n",
       "1  ef3a0ce755ce52a8b4e51f15b127281e  EuroOil Havlíčkova   \n",
       "\n",
       "                   Station_Address country  \n",
       "0            Ruská, 10000 Praha 10  France  \n",
       "1  1673 Havlíčkova, 58301 Chotěboř  France  "
      ]
     },
     "execution_count": 35,
     "metadata": {},
     "output_type": "execute_result"
    }
   ],
   "source": [
    "data_df"
   ]
  },
  {
   "cell_type": "code",
   "execution_count": 36,
   "id": "c0211a2d-8ffb-4209-a5ce-1b702dc3cb85",
   "metadata": {},
   "outputs": [
    {
     "data": {
      "text/plain": [
       "<sqlalchemy.engine.base.Connection at 0x1a2d58fd0>"
      ]
     },
     "execution_count": 36,
     "metadata": {},
     "output_type": "execute_result"
    }
   ],
   "source": [
    "snow_engine = create_engine(URL(\n",
    "    account = config['account'],\n",
    "    user = config['user'],\n",
    "    password = config['password'],\n",
    "    database = config['database'],\n",
    "    schema = config['schema'],\n",
    "    warehouse = config['warehouse'],\n",
    "    role= config['role']\n",
    "))\n",
    "\n",
    "snow_connection = snow_engine.connect()\n",
    "snow_connection"
   ]
  },
  {
   "cell_type": "code",
   "execution_count": 40,
   "id": "16d56167-a33b-47e2-b4f8-ae4573ce0338",
   "metadata": {},
   "outputs": [
    {
     "data": {
      "text/html": [
       "<div>\n",
       "<style scoped>\n",
       "    .dataframe tbody tr th:only-of-type {\n",
       "        vertical-align: middle;\n",
       "    }\n",
       "\n",
       "    .dataframe tbody tr th {\n",
       "        vertical-align: top;\n",
       "    }\n",
       "\n",
       "    .dataframe thead th {\n",
       "        text-align: right;\n",
       "    }\n",
       "</style>\n",
       "<table border=\"1\" class=\"dataframe\">\n",
       "  <thead>\n",
       "    <tr style=\"text-align: right;\">\n",
       "      <th></th>\n",
       "      <th>id</th>\n",
       "      <th>Station_Name</th>\n",
       "      <th>Station_Address</th>\n",
       "      <th>country</th>\n",
       "    </tr>\n",
       "  </thead>\n",
       "  <tbody>\n",
       "    <tr>\n",
       "      <th>0</th>\n",
       "      <td>0db0c81b1cba5668b692cc09a66d2264</td>\n",
       "      <td>MOL Ruská</td>\n",
       "      <td>Ruská, 10000 Praha 10</td>\n",
       "      <td>France</td>\n",
       "    </tr>\n",
       "    <tr>\n",
       "      <th>1</th>\n",
       "      <td>ef3a0ce755ce52a8b4e51f15b127281e</td>\n",
       "      <td>EuroOil Havlíčkova</td>\n",
       "      <td>1673 Havlíčkova, 58301 Chotěboř</td>\n",
       "      <td>France</td>\n",
       "    </tr>\n",
       "  </tbody>\n",
       "</table>\n",
       "</div>"
      ],
      "text/plain": [
       "                                 id        Station_Name  \\\n",
       "0  0db0c81b1cba5668b692cc09a66d2264           MOL Ruská   \n",
       "1  ef3a0ce755ce52a8b4e51f15b127281e  EuroOil Havlíčkova   \n",
       "\n",
       "                   Station_Address country  \n",
       "0            Ruská, 10000 Praha 10  France  \n",
       "1  1673 Havlíčkova, 58301 Chotěboř  France  "
      ]
     },
     "execution_count": 40,
     "metadata": {},
     "output_type": "execute_result"
    }
   ],
   "source": [
    "data_df"
   ]
  },
  {
   "cell_type": "code",
   "execution_count": null,
   "id": "d594e78b-4194-48b5-80a7-d6d7abe0a79f",
   "metadata": {},
   "outputs": [],
   "source": [
    "snow_engine"
   ]
  },
  {
   "cell_type": "code",
   "execution_count": 64,
   "id": "c30a815d-a111-4592-90d8-e526c1e1c980",
   "metadata": {},
   "outputs": [
    {
     "data": {
      "text/plain": [
       "['0db0c81b1cba5668b692cc09a66d2264', 'ef3a0ce755ce52a8b4e51f15b127281e']"
      ]
     },
     "execution_count": 64,
     "metadata": {},
     "output_type": "execute_result"
    }
   ],
   "source": [
    "lst = list(data_df['id'])\n",
    "lst"
   ]
  },
  {
   "cell_type": "code",
   "execution_count": null,
   "id": "7ca91d96-4738-4323-acb9-c81afea947fe",
   "metadata": {},
   "outputs": [],
   "source": [
    "for i in lst"
   ]
  },
  {
   "cell_type": "code",
   "execution_count": 93,
   "id": "aa9abc9c-1909-423d-b613-c651b055f926",
   "metadata": {},
   "outputs": [
    {
     "data": {
      "text/html": [
       "<div>\n",
       "<style scoped>\n",
       "    .dataframe tbody tr th:only-of-type {\n",
       "        vertical-align: middle;\n",
       "    }\n",
       "\n",
       "    .dataframe tbody tr th {\n",
       "        vertical-align: top;\n",
       "    }\n",
       "\n",
       "    .dataframe thead th {\n",
       "        text-align: right;\n",
       "    }\n",
       "</style>\n",
       "<table border=\"1\" class=\"dataframe\">\n",
       "  <thead>\n",
       "    <tr style=\"text-align: right;\">\n",
       "      <th></th>\n",
       "      <th>id</th>\n",
       "      <th>Station_Name</th>\n",
       "      <th>Station_Address</th>\n",
       "      <th>country</th>\n",
       "    </tr>\n",
       "  </thead>\n",
       "  <tbody>\n",
       "    <tr>\n",
       "      <th>0</th>\n",
       "      <td>0db0c81b1cba5668b692cc09a66d2264</td>\n",
       "      <td>MOL Ruská</td>\n",
       "      <td>Ruská, 10000 Praha 10</td>\n",
       "      <td>Czech Republic</td>\n",
       "    </tr>\n",
       "  </tbody>\n",
       "</table>\n",
       "</div>"
      ],
      "text/plain": [
       "                                 id Station_Name        Station_Address  \\\n",
       "0  0db0c81b1cba5668b692cc09a66d2264    MOL Ruská  Ruská, 10000 Praha 10   \n",
       "\n",
       "          country  \n",
       "0  Czech Republic  "
      ]
     },
     "execution_count": 93,
     "metadata": {},
     "output_type": "execute_result"
    }
   ],
   "source": [
    "import numpy as np\n",
    "data_df['country'] = np.where(data_df['id'] == '0db0c81b1cba5668b692cc09a66d2264', 'Czech Republic', data_df['country'])\n",
    "data_df = data_df.head(1)\n",
    "data_df"
   ]
  },
  {
   "cell_type": "code",
   "execution_count": 84,
   "id": "0785eef4-a3a1-46ae-b0f9-d82d8165c382",
   "metadata": {},
   "outputs": [
    {
     "name": "stderr",
     "output_type": "stream",
     "text": [
      "/var/folders/vp/c_kgx06n7dq2rtfy8_mhq1dw0000gp/T/ipykernel_31559/440371380.py:1: SettingWithCopyWarning: \n",
      "A value is trying to be set on a copy of a slice from a DataFrame.\n",
      "Try using .loc[row_indexer,col_indexer] = value instead\n",
      "\n",
      "See the caveats in the documentation: https://pandas.pydata.org/pandas-docs/stable/user_guide/indexing.html#returning-a-view-versus-a-copy\n",
      "  data_df[data_df['id'] == '0db0c81b1cba5668b692cc09a66d2264'].country = 'Czech Republic'\n"
     ]
    },
    {
     "data": {
      "text/html": [
       "<div>\n",
       "<style scoped>\n",
       "    .dataframe tbody tr th:only-of-type {\n",
       "        vertical-align: middle;\n",
       "    }\n",
       "\n",
       "    .dataframe tbody tr th {\n",
       "        vertical-align: top;\n",
       "    }\n",
       "\n",
       "    .dataframe thead th {\n",
       "        text-align: right;\n",
       "    }\n",
       "</style>\n",
       "<table border=\"1\" class=\"dataframe\">\n",
       "  <thead>\n",
       "    <tr style=\"text-align: right;\">\n",
       "      <th></th>\n",
       "      <th>id</th>\n",
       "      <th>Station_Name</th>\n",
       "      <th>Station_Address</th>\n",
       "      <th>country</th>\n",
       "    </tr>\n",
       "  </thead>\n",
       "  <tbody>\n",
       "    <tr>\n",
       "      <th>0</th>\n",
       "      <td>0db0c81b1cba5668b692cc09a66d2264</td>\n",
       "      <td>MOL Ruská</td>\n",
       "      <td>Ruská, 10000 Praha 10</td>\n",
       "      <td>France</td>\n",
       "    </tr>\n",
       "    <tr>\n",
       "      <th>1</th>\n",
       "      <td>ef3a0ce755ce52a8b4e51f15b127281e</td>\n",
       "      <td>EuroOil Havlíčkova</td>\n",
       "      <td>1673 Havlíčkova, 58301 Chotěboř</td>\n",
       "      <td>France</td>\n",
       "    </tr>\n",
       "  </tbody>\n",
       "</table>\n",
       "</div>"
      ],
      "text/plain": [
       "                                 id        Station_Name  \\\n",
       "0  0db0c81b1cba5668b692cc09a66d2264           MOL Ruská   \n",
       "1  ef3a0ce755ce52a8b4e51f15b127281e  EuroOil Havlíčkova   \n",
       "\n",
       "                   Station_Address country  \n",
       "0            Ruská, 10000 Praha 10  France  \n",
       "1  1673 Havlíčkova, 58301 Chotěboř  France  "
      ]
     },
     "execution_count": 84,
     "metadata": {},
     "output_type": "execute_result"
    }
   ],
   "source": [
    "data_df[data_df['id'] == '0db0c81b1cba5668b692cc09a66d2264'].country = 'Czech Republic'\n",
    "data_df"
   ]
  },
  {
   "cell_type": "code",
   "execution_count": 94,
   "id": "a16ce860-f6d1-48b9-89cc-beca6aa9f2c2",
   "metadata": {},
   "outputs": [
    {
     "data": {
      "text/html": [
       "<div>\n",
       "<style scoped>\n",
       "    .dataframe tbody tr th:only-of-type {\n",
       "        vertical-align: middle;\n",
       "    }\n",
       "\n",
       "    .dataframe tbody tr th {\n",
       "        vertical-align: top;\n",
       "    }\n",
       "\n",
       "    .dataframe thead th {\n",
       "        text-align: right;\n",
       "    }\n",
       "</style>\n",
       "<table border=\"1\" class=\"dataframe\">\n",
       "  <thead>\n",
       "    <tr style=\"text-align: right;\">\n",
       "      <th></th>\n",
       "      <th>id</th>\n",
       "      <th>Station_Name</th>\n",
       "      <th>Station_Address</th>\n",
       "      <th>country</th>\n",
       "    </tr>\n",
       "  </thead>\n",
       "  <tbody>\n",
       "    <tr>\n",
       "      <th>0</th>\n",
       "      <td>0db0c81b1cba5668b692cc09a66d2264</td>\n",
       "      <td>MOL Ruská</td>\n",
       "      <td>Ruská, 10000 Praha 10</td>\n",
       "      <td>Czech Republic</td>\n",
       "    </tr>\n",
       "  </tbody>\n",
       "</table>\n",
       "</div>"
      ],
      "text/plain": [
       "                                 id Station_Name        Station_Address  \\\n",
       "0  0db0c81b1cba5668b692cc09a66d2264    MOL Ruská  Ruská, 10000 Praha 10   \n",
       "\n",
       "          country  \n",
       "0  Czech Republic  "
      ]
     },
     "execution_count": 94,
     "metadata": {},
     "output_type": "execute_result"
    }
   ],
   "source": [
    "data_df"
   ]
  },
  {
   "cell_type": "code",
   "execution_count": 105,
   "id": "a16e662c-d3b5-4838-bd53-9b3e8c96e446",
   "metadata": {},
   "outputs": [
    {
     "name": "stdout",
     "output_type": "stream",
     "text": [
      "done\n"
     ]
    }
   ],
   "source": [
    "target_table = 'viamichelin_stations'\n",
    "del_id_lst = str(list(data_df['id'])).replace('[','(').replace(']',')')    \n",
    "try:\n",
    "    # Delete existing rows to be updated with new version\n",
    "    del_existing_rows_query = \"DELETE FROM \" +target_table+ \" WHERE id IN \" + del_id_lst\n",
    "    with snow_engine.connect() as conn:\n",
    "        conn.execute(del_existing_rows_query)\n",
    "        \n",
    "    # Save data in the DataFrame    \n",
    "    data_df.to_sql(target_table, con=snow_engine, schema='public', index=False, if_exists='append')\n",
    "    print('done')\n",
    "except Exception as err:\n",
    "    print(err)    "
   ]
  },
  {
   "cell_type": "code",
   "execution_count": 107,
   "id": "a8d8b05e-5948-450a-b2d8-cdde0cb5ac9f",
   "metadata": {},
   "outputs": [],
   "source": [
    "def save_data(data_df):\n",
    "    target_table = 'viamichelin_stations'\n",
    "    del_id_lst = str(list(data_df['id'])).replace('[','(').replace(']',')')    \n",
    "    try:\n",
    "        # Delete existing rows to be updated with new version\n",
    "        del_existing_rows_query = \"DELETE FROM \" +target_table+ \" WHERE id IN \" + del_id_lst\n",
    "        with snow_engine.connect() as conn:\n",
    "            conn.execute(del_existing_rows_query)\n",
    "\n",
    "        # Save data in the DataFrame    \n",
    "        data_df.to_sql(target_table, con=snow_engine, schema='public', index=False, if_exists='append')\n",
    "        print('done')\n",
    "    except Exception as err:\n",
    "        print(err)    "
   ]
  },
  {
   "cell_type": "code",
   "execution_count": 97,
   "id": "023f847f-402f-4e74-94e0-ecc1bde0d38b",
   "metadata": {},
   "outputs": [
    {
     "data": {
      "text/plain": [
       "\"('0db0c81b1cba5668b692cc09a66d2264',)\""
      ]
     },
     "execution_count": 97,
     "metadata": {},
     "output_type": "execute_result"
    }
   ],
   "source": [
    "str(tuple(data_df['id']))"
   ]
  },
  {
   "cell_type": "code",
   "execution_count": 104,
   "id": "afc51325-ef09-49c3-8e57-1dbd59591834",
   "metadata": {},
   "outputs": [
    {
     "data": {
      "text/plain": [
       "\"('0db0c81b1cba5668b692cc09a66d2264')\""
      ]
     },
     "execution_count": 104,
     "metadata": {},
     "output_type": "execute_result"
    }
   ],
   "source": [
    "del_id_lst = str(list(data_df['id'])).replace('[','(').replace(']',')')\n",
    "del_id_lst"
   ]
  },
  {
   "cell_type": "code",
   "execution_count": 103,
   "id": "365143d2-6aff-4d5e-9729-d580c993df06",
   "metadata": {},
   "outputs": [
    {
     "data": {
      "text/plain": [
       "\"('0db0c81b1cba5668b692cc09a66d2264')\""
      ]
     },
     "execution_count": 103,
     "metadata": {},
     "output_type": "execute_result"
    }
   ],
   "source": [
    "str(list(data_df['id'])).replace('[','(').replace(']',')')"
   ]
  },
  {
   "cell_type": "code",
   "execution_count": 74,
   "id": "28518a4b-c429-4a0d-973f-0686304b4187",
   "metadata": {},
   "outputs": [
    {
     "data": {
      "text/plain": [
       "'viamichelin_stations'"
      ]
     },
     "execution_count": 74,
     "metadata": {},
     "output_type": "execute_result"
    }
   ],
   "source": [
    "target_table"
   ]
  },
  {
   "cell_type": "code",
   "execution_count": 75,
   "id": "86b5c14f-102f-4ea6-8eab-51a623d0a473",
   "metadata": {},
   "outputs": [
    {
     "name": "stdout",
     "output_type": "stream",
     "text": [
      "done\n"
     ]
    }
   ],
   "source": [
    "\n",
    "# MY_DATABASE\n",
    "try:\n",
    "    data_df.to_sql(target_table, con=snow_engine, schema='public', index=False, if_exists='append')\n",
    "    print('done')\n",
    "except Exception as err:\n",
    "    print(err)"
   ]
  },
  {
   "cell_type": "code",
   "execution_count": 47,
   "id": "71392e76-a23a-4370-a93a-503ad08b8633",
   "metadata": {},
   "outputs": [
    {
     "data": {
      "text/html": [
       "<div>\n",
       "<style scoped>\n",
       "    .dataframe tbody tr th:only-of-type {\n",
       "        vertical-align: middle;\n",
       "    }\n",
       "\n",
       "    .dataframe tbody tr th {\n",
       "        vertical-align: top;\n",
       "    }\n",
       "\n",
       "    .dataframe thead th {\n",
       "        text-align: right;\n",
       "    }\n",
       "</style>\n",
       "<table border=\"1\" class=\"dataframe\">\n",
       "  <thead>\n",
       "    <tr style=\"text-align: right;\">\n",
       "      <th></th>\n",
       "      <th>id</th>\n",
       "      <th>Station_Name</th>\n",
       "      <th>Station_Address</th>\n",
       "      <th>country</th>\n",
       "    </tr>\n",
       "  </thead>\n",
       "  <tbody>\n",
       "    <tr>\n",
       "      <th>0</th>\n",
       "      <td>0db0c81b1cba5668b692cc09a66d2264</td>\n",
       "      <td>MOL Ruská</td>\n",
       "      <td>Ruská, 10000 Praha 10</td>\n",
       "      <td>France</td>\n",
       "    </tr>\n",
       "    <tr>\n",
       "      <th>1</th>\n",
       "      <td>ef3a0ce755ce52a8b4e51f15b127281e</td>\n",
       "      <td>EuroOil Havlíčkova</td>\n",
       "      <td>1673 Havlíčkova, 58301 Chotěboř</td>\n",
       "      <td>France</td>\n",
       "    </tr>\n",
       "  </tbody>\n",
       "</table>\n",
       "</div>"
      ],
      "text/plain": [
       "                                 id        Station_Name  \\\n",
       "0  0db0c81b1cba5668b692cc09a66d2264           MOL Ruská   \n",
       "1  ef3a0ce755ce52a8b4e51f15b127281e  EuroOil Havlíčkova   \n",
       "\n",
       "                   Station_Address country  \n",
       "0            Ruská, 10000 Praha 10  France  \n",
       "1  1673 Havlíčkova, 58301 Chotěboř  France  "
      ]
     },
     "execution_count": 47,
     "metadata": {},
     "output_type": "execute_result"
    }
   ],
   "source": [
    "data_df"
   ]
  },
  {
   "cell_type": "code",
   "execution_count": null,
   "id": "e9be52b1-4589-4688-9567-6eebcbe1021d",
   "metadata": {},
   "outputs": [],
   "source": []
  },
  {
   "cell_type": "code",
   "execution_count": 70,
   "id": "76a4e26b-89f6-42a7-9064-fce9cf1000d2",
   "metadata": {},
   "outputs": [
    {
     "name": "stdout",
     "output_type": "stream",
     "text": [
      "CPU times: user 91.6 ms, sys: 14.2 ms, total: 106 ms\n",
      "Wall time: 3.49 s\n"
     ]
    }
   ],
   "source": [
    "%%time\n",
    "tab = 'sno_engine_conn_insert'\n",
    "data_df.to_sql(f'{tab}', snow_engine, if_exists='replace', index=False)"
   ]
  },
  {
   "cell_type": "code",
   "execution_count": null,
   "id": "3746b860-d645-4dbd-9a84-c194ab0a268a",
   "metadata": {},
   "outputs": [],
   "source": []
  },
  {
   "cell_type": "code",
   "execution_count": 38,
   "id": "e3b304e3-b6f1-4669-89e3-9b89f6fc9c07",
   "metadata": {},
   "outputs": [
    {
     "data": {
      "text/plain": [
       "[<p class=\"pagination-second-line\"> <a data-pagination=\"20\" href=\"https://www.viamichelin.fr/web/Stations-service/Stations-service-Tchequie?page=20\">20</a> <a data-pagination=\"30\" href=\"https://www.viamichelin.fr/web/Stations-service/Stations-service-Tchequie?page=30\">30</a> <a data-pagination=\"40\" href=\"https://www.viamichelin.fr/web/Stations-service/Stations-service-Tchequie?page=40\">40</a> <a data-pagination=\"50\" href=\"https://www.viamichelin.fr/web/Stations-service/Stations-service-Tchequie?page=50\">50</a></p>]"
      ]
     },
     "execution_count": 38,
     "metadata": {},
     "output_type": "execute_result"
    }
   ],
   "source": [
    "page_n = soup.findAll(\"p\", class_=\"pagination-second-line\")\n",
    "page_n"
   ]
  },
  {
   "cell_type": "code",
   "execution_count": null,
   "id": "8c3d384f-0a05-449a-a4c0-37e5b156bd1b",
   "metadata": {},
   "outputs": [],
   "source": []
  },
  {
   "cell_type": "code",
   "execution_count": 104,
   "id": "15d61186-8efc-4eb4-b4d9-567c58e49914",
   "metadata": {},
   "outputs": [],
   "source": [
    "page_n = soup.findAll(\"p\", class_=\"pagination-second-line\")\n",
    "def get_pagi_url_max_num(page_n):\n",
    "    pg = BeautifulSoup(str(page_n[0]), 'html.parser')\n",
    "    pg_a = pg.findAll('a')\n",
    "\n",
    "    if len(pg_a) < 0:\n",
    "        pg_a = pg_a[-1]\n",
    "        pgination_url = pg_a['href']\n",
    "        pgination_url = pgination_url[0:pgination_url.index('=')+1]\n",
    "        max_pg = int(pg_a.get_text())\n",
    "        return pgination_url, max_pg\n",
    "        "
   ]
  },
  {
   "cell_type": "code",
   "execution_count": 105,
   "id": "3258e546-8c7e-4cb5-9139-a2a2d29b3df0",
   "metadata": {},
   "outputs": [
    {
     "name": "stdout",
     "output_type": "stream",
     "text": [
      "More\n"
     ]
    }
   ],
   "source": [
    "try:\n",
    "    get_pagi_url_max_num(page_n)\n",
    "    print('More')\n",
    "except:\n",
    "    print('less')"
   ]
  },
  {
   "cell_type": "code",
   "execution_count": 101,
   "id": "779c2c46-014f-4aff-aeb6-fef1c5af4193",
   "metadata": {},
   "outputs": [
    {
     "name": "stdout",
     "output_type": "stream",
     "text": [
      "More\n"
     ]
    }
   ],
   "source": [
    "if get_pagi_url_max_num(page_n):\n",
    "    print('More')\n",
    "    pgination_url, max_pg = get_pagi_url_max_num(page_n)\n",
    "else:\n",
    "    print('less')"
   ]
  },
  {
   "cell_type": "code",
   "execution_count": null,
   "id": "c9222f70-33f4-436d-b9a5-3c81109f3759",
   "metadata": {
    "collapsed": true,
    "jupyter": {
     "outputs_hidden": true
    },
    "tags": []
   },
   "outputs": [],
   "source": [
    "page_n = soup.findAll(\"p\", class_=\"pagination-second-line\")\n",
    "pg = BeautifulSoup(str(page_n[0]), 'html.parser')\n",
    "pg_a = pg.findAll('a')\n",
    "\n",
    "if len(pg_a) > 0:\n",
    "    pg_a = pg_a[-1]\n",
    "    pgination_url = pg_a['href']\n",
    "    pgination_url = pgination_url[0:pgination_url.index('=')+1]\n",
    "    max_pg = int(pg_a.get_text())\n",
    "    pgination_url max_pg"
   ]
  },
  {
   "cell_type": "code",
   "execution_count": 90,
   "id": "6de5b032-b472-4d58-8384-4ee7eeb4aba8",
   "metadata": {},
   "outputs": [
    {
     "data": {
      "text/plain": [
       "<p class=\"pagination-second-line\"> <a data-pagination=\"20\" href=\"https://www.viamichelin.fr/web/Stations-service/Stations-service-Tchequie?page=20\">20</a> <a data-pagination=\"30\" href=\"https://www.viamichelin.fr/web/Stations-service/Stations-service-Tchequie?page=30\">30</a> <a data-pagination=\"40\" href=\"https://www.viamichelin.fr/web/Stations-service/Stations-service-Tchequie?page=40\">40</a> <a data-pagination=\"50\" href=\"https://www.viamichelin.fr/web/Stations-service/Stations-service-Tchequie?page=50\">50</a></p>"
      ]
     },
     "execution_count": 90,
     "metadata": {},
     "output_type": "execute_result"
    }
   ],
   "source": [
    "#page_n =\n",
    "pg = BeautifulSoup(str(page_n[0]), 'html.parser')\n",
    "pg"
   ]
  },
  {
   "cell_type": "code",
   "execution_count": 91,
   "id": "4655171e-cc60-4f2f-85c6-0a40ef223a01",
   "metadata": {},
   "outputs": [
    {
     "data": {
      "text/plain": [
       "[<a data-pagination=\"20\" href=\"https://www.viamichelin.fr/web/Stations-service/Stations-service-Tchequie?page=20\">20</a>,\n",
       " <a data-pagination=\"30\" href=\"https://www.viamichelin.fr/web/Stations-service/Stations-service-Tchequie?page=30\">30</a>,\n",
       " <a data-pagination=\"40\" href=\"https://www.viamichelin.fr/web/Stations-service/Stations-service-Tchequie?page=40\">40</a>,\n",
       " <a data-pagination=\"50\" href=\"https://www.viamichelin.fr/web/Stations-service/Stations-service-Tchequie?page=50\">50</a>]"
      ]
     },
     "execution_count": 91,
     "metadata": {},
     "output_type": "execute_result"
    }
   ],
   "source": [
    "pg_a = pg.findAll('a')\n",
    "pg_a"
   ]
  },
  {
   "cell_type": "code",
   "execution_count": 92,
   "id": "8cb6d2bd-66ec-42c3-8d87-6467ff95fe5d",
   "metadata": {},
   "outputs": [],
   "source": [
    "if len(pg_a) > 0:\n",
    "    pg_a = pg_a[-1]\n",
    "    pgination_url = pg_a['href']\n",
    "    pgination_url = pgination_url[0:pgination_url.index('=')+1]\n",
    "    max_pg = int(pg_a.get_text())"
   ]
  },
  {
   "cell_type": "code",
   "execution_count": 93,
   "id": "95ec1d5b-993b-4610-96ec-407734becab2",
   "metadata": {},
   "outputs": [
    {
     "data": {
      "text/plain": [
       "'https://www.viamichelin.fr/web/Stations-service/Stations-service-Tchequie?page='"
      ]
     },
     "execution_count": 93,
     "metadata": {},
     "output_type": "execute_result"
    }
   ],
   "source": [
    "pgination_url "
   ]
  },
  {
   "cell_type": "code",
   "execution_count": 94,
   "id": "f11a467c-8d82-4115-ad9e-07840ef13c00",
   "metadata": {},
   "outputs": [
    {
     "data": {
      "text/plain": [
       "50"
      ]
     },
     "execution_count": 94,
     "metadata": {},
     "output_type": "execute_result"
    }
   ],
   "source": [
    "max_pg"
   ]
  },
  {
   "cell_type": "code",
   "execution_count": null,
   "id": "f425b7ed-a2d6-4e4c-bdae-8c980039ccdc",
   "metadata": {},
   "outputs": [],
   "source": []
  },
  {
   "cell_type": "code",
   "execution_count": 89,
   "id": "69976360-4371-4ad3-b2d0-27f0ce7e4c12",
   "metadata": {},
   "outputs": [
    {
     "data": {
      "text/plain": [
       "'https://www.viamichelin.fr/web/Stations-service/Stations-service-Tchequie?page='"
      ]
     },
     "execution_count": 89,
     "metadata": {},
     "output_type": "execute_result"
    }
   ],
   "source": [
    "pgination_url[0:pgination_url.index('=')+1]"
   ]
  },
  {
   "cell_type": "code",
   "execution_count": null,
   "id": "ecbcfac0-386d-4fdc-9176-8447cf619173",
   "metadata": {},
   "outputs": [],
   "source": []
  }
 ],
 "metadata": {
  "kernelspec": {
   "display_name": "route_env",
   "language": "python",
   "name": "route_env"
  },
  "language_info": {
   "codemirror_mode": {
    "name": "ipython",
    "version": 3
   },
   "file_extension": ".py",
   "mimetype": "text/x-python",
   "name": "python",
   "nbconvert_exporter": "python",
   "pygments_lexer": "ipython3",
   "version": "3.10.6"
  },
  "widgets": {
   "application/vnd.jupyter.widget-state+json": {
    "state": {},
    "version_major": 2,
    "version_minor": 0
   }
  }
 },
 "nbformat": 4,
 "nbformat_minor": 5
}

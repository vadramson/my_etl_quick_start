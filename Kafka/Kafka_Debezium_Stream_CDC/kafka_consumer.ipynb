{
 "cells": [
  {
   "cell_type": "code",
   "execution_count": null,
   "id": "44d42260-62ab-4838-9741-f1087aca31be",
   "metadata": {},
   "outputs": [
    {
     "name": "stdout",
     "output_type": "stream",
     "text": [
      "<kafka.consumer.group.KafkaConsumer object at 0x10a5b4fd0>\n",
      "Consumer Started\n",
      "Topic Name=testpy,Message=b'Hey'\n",
      "Topic Name=testpy,Message=b'All hail king Jesus'\n",
      "Topic Name=testpy,Message=b'All Good'\n",
      "Topic Name=testpy,Message=b'All seems to be good'\n"
     ]
    }
   ],
   "source": [
    "from kafka import KafkaConsumer\n",
    "\n",
    "# Define server with port\n",
    "bootstrap_servers = ['localhost:29092']\n",
    "\n",
    "# Define topic name from where the message will recieve\n",
    "topicName = 'testpy'\n",
    "\n",
    "# Initialize consumer variable\n",
    "consumer = KafkaConsumer (topicName , auto_offset_reset='earliest', bootstrap_servers = bootstrap_servers)\n",
    "\n",
    "print(consumer)\n",
    "print('Consumer Started')\n",
    "# Read and print message from consumer\n",
    "for msg in consumer:\n",
    "    print(\"Topic Name=%s,Message=%s\" % (msg.topic , msg.value))\n"
   ]
  },
  {
   "cell_type": "code",
   "execution_count": null,
   "id": "0107391c-7b4c-40df-b48a-5024cc550a19",
   "metadata": {},
   "outputs": [],
   "source": []
  }
 ],
 "metadata": {
  "kernelspec": {
   "display_name": "Python 3 (ipykernel)",
   "language": "python",
   "name": "python3"
  },
  "language_info": {
   "codemirror_mode": {
    "name": "ipython",
    "version": 3
   },
   "file_extension": ".py",
   "mimetype": "text/x-python",
   "name": "python",
   "nbconvert_exporter": "python",
   "pygments_lexer": "ipython3",
   "version": "3.10.9"
  }
 },
 "nbformat": 4,
 "nbformat_minor": 5
}

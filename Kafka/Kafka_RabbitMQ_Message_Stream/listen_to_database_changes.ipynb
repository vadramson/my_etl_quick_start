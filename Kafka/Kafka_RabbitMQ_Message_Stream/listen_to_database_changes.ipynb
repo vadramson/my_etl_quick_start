{
 "cells": [
  {
   "cell_type": "code",
   "execution_count": null,
   "id": "616a5afd-01da-4662-91ac-aaeb023dfe46",
   "metadata": {},
   "outputs": [
    {
     "name": "stdout",
     "output_type": "stream",
     "text": [
      "<kafka.consumer.group.KafkaConsumer object at 0x110ed36a0>\n",
      "Consumer Started\n",
      "Topic Name=rabbit-local-test-vad,Message=b'{\"transaction\": \"PAYMENT\", \"amount\": \"$125.0\", \"timestamp\": \"Wed Apr 5 10:49:20 CEST 2023\" }'\n",
      "{'transaction': 'PAYMENT', 'amount': '$125.0', 'timestamp': 'Wed Apr 5 10:49:20 CEST 2023'}\n",
      "Topic Name=rabbit-local-test-vad,Message=b'{\"transaction\": \"SALES\", \"amount\": \"$300.0\", \"timestamp\": \"Wed Apr 5 10:56:02 CEST 2023\" }'\n",
      "{'transaction': 'SALES', 'amount': '$300.0', 'timestamp': 'Wed Apr 5 10:56:02 CEST 2023'}\n"
     ]
    }
   ],
   "source": [
    "import json\n",
    "from kafka import KafkaConsumer\n",
    "\n",
    "# Define server with port\n",
    "bootstrap_servers = ['localhost:9092']\n",
    "\n",
    "# Define topic name from where the message will recieve\n",
    "topicName = 'rabbit-local-test-vad'\n",
    "\n",
    "# Initialize consumer variable\n",
    "consumer = KafkaConsumer (topicName , auto_offset_reset='earliest', bootstrap_servers = bootstrap_servers, group_id='rabbit_test_local_vad')\n",
    "\n",
    "print(consumer)\n",
    "print('Consumer Started')\n",
    "# Read and print message from consumer\n",
    "\n",
    "data = {}\n",
    "for msg in consumer:\n",
    "    #print(msg)\n",
    "    print(\"Topic Name=%s,Message=%s\" % (msg.topic , msg.value))\n",
    "    print(json.loads(msg.value))\n",
    "    "
   ]
  },
  {
   "cell_type": "code",
   "execution_count": null,
   "id": "370284b8-cb01-48f6-8913-6cc1c3006a95",
   "metadata": {},
   "outputs": [],
   "source": []
  }
 ],
 "metadata": {
  "kernelspec": {
   "display_name": "Python 3 (ipykernel)",
   "language": "python",
   "name": "python3"
  },
  "language_info": {
   "codemirror_mode": {
    "name": "ipython",
    "version": 3
   },
   "file_extension": ".py",
   "mimetype": "text/x-python",
   "name": "python",
   "nbconvert_exporter": "python",
   "pygments_lexer": "ipython3",
   "version": "3.10.9"
  }
 },
 "nbformat": 4,
 "nbformat_minor": 5
}
